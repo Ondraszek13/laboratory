{
  "nbformat": 4,
  "nbformat_minor": 0,
  "metadata": {
    "colab": {
      "name": "00.00 Python basics - References.ipynb",
      "provenance": [],
      "collapsed_sections": [],
      "toc_visible": true,
      "authorship_tag": "ABX9TyOnqy0rECOQbfaSbZ1qe8gY",
      "include_colab_link": true
    },
    "kernelspec": {
      "name": "python3",
      "display_name": "Python 3"
    }
  },
  "cells": [
    {
      "cell_type": "markdown",
      "metadata": {
        "id": "view-in-github",
        "colab_type": "text"
      },
      "source": [
        "<a href=\"https://colab.research.google.com/github/alexiej/laboratory/blob/master/00_00_Python_basics_References.ipynb\" target=\"_parent\"><img src=\"https://colab.research.google.com/assets/colab-badge.svg\" alt=\"Open In Colab\"/></a>"
      ]
    },
    {
      "cell_type": "markdown",
      "metadata": {
        "id": "5H_QvPVdt-5H",
        "colab_type": "text"
      },
      "source": [
        "# 1 References\n",
        "\n",
        "In Pythonn all is reference, and every it is creatted a new object"
      ]
    },
    {
      "cell_type": "code",
      "metadata": {
        "id": "bU1ylrcYt8Qr",
        "colab_type": "code",
        "outputId": "6fd80339-e44f-46d4-ffec-8c0462423c8b",
        "colab": {
          "base_uri": "https://localhost:8080/",
          "height": 51
        }
      },
      "source": [
        "X = [1,2,3]\n",
        "Y = [1,2,3]\n",
        "\n",
        "print(X==Y) # TRue\n",
        "print(X is Y) # False, not the same object"
      ],
      "execution_count": 1,
      "outputs": [
        {
          "output_type": "stream",
          "text": [
            "True\n",
            "False\n"
          ],
          "name": "stdout"
        }
      ]
    },
    {
      "cell_type": "markdown",
      "metadata": {
        "id": "8_yFHioCuOq1",
        "colab_type": "text"
      },
      "source": [
        "Number types, assign reference to the same object in the memory"
      ]
    },
    {
      "cell_type": "code",
      "metadata": {
        "id": "FEFJ7MX1tt4v",
        "colab_type": "code",
        "outputId": "1b448609-53aa-47cc-feaa-cb5f4c7f7284",
        "colab": {
          "base_uri": "https://localhost:8080/",
          "height": 51
        }
      },
      "source": [
        "X = 42\n",
        "Y = 42\n",
        "\n",
        "print(X==Y) # TRue\n",
        "print(X is Y) # True - ten sam obiekt, poniewaz typy liczbowe przypisuja referencje do tego samego obiektu w pamiecoi"
      ],
      "execution_count": 0,
      "outputs": [
        {
          "output_type": "stream",
          "text": [
            "True\n",
            "True\n"
          ],
          "name": "stdout"
        }
      ]
    },
    {
      "cell_type": "code",
      "metadata": {
        "id": "fseqMllmt0I-",
        "colab_type": "code",
        "outputId": "757e3f3b-7292-46ab-a8b4-eaf347755ff8",
        "colab": {
          "base_uri": "https://localhost:8080/",
          "height": 85
        }
      },
      "source": [
        "import sys\n",
        "print(sys.getrefcount(1)) #Number of references to object 1\n",
        "print(sys.getrefcount(42))  #Number of references to object 42, 42 is a number, and one of the refernce is X and Y.\n",
        "\n",
        "X = 'AB'\n",
        "Y = 'AB'\n",
        "print(X==Y) #True\n",
        "print(X is Y) #True, the same for the text we've got reference"
      ],
      "execution_count": 0,
      "outputs": [
        {
          "output_type": "stream",
          "text": [
            "15876\n",
            "54\n",
            "True\n",
            "True\n"
          ],
          "name": "stdout"
        }
      ]
    },
    {
      "cell_type": "code",
      "metadata": {
        "id": "8kr2V3C2uZvx",
        "colab_type": "code",
        "outputId": "513620d6-b63b-4f05-c6af-80765be1c427",
        "colab": {
          "base_uri": "https://localhost:8080/",
          "height": 34
        }
      },
      "source": [
        "Y = [1,2,3]\n",
        "print(sys.getrefcount(Y))"
      ],
      "execution_count": 0,
      "outputs": [
        {
          "output_type": "stream",
          "text": [
            "2\n"
          ],
          "name": "stdout"
        }
      ]
    },
    {
      "cell_type": "markdown",
      "metadata": {
        "id": "Joa6kMidu4d1",
        "colab_type": "text"
      },
      "source": [
        "# Globals, locals\n",
        "\n",
        "We've got global class `zip`, and local variable `zip`. The function operate on the local variable. But in the global we operate on global `zip`."
      ]
    },
    {
      "cell_type": "code",
      "metadata": {
        "id": "VjF3uOXeuu83",
        "colab_type": "code",
        "outputId": "cf5c0dbe-cf2b-466c-f01d-cf57b3d996ce",
        "colab": {
          "base_uri": "https://localhost:8080/",
          "height": 85
        }
      },
      "source": [
        "import builtins # buildin names, top space of the memmory\n",
        "dir(builtins)\n",
        "\n",
        "def zamien_zip():\n",
        "    zip = 'hahah'\n",
        "    print(zip)\n",
        "    \n",
        "zamien_zip() # 'hahah'\n",
        "print(zip)  #'<class 'zip'>\n",
        "\n",
        "\n",
        "X = 99\n",
        "def funX():\n",
        "    X = 88 # only local\n",
        "    print(X)\n",
        "\n",
        "funX(); print(X) # 88 99"
      ],
      "execution_count": 0,
      "outputs": [
        {
          "output_type": "stream",
          "text": [
            "hahah\n",
            "<class 'zip'>\n",
            "88\n",
            "99\n"
          ],
          "name": "stdout"
        }
      ]
    },
    {
      "cell_type": "markdown",
      "metadata": {
        "id": "uTcV9iR8vTsp",
        "colab_type": "text"
      },
      "source": [
        "We can set `global` variable in the function so we can operate on the global `X`"
      ]
    },
    {
      "cell_type": "code",
      "metadata": {
        "id": "-cGuJxoqu65X",
        "colab_type": "code",
        "outputId": "1fc2fb16-ffef-4017-9c9c-f0edfbfc584a",
        "colab": {
          "base_uri": "https://localhost:8080/",
          "height": 68
        }
      },
      "source": [
        "X = 99\n",
        "def funX2():\n",
        "    global X\n",
        "    X = 88\n",
        "    print(X)\n",
        "funX2(); print(X); # 88 88"
      ],
      "execution_count": 0,
      "outputs": [
        {
          "output_type": "stream",
          "text": [
            "88\n",
            "88\n",
            "34\n"
          ],
          "name": "stdout"
        }
      ]
    },
    {
      "cell_type": "code",
      "metadata": {
        "id": "jKAoFipQvOOH",
        "colab_type": "code",
        "outputId": "55678740-28b5-4ebf-d03c-dbfbdd5f83dd",
        "colab": {
          "base_uri": "https://localhost:8080/",
          "height": 68
        }
      },
      "source": [
        "try:\n",
        "  del z; # z is not defined\n",
        "except:\n",
        "  pass\n",
        "\n",
        "def fun3():\n",
        "    global z\n",
        "    z = 34\n",
        "    print('z was defined and equal to', z)\n",
        "\n",
        "try:\n",
        "  print(z); # z is not defined\n",
        "except NameError as e:\n",
        "  print(e)\n",
        "  \n",
        "fun3(); print(z); # 34"
      ],
      "execution_count": 0,
      "outputs": [
        {
          "output_type": "stream",
          "text": [
            "name 'z' is not defined\n",
            "z was defined and equal 34\n",
            "34\n"
          ],
          "name": "stdout"
        }
      ]
    },
    {
      "cell_type": "markdown",
      "metadata": {
        "id": "SEvVUl7Zxwwt",
        "colab_type": "text"
      },
      "source": [
        "# IMPORT Local, global variables, sys.modules"
      ]
    },
    {
      "cell_type": "code",
      "metadata": {
        "id": "wMP6AkIow7A3",
        "colab_type": "code",
        "outputId": "7a24fc00-ef30-4294-c740-c6e2a3f42a16",
        "colab": {
          "base_uri": "https://localhost:8080/",
          "height": 34
        }
      },
      "source": [
        "%%writefile script.py\n",
        "\"\"\"\n",
        "Dokuentacja do print.py\n",
        "\n",
        "\"\"\"\n",
        "print('hello world')\n",
        "\n",
        "title = 'helo world'\n",
        "title2 = 'mmma'\n",
        "\n",
        "\n",
        "def fun(x):\n",
        "    \"\"\"\n",
        "    Dokumentacja funkcji fun(x)\n",
        "    \"\"\"\n",
        "    return x**2\n",
        "\n",
        "class Employee:\n",
        "    \"dokumentacja klasy\"\n",
        "    pass"
      ],
      "execution_count": 0,
      "outputs": [
        {
          "output_type": "stream",
          "text": [
            "Overwriting script.py\n"
          ],
          "name": "stdout"
        }
      ]
    },
    {
      "cell_type": "code",
      "metadata": {
        "id": "vOa5QiGlvg8s",
        "colab_type": "code",
        "outputId": "5df6d915-2df7-4df0-d4a6-a9a7afa99f23",
        "colab": {
          "base_uri": "https://localhost:8080/",
          "height": 374
        }
      },
      "source": [
        "!cat script.py\n",
        "\n",
        "import script\n",
        "import sys\n",
        "\n",
        "print(script.title)\n",
        "script.title = '123'\n",
        "print(script.title)\n",
        "\n",
        "glob = sys.modules['script']\n",
        "glob.title = '431'\n",
        "print(script.title)"
      ],
      "execution_count": 0,
      "outputs": [
        {
          "output_type": "stream",
          "text": [
            "\"\"\"\n",
            "Dokuentacja do print.py\n",
            "\n",
            "\"\"\"\n",
            "print('hello world')\n",
            "\n",
            "title = 'helo world'\n",
            "title2 = 'mmma'\n",
            "\n",
            "\n",
            "def fun(x):\n",
            "    \"\"\"\n",
            "    Dokumentacja funkcji fun(x)\n",
            "    \"\"\"\n",
            "    return x**2\n",
            "\n",
            "class Employee:\n",
            "    \"dokumentacja klasy\"\n",
            "    pass123\n",
            "123\n",
            "431\n"
          ],
          "name": "stdout"
        }
      ]
    },
    {
      "cell_type": "code",
      "metadata": {
        "id": "NdGG-aRMwg_5",
        "colab_type": "code",
        "colab": {}
      },
      "source": [
        ""
      ],
      "execution_count": 0,
      "outputs": []
    }
  ]
}