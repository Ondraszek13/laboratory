{
 "cells": [
  {
   "cell_type": "markdown",
   "metadata": {},
   "source": [
    "# Część 1.  Import danych"
   ]
  },
  {
   "cell_type": "code",
   "execution_count": 1,
   "metadata": {},
   "outputs": [
    {
     "name": "stderr",
     "output_type": "stream",
     "text": [
      "-- Attaching packages --------------------------------------- tidyverse 1.2.1 --\n",
      "v ggplot2 3.0.0     v purrr   0.2.5\n",
      "v tibble  1.4.2     v dplyr   0.7.6\n",
      "v tidyr   0.8.1     v stringr 1.3.1\n",
      "v readr   1.1.1     v forcats 0.3.0\n",
      "-- Conflicts ------------------------------------------ tidyverse_conflicts() --\n",
      "x dplyr::filter() masks stats::filter()\n",
      "x dplyr::lag()    masks stats::lag()\n",
      "Warning message:\n",
      "\"Missing column names filled in: 'X33' [33]\"Parsed with column specification:\n",
      "cols(\n",
      "  .default = col_double(),\n",
      "  id = col_integer(),\n",
      "  diagnosis = col_character(),\n",
      "  X33 = col_character()\n",
      ")\n",
      "See spec(...) for full column specifications.\n",
      "Warning message in rbind(names(probs), probs_f):\n",
      "\"number of columns of result is not a multiple of vector length (arg 1)\"Warning message:\n",
      "\"569 parsing failures.\n",
      "row # A tibble: 5 x 5 col     row col   expected   actual     file       expected   <int> <chr> <chr>      <chr>      <chr>      actual 1     1 <NA>  33 columns 32 columns 'data.csv' file 2     2 <NA>  33 columns 32 columns 'data.csv' row 3     3 <NA>  33 columns 32 columns 'data.csv' col 4     4 <NA>  33 columns 32 columns 'data.csv' expected 5     5 <NA>  33 columns 32 columns 'data.csv'\n",
      "... ................. ... .............................................. ........ .............................................. ...... .............................................. .... .............................................. ... .............................................. ... .............................................. ........ ..............................................\n",
      "See problems(...) for more details.\n",
      "\""
     ]
    },
    {
     "data": {
      "text/plain": [
       "       id             diagnosis          radius_mean      texture_mean  \n",
       " Min.   :     8670   Length:569         Min.   : 6.981   Min.   : 9.71  \n",
       " 1st Qu.:   869218   Class :character   1st Qu.:11.700   1st Qu.:16.17  \n",
       " Median :   906024   Mode  :character   Median :13.370   Median :18.84  \n",
       " Mean   : 30371831                      Mean   :14.127   Mean   :19.29  \n",
       " 3rd Qu.:  8813129                      3rd Qu.:15.780   3rd Qu.:21.80  \n",
       " Max.   :911320502                      Max.   :28.110   Max.   :39.28  \n",
       " perimeter_mean     area_mean      smoothness_mean   compactness_mean \n",
       " Min.   : 43.79   Min.   : 143.5   Min.   :0.05263   Min.   :0.01938  \n",
       " 1st Qu.: 75.17   1st Qu.: 420.3   1st Qu.:0.08637   1st Qu.:0.06492  \n",
       " Median : 86.24   Median : 551.1   Median :0.09587   Median :0.09263  \n",
       " Mean   : 91.97   Mean   : 654.9   Mean   :0.09636   Mean   :0.10434  \n",
       " 3rd Qu.:104.10   3rd Qu.: 782.7   3rd Qu.:0.10530   3rd Qu.:0.13040  \n",
       " Max.   :188.50   Max.   :2501.0   Max.   :0.16340   Max.   :0.34540  \n",
       " concavity_mean    concave points_mean symmetry_mean    fractal_dimension_mean\n",
       " Min.   :0.00000   Min.   :0.00000     Min.   :0.1060   Min.   :0.04996       \n",
       " 1st Qu.:0.02956   1st Qu.:0.02031     1st Qu.:0.1619   1st Qu.:0.05770       \n",
       " Median :0.06154   Median :0.03350     Median :0.1792   Median :0.06154       \n",
       " Mean   :0.08880   Mean   :0.04892     Mean   :0.1812   Mean   :0.06280       \n",
       " 3rd Qu.:0.13070   3rd Qu.:0.07400     3rd Qu.:0.1957   3rd Qu.:0.06612       \n",
       " Max.   :0.42680   Max.   :0.20120     Max.   :0.3040   Max.   :0.09744       \n",
       "   radius_se        texture_se      perimeter_se       area_se       \n",
       " Min.   :0.1115   Min.   :0.3602   Min.   : 0.757   Min.   :  6.802  \n",
       " 1st Qu.:0.2324   1st Qu.:0.8339   1st Qu.: 1.606   1st Qu.: 17.850  \n",
       " Median :0.3242   Median :1.1080   Median : 2.287   Median : 24.530  \n",
       " Mean   :0.4052   Mean   :1.2169   Mean   : 2.866   Mean   : 40.337  \n",
       " 3rd Qu.:0.4789   3rd Qu.:1.4740   3rd Qu.: 3.357   3rd Qu.: 45.190  \n",
       " Max.   :2.8730   Max.   :4.8850   Max.   :21.980   Max.   :542.200  \n",
       " smoothness_se      compactness_se      concavity_se     concave points_se \n",
       " Min.   :0.001713   Min.   :0.002252   Min.   :0.00000   Min.   :0.000000  \n",
       " 1st Qu.:0.005169   1st Qu.:0.013080   1st Qu.:0.01509   1st Qu.:0.007638  \n",
       " Median :0.006380   Median :0.020450   Median :0.02589   Median :0.010930  \n",
       " Mean   :0.007041   Mean   :0.025478   Mean   :0.03189   Mean   :0.011796  \n",
       " 3rd Qu.:0.008146   3rd Qu.:0.032450   3rd Qu.:0.04205   3rd Qu.:0.014710  \n",
       " Max.   :0.031130   Max.   :0.135400   Max.   :0.39600   Max.   :0.052790  \n",
       "  symmetry_se       fractal_dimension_se  radius_worst   texture_worst  \n",
       " Min.   :0.007882   Min.   :0.0008948    Min.   : 7.93   Min.   :12.02  \n",
       " 1st Qu.:0.015160   1st Qu.:0.0022480    1st Qu.:13.01   1st Qu.:21.08  \n",
       " Median :0.018730   Median :0.0031870    Median :14.97   Median :25.41  \n",
       " Mean   :0.020542   Mean   :0.0037949    Mean   :16.27   Mean   :25.68  \n",
       " 3rd Qu.:0.023480   3rd Qu.:0.0045580    3rd Qu.:18.79   3rd Qu.:29.72  \n",
       " Max.   :0.078950   Max.   :0.0298400    Max.   :36.04   Max.   :49.54  \n",
       " perimeter_worst    area_worst     smoothness_worst  compactness_worst\n",
       " Min.   : 50.41   Min.   : 185.2   Min.   :0.07117   Min.   :0.02729  \n",
       " 1st Qu.: 84.11   1st Qu.: 515.3   1st Qu.:0.11660   1st Qu.:0.14720  \n",
       " Median : 97.66   Median : 686.5   Median :0.13130   Median :0.21190  \n",
       " Mean   :107.26   Mean   : 880.6   Mean   :0.13237   Mean   :0.25427  \n",
       " 3rd Qu.:125.40   3rd Qu.:1084.0   3rd Qu.:0.14600   3rd Qu.:0.33910  \n",
       " Max.   :251.20   Max.   :4254.0   Max.   :0.22260   Max.   :1.05800  \n",
       " concavity_worst  concave points_worst symmetry_worst   fractal_dimension_worst\n",
       " Min.   :0.0000   Min.   :0.00000      Min.   :0.1565   Min.   :0.05504        \n",
       " 1st Qu.:0.1145   1st Qu.:0.06493      1st Qu.:0.2504   1st Qu.:0.07146        \n",
       " Median :0.2267   Median :0.09993      Median :0.2822   Median :0.08004        \n",
       " Mean   :0.2722   Mean   :0.11461      Mean   :0.2901   Mean   :0.08395        \n",
       " 3rd Qu.:0.3829   3rd Qu.:0.16140      3rd Qu.:0.3179   3rd Qu.:0.09208        \n",
       " Max.   :1.2520   Max.   :0.29100      Max.   :0.6638   Max.   :0.20750        \n",
       "     X33           \n",
       " Length:569        \n",
       " Class :character  \n",
       " Mode  :character  \n",
       "                   \n",
       "                   \n",
       "                   "
      ]
     },
     "metadata": {},
     "output_type": "display_data"
    },
    {
     "name": "stderr",
     "output_type": "stream",
     "text": [
      "\n",
      "Attaching package: 'psych'\n",
      "\n",
      "The following objects are masked from 'package:ggplot2':\n",
      "\n",
      "    %+%, alpha\n",
      "\n",
      "Warning message in describe(df):\n",
      "\"NAs introduced by coercion\"Warning message in FUN(newX[, i], ...):\n",
      "\"no non-missing arguments to min; returning Inf\"Warning message in FUN(newX[, i], ...):\n",
      "\"no non-missing arguments to min; returning Inf\"Warning message in FUN(newX[, i], ...):\n",
      "\"no non-missing arguments to max; returning -Inf\"Warning message in FUN(newX[, i], ...):\n",
      "\"no non-missing arguments to max; returning -Inf\""
     ]
    },
    {
     "data": {
      "text/html": [
       "<table>\n",
       "<thead><tr><th></th><th scope=col>vars</th><th scope=col>n</th><th scope=col>mean</th><th scope=col>sd</th><th scope=col>median</th><th scope=col>trimmed</th><th scope=col>mad</th><th scope=col>min</th><th scope=col>max</th><th scope=col>range</th><th scope=col>skew</th><th scope=col>kurtosis</th><th scope=col>se</th></tr></thead>\n",
       "<tbody>\n",
       "\t<tr><th scope=row>id</th><td> 1          </td><td>569         </td><td>30371831.43 </td><td>125020585.61</td><td>906024.00   </td><td>7344332.77  </td><td>65567.99    </td><td>8670.00     </td><td>911320502.00</td><td>911311832.00</td><td>6.44        </td><td>41.66       </td><td>5241135.60  </td></tr>\n",
       "\t<tr><th scope=row>diagnosis*</th><td> 2          </td><td>569         </td><td>        NaN </td><td>          NA</td><td>       NA   </td><td>       NaN  </td><td>      NA    </td><td>    Inf     </td><td>        -Inf</td><td>        -Inf</td><td>  NA        </td><td>   NA       </td><td>        NA  </td></tr>\n",
       "\t<tr><th scope=row>radius_mean</th><td> 3          </td><td>569         </td><td>      14.13 </td><td>        3.52</td><td>    13.37   </td><td>     13.82  </td><td>    2.82    </td><td>   6.98     </td><td>       28.11</td><td>       21.13</td><td>0.94        </td><td> 0.81       </td><td>      0.15  </td></tr>\n",
       "\t<tr><th scope=row>texture_mean</th><td> 4          </td><td>569         </td><td>      19.29 </td><td>        4.30</td><td>    18.84   </td><td>     19.04  </td><td>    4.17    </td><td>   9.71     </td><td>       39.28</td><td>       29.57</td><td>0.65        </td><td> 0.73       </td><td>      0.18  </td></tr>\n",
       "\t<tr><th scope=row>perimeter_mean</th><td> 5          </td><td>569         </td><td>      91.97 </td><td>       24.30</td><td>    86.24   </td><td>     89.74  </td><td>   18.84    </td><td>  43.79     </td><td>      188.50</td><td>      144.71</td><td>0.99        </td><td> 0.94       </td><td>      1.02  </td></tr>\n",
       "\t<tr><th scope=row>area_mean</th><td> 6          </td><td>569         </td><td>     654.89 </td><td>      351.91</td><td>   551.10   </td><td>    606.13  </td><td>  227.28    </td><td> 143.50     </td><td>     2501.00</td><td>     2357.50</td><td>1.64        </td><td> 3.59       </td><td>     14.75  </td></tr>\n",
       "\t<tr><th scope=row>smoothness_mean</th><td> 7          </td><td>569         </td><td>       0.10 </td><td>        0.01</td><td>     0.10   </td><td>      0.10  </td><td>    0.01    </td><td>   0.05     </td><td>        0.16</td><td>        0.11</td><td>0.45        </td><td> 0.82       </td><td>      0.00  </td></tr>\n",
       "\t<tr><th scope=row>compactness_mean</th><td> 8          </td><td>569         </td><td>       0.10 </td><td>        0.05</td><td>     0.09   </td><td>      0.10  </td><td>    0.05    </td><td>   0.02     </td><td>        0.35</td><td>        0.33</td><td>1.18        </td><td> 1.61       </td><td>      0.00  </td></tr>\n",
       "\t<tr><th scope=row>concavity_mean</th><td> 9          </td><td>569         </td><td>       0.09 </td><td>        0.08</td><td>     0.06   </td><td>      0.08  </td><td>    0.06    </td><td>   0.00     </td><td>        0.43</td><td>        0.43</td><td>1.39        </td><td> 1.95       </td><td>      0.00  </td></tr>\n",
       "\t<tr><th scope=row>concave points_mean</th><td>10          </td><td>569         </td><td>       0.05 </td><td>        0.04</td><td>     0.03   </td><td>      0.04  </td><td>    0.03    </td><td>   0.00     </td><td>        0.20</td><td>        0.20</td><td>1.17        </td><td> 1.03       </td><td>      0.00  </td></tr>\n",
       "\t<tr><th scope=row>symmetry_mean</th><td>11          </td><td>569         </td><td>       0.18 </td><td>        0.03</td><td>     0.18   </td><td>      0.18  </td><td>    0.03    </td><td>   0.11     </td><td>        0.30</td><td>        0.20</td><td>0.72        </td><td> 1.25       </td><td>      0.00  </td></tr>\n",
       "\t<tr><th scope=row>fractal_dimension_mean</th><td>12          </td><td>569         </td><td>       0.06 </td><td>        0.01</td><td>     0.06   </td><td>      0.06  </td><td>    0.01    </td><td>   0.05     </td><td>        0.10</td><td>        0.05</td><td>1.30        </td><td> 2.95       </td><td>      0.00  </td></tr>\n",
       "\t<tr><th scope=row>radius_se</th><td>13          </td><td>569         </td><td>       0.41 </td><td>        0.28</td><td>     0.32   </td><td>      0.36  </td><td>    0.16    </td><td>   0.11     </td><td>        2.87</td><td>        2.76</td><td>3.07        </td><td>17.45       </td><td>      0.01  </td></tr>\n",
       "\t<tr><th scope=row>texture_se</th><td>14          </td><td>569         </td><td>       1.22 </td><td>        0.55</td><td>     1.11   </td><td>      1.16  </td><td>    0.47    </td><td>   0.36     </td><td>        4.88</td><td>        4.52</td><td>1.64        </td><td> 5.26       </td><td>      0.02  </td></tr>\n",
       "\t<tr><th scope=row>perimeter_se</th><td>15          </td><td>569         </td><td>       2.87 </td><td>        2.02</td><td>     2.29   </td><td>      2.51  </td><td>    1.14    </td><td>   0.76     </td><td>       21.98</td><td>       21.22</td><td>3.43        </td><td>21.12       </td><td>      0.08  </td></tr>\n",
       "\t<tr><th scope=row>area_se</th><td>16          </td><td>569         </td><td>      40.34 </td><td>       45.49</td><td>    24.53   </td><td>     31.69  </td><td>   13.63    </td><td>   6.80     </td><td>      542.20</td><td>      535.40</td><td>5.42        </td><td>48.59       </td><td>      1.91  </td></tr>\n",
       "\t<tr><th scope=row>smoothness_se</th><td>17          </td><td>569         </td><td>       0.01 </td><td>        0.00</td><td>     0.01   </td><td>      0.01  </td><td>    0.00    </td><td>   0.00     </td><td>        0.03</td><td>        0.03</td><td>2.30        </td><td>10.32       </td><td>      0.00  </td></tr>\n",
       "\t<tr><th scope=row>compactness_se</th><td>18          </td><td>569         </td><td>       0.03 </td><td>        0.02</td><td>     0.02   </td><td>      0.02  </td><td>    0.01    </td><td>   0.00     </td><td>        0.14</td><td>        0.13</td><td>1.89        </td><td> 5.02       </td><td>      0.00  </td></tr>\n",
       "\t<tr><th scope=row>concavity_se</th><td>19          </td><td>569         </td><td>       0.03 </td><td>        0.03</td><td>     0.03   </td><td>      0.03  </td><td>    0.02    </td><td>   0.00     </td><td>        0.40</td><td>        0.40</td><td>5.08        </td><td>48.24       </td><td>      0.00  </td></tr>\n",
       "\t<tr><th scope=row>concave points_se</th><td>20          </td><td>569         </td><td>       0.01 </td><td>        0.01</td><td>     0.01   </td><td>      0.01  </td><td>    0.01    </td><td>   0.00     </td><td>        0.05</td><td>        0.05</td><td>1.44        </td><td> 5.04       </td><td>      0.00  </td></tr>\n",
       "\t<tr><th scope=row>symmetry_se</th><td>21          </td><td>569         </td><td>       0.02 </td><td>        0.01</td><td>     0.02   </td><td>      0.02  </td><td>    0.01    </td><td>   0.01     </td><td>        0.08</td><td>        0.07</td><td>2.18        </td><td> 7.78       </td><td>      0.00  </td></tr>\n",
       "\t<tr><th scope=row>fractal_dimension_se</th><td>22          </td><td>569         </td><td>       0.00 </td><td>        0.00</td><td>     0.00   </td><td>      0.00  </td><td>    0.00    </td><td>   0.00     </td><td>        0.03</td><td>        0.03</td><td>3.90        </td><td>25.94       </td><td>      0.00  </td></tr>\n",
       "\t<tr><th scope=row>radius_worst</th><td>23          </td><td>569         </td><td>      16.27 </td><td>        4.83</td><td>    14.97   </td><td>     15.73  </td><td>    3.65    </td><td>   7.93     </td><td>       36.04</td><td>       28.11</td><td>1.10        </td><td> 0.91       </td><td>      0.20  </td></tr>\n",
       "\t<tr><th scope=row>texture_worst</th><td>24          </td><td>569         </td><td>      25.68 </td><td>        6.15</td><td>    25.41   </td><td>     25.39  </td><td>    6.42    </td><td>  12.02     </td><td>       49.54</td><td>       37.52</td><td>0.50        </td><td> 0.20       </td><td>      0.26  </td></tr>\n",
       "\t<tr><th scope=row>perimeter_worst</th><td>25          </td><td>569         </td><td>     107.26 </td><td>       33.60</td><td>    97.66   </td><td>    103.42  </td><td>   25.01    </td><td>  50.41     </td><td>      251.20</td><td>      200.79</td><td>1.12        </td><td> 1.04       </td><td>      1.41  </td></tr>\n",
       "\t<tr><th scope=row>area_worst</th><td>26          </td><td>569         </td><td>     880.58 </td><td>      569.36</td><td>   686.50   </td><td>    788.02  </td><td>  319.65    </td><td> 185.20     </td><td>     4254.00</td><td>     4068.80</td><td>1.85        </td><td> 4.32       </td><td>     23.87  </td></tr>\n",
       "\t<tr><th scope=row>smoothness_worst</th><td>27          </td><td>569         </td><td>       0.13 </td><td>        0.02</td><td>     0.13   </td><td>      0.13  </td><td>    0.02    </td><td>   0.07     </td><td>        0.22</td><td>        0.15</td><td>0.41        </td><td> 0.49       </td><td>      0.00  </td></tr>\n",
       "\t<tr><th scope=row>compactness_worst</th><td>28          </td><td>569         </td><td>       0.25 </td><td>        0.16</td><td>     0.21   </td><td>      0.23  </td><td>    0.13    </td><td>   0.03     </td><td>        1.06</td><td>        1.03</td><td>1.47        </td><td> 2.98       </td><td>      0.01  </td></tr>\n",
       "\t<tr><th scope=row>concavity_worst</th><td>29          </td><td>569         </td><td>       0.27 </td><td>        0.21</td><td>     0.23   </td><td>      0.25  </td><td>    0.20    </td><td>   0.00     </td><td>        1.25</td><td>        1.25</td><td>1.14        </td><td> 1.57       </td><td>      0.01  </td></tr>\n",
       "\t<tr><th scope=row>concave points_worst</th><td>30          </td><td>569         </td><td>       0.11 </td><td>        0.07</td><td>     0.10   </td><td>      0.11  </td><td>    0.07    </td><td>   0.00     </td><td>        0.29</td><td>        0.29</td><td>0.49        </td><td>-0.55       </td><td>      0.00  </td></tr>\n",
       "\t<tr><th scope=row>symmetry_worst</th><td>31          </td><td>569         </td><td>       0.29 </td><td>        0.06</td><td>     0.28   </td><td>      0.28  </td><td>    0.05    </td><td>   0.16     </td><td>        0.66</td><td>        0.51</td><td>1.43        </td><td> 4.37       </td><td>      0.00  </td></tr>\n",
       "\t<tr><th scope=row>fractal_dimension_worst</th><td>32          </td><td>569         </td><td>       0.08 </td><td>        0.02</td><td>     0.08   </td><td>      0.08  </td><td>    0.01    </td><td>   0.06     </td><td>        0.21</td><td>        0.15</td><td>1.65        </td><td> 5.16       </td><td>      0.00  </td></tr>\n",
       "\t<tr><th scope=row>X33*</th><td>33          </td><td>  0         </td><td>        NaN </td><td>          NA</td><td>       NA   </td><td>       NaN  </td><td>      NA    </td><td>    Inf     </td><td>        -Inf</td><td>        -Inf</td><td>  NA        </td><td>   NA       </td><td>        NA  </td></tr>\n",
       "</tbody>\n",
       "</table>\n"
      ],
      "text/latex": [
       "\\begin{tabular}{r|lllllllllllll}\n",
       "  & vars & n & mean & sd & median & trimmed & mad & min & max & range & skew & kurtosis & se\\\\\n",
       "\\hline\n",
       "\tid &  1           & 569          & 30371831.43  & 125020585.61 & 906024.00    & 7344332.77   & 65567.99     & 8670.00      & 911320502.00 & 911311832.00 & 6.44         & 41.66        & 5241135.60  \\\\\n",
       "\tdiagnosis* &  2           & 569          &         NaN  &           NA &        NA    &        NaN   &       NA     &     Inf      &         -Inf &         -Inf &   NA         &    NA        &         NA  \\\\\n",
       "\tradius\\_mean &  3           & 569          &       14.13  &         3.52 &     13.37    &      13.82   &     2.82     &    6.98      &        28.11 &        21.13 & 0.94         &  0.81        &       0.15  \\\\\n",
       "\ttexture\\_mean &  4           & 569          &       19.29  &         4.30 &     18.84    &      19.04   &     4.17     &    9.71      &        39.28 &        29.57 & 0.65         &  0.73        &       0.18  \\\\\n",
       "\tperimeter\\_mean &  5           & 569          &       91.97  &        24.30 &     86.24    &      89.74   &    18.84     &   43.79      &       188.50 &       144.71 & 0.99         &  0.94        &       1.02  \\\\\n",
       "\tarea\\_mean &  6           & 569          &      654.89  &       351.91 &    551.10    &     606.13   &   227.28     &  143.50      &      2501.00 &      2357.50 & 1.64         &  3.59        &      14.75  \\\\\n",
       "\tsmoothness\\_mean &  7           & 569          &        0.10  &         0.01 &      0.10    &       0.10   &     0.01     &    0.05      &         0.16 &         0.11 & 0.45         &  0.82        &       0.00  \\\\\n",
       "\tcompactness\\_mean &  8           & 569          &        0.10  &         0.05 &      0.09    &       0.10   &     0.05     &    0.02      &         0.35 &         0.33 & 1.18         &  1.61        &       0.00  \\\\\n",
       "\tconcavity\\_mean &  9           & 569          &        0.09  &         0.08 &      0.06    &       0.08   &     0.06     &    0.00      &         0.43 &         0.43 & 1.39         &  1.95        &       0.00  \\\\\n",
       "\tconcave points\\_mean & 10           & 569          &        0.05  &         0.04 &      0.03    &       0.04   &     0.03     &    0.00      &         0.20 &         0.20 & 1.17         &  1.03        &       0.00  \\\\\n",
       "\tsymmetry\\_mean & 11           & 569          &        0.18  &         0.03 &      0.18    &       0.18   &     0.03     &    0.11      &         0.30 &         0.20 & 0.72         &  1.25        &       0.00  \\\\\n",
       "\tfractal\\_dimension\\_mean & 12           & 569          &        0.06  &         0.01 &      0.06    &       0.06   &     0.01     &    0.05      &         0.10 &         0.05 & 1.30         &  2.95        &       0.00  \\\\\n",
       "\tradius\\_se & 13           & 569          &        0.41  &         0.28 &      0.32    &       0.36   &     0.16     &    0.11      &         2.87 &         2.76 & 3.07         & 17.45        &       0.01  \\\\\n",
       "\ttexture\\_se & 14           & 569          &        1.22  &         0.55 &      1.11    &       1.16   &     0.47     &    0.36      &         4.88 &         4.52 & 1.64         &  5.26        &       0.02  \\\\\n",
       "\tperimeter\\_se & 15           & 569          &        2.87  &         2.02 &      2.29    &       2.51   &     1.14     &    0.76      &        21.98 &        21.22 & 3.43         & 21.12        &       0.08  \\\\\n",
       "\tarea\\_se & 16           & 569          &       40.34  &        45.49 &     24.53    &      31.69   &    13.63     &    6.80      &       542.20 &       535.40 & 5.42         & 48.59        &       1.91  \\\\\n",
       "\tsmoothness\\_se & 17           & 569          &        0.01  &         0.00 &      0.01    &       0.01   &     0.00     &    0.00      &         0.03 &         0.03 & 2.30         & 10.32        &       0.00  \\\\\n",
       "\tcompactness\\_se & 18           & 569          &        0.03  &         0.02 &      0.02    &       0.02   &     0.01     &    0.00      &         0.14 &         0.13 & 1.89         &  5.02        &       0.00  \\\\\n",
       "\tconcavity\\_se & 19           & 569          &        0.03  &         0.03 &      0.03    &       0.03   &     0.02     &    0.00      &         0.40 &         0.40 & 5.08         & 48.24        &       0.00  \\\\\n",
       "\tconcave points\\_se & 20           & 569          &        0.01  &         0.01 &      0.01    &       0.01   &     0.01     &    0.00      &         0.05 &         0.05 & 1.44         &  5.04        &       0.00  \\\\\n",
       "\tsymmetry\\_se & 21           & 569          &        0.02  &         0.01 &      0.02    &       0.02   &     0.01     &    0.01      &         0.08 &         0.07 & 2.18         &  7.78        &       0.00  \\\\\n",
       "\tfractal\\_dimension\\_se & 22           & 569          &        0.00  &         0.00 &      0.00    &       0.00   &     0.00     &    0.00      &         0.03 &         0.03 & 3.90         & 25.94        &       0.00  \\\\\n",
       "\tradius\\_worst & 23           & 569          &       16.27  &         4.83 &     14.97    &      15.73   &     3.65     &    7.93      &        36.04 &        28.11 & 1.10         &  0.91        &       0.20  \\\\\n",
       "\ttexture\\_worst & 24           & 569          &       25.68  &         6.15 &     25.41    &      25.39   &     6.42     &   12.02      &        49.54 &        37.52 & 0.50         &  0.20        &       0.26  \\\\\n",
       "\tperimeter\\_worst & 25           & 569          &      107.26  &        33.60 &     97.66    &     103.42   &    25.01     &   50.41      &       251.20 &       200.79 & 1.12         &  1.04        &       1.41  \\\\\n",
       "\tarea\\_worst & 26           & 569          &      880.58  &       569.36 &    686.50    &     788.02   &   319.65     &  185.20      &      4254.00 &      4068.80 & 1.85         &  4.32        &      23.87  \\\\\n",
       "\tsmoothness\\_worst & 27           & 569          &        0.13  &         0.02 &      0.13    &       0.13   &     0.02     &    0.07      &         0.22 &         0.15 & 0.41         &  0.49        &       0.00  \\\\\n",
       "\tcompactness\\_worst & 28           & 569          &        0.25  &         0.16 &      0.21    &       0.23   &     0.13     &    0.03      &         1.06 &         1.03 & 1.47         &  2.98        &       0.01  \\\\\n",
       "\tconcavity\\_worst & 29           & 569          &        0.27  &         0.21 &      0.23    &       0.25   &     0.20     &    0.00      &         1.25 &         1.25 & 1.14         &  1.57        &       0.01  \\\\\n",
       "\tconcave points\\_worst & 30           & 569          &        0.11  &         0.07 &      0.10    &       0.11   &     0.07     &    0.00      &         0.29 &         0.29 & 0.49         & -0.55        &       0.00  \\\\\n",
       "\tsymmetry\\_worst & 31           & 569          &        0.29  &         0.06 &      0.28    &       0.28   &     0.05     &    0.16      &         0.66 &         0.51 & 1.43         &  4.37        &       0.00  \\\\\n",
       "\tfractal\\_dimension\\_worst & 32           & 569          &        0.08  &         0.02 &      0.08    &       0.08   &     0.01     &    0.06      &         0.21 &         0.15 & 1.65         &  5.16        &       0.00  \\\\\n",
       "\tX33* & 33           &   0          &         NaN  &           NA &        NA    &        NaN   &       NA     &     Inf      &         -Inf &         -Inf &   NA         &    NA        &         NA  \\\\\n",
       "\\end{tabular}\n"
      ],
      "text/markdown": [
       "\n",
       "| <!--/--> | vars | n | mean | sd | median | trimmed | mad | min | max | range | skew | kurtosis | se | \n",
       "|---|---|---|---|---|---|---|---|---|---|---|---|---|---|---|---|---|---|---|---|---|---|---|---|---|---|---|---|---|---|---|---|---|\n",
       "| id |  1           | 569          | 30371831.43  | 125020585.61 | 906024.00    | 7344332.77   | 65567.99     | 8670.00      | 911320502.00 | 911311832.00 | 6.44         | 41.66        | 5241135.60   | \n",
       "| diagnosis* |  2           | 569          |         NaN  |           NA |        NA    |        NaN   |       NA     |     Inf      |         -Inf |         -Inf |   NA         |    NA        |         NA   | \n",
       "| radius_mean |  3           | 569          |       14.13  |         3.52 |     13.37    |      13.82   |     2.82     |    6.98      |        28.11 |        21.13 | 0.94         |  0.81        |       0.15   | \n",
       "| texture_mean |  4           | 569          |       19.29  |         4.30 |     18.84    |      19.04   |     4.17     |    9.71      |        39.28 |        29.57 | 0.65         |  0.73        |       0.18   | \n",
       "| perimeter_mean |  5           | 569          |       91.97  |        24.30 |     86.24    |      89.74   |    18.84     |   43.79      |       188.50 |       144.71 | 0.99         |  0.94        |       1.02   | \n",
       "| area_mean |  6           | 569          |      654.89  |       351.91 |    551.10    |     606.13   |   227.28     |  143.50      |      2501.00 |      2357.50 | 1.64         |  3.59        |      14.75   | \n",
       "| smoothness_mean |  7           | 569          |        0.10  |         0.01 |      0.10    |       0.10   |     0.01     |    0.05      |         0.16 |         0.11 | 0.45         |  0.82        |       0.00   | \n",
       "| compactness_mean |  8           | 569          |        0.10  |         0.05 |      0.09    |       0.10   |     0.05     |    0.02      |         0.35 |         0.33 | 1.18         |  1.61        |       0.00   | \n",
       "| concavity_mean |  9           | 569          |        0.09  |         0.08 |      0.06    |       0.08   |     0.06     |    0.00      |         0.43 |         0.43 | 1.39         |  1.95        |       0.00   | \n",
       "| concave points_mean | 10           | 569          |        0.05  |         0.04 |      0.03    |       0.04   |     0.03     |    0.00      |         0.20 |         0.20 | 1.17         |  1.03        |       0.00   | \n",
       "| symmetry_mean | 11           | 569          |        0.18  |         0.03 |      0.18    |       0.18   |     0.03     |    0.11      |         0.30 |         0.20 | 0.72         |  1.25        |       0.00   | \n",
       "| fractal_dimension_mean | 12           | 569          |        0.06  |         0.01 |      0.06    |       0.06   |     0.01     |    0.05      |         0.10 |         0.05 | 1.30         |  2.95        |       0.00   | \n",
       "| radius_se | 13           | 569          |        0.41  |         0.28 |      0.32    |       0.36   |     0.16     |    0.11      |         2.87 |         2.76 | 3.07         | 17.45        |       0.01   | \n",
       "| texture_se | 14           | 569          |        1.22  |         0.55 |      1.11    |       1.16   |     0.47     |    0.36      |         4.88 |         4.52 | 1.64         |  5.26        |       0.02   | \n",
       "| perimeter_se | 15           | 569          |        2.87  |         2.02 |      2.29    |       2.51   |     1.14     |    0.76      |        21.98 |        21.22 | 3.43         | 21.12        |       0.08   | \n",
       "| area_se | 16           | 569          |       40.34  |        45.49 |     24.53    |      31.69   |    13.63     |    6.80      |       542.20 |       535.40 | 5.42         | 48.59        |       1.91   | \n",
       "| smoothness_se | 17           | 569          |        0.01  |         0.00 |      0.01    |       0.01   |     0.00     |    0.00      |         0.03 |         0.03 | 2.30         | 10.32        |       0.00   | \n",
       "| compactness_se | 18           | 569          |        0.03  |         0.02 |      0.02    |       0.02   |     0.01     |    0.00      |         0.14 |         0.13 | 1.89         |  5.02        |       0.00   | \n",
       "| concavity_se | 19           | 569          |        0.03  |         0.03 |      0.03    |       0.03   |     0.02     |    0.00      |         0.40 |         0.40 | 5.08         | 48.24        |       0.00   | \n",
       "| concave points_se | 20           | 569          |        0.01  |         0.01 |      0.01    |       0.01   |     0.01     |    0.00      |         0.05 |         0.05 | 1.44         |  5.04        |       0.00   | \n",
       "| symmetry_se | 21           | 569          |        0.02  |         0.01 |      0.02    |       0.02   |     0.01     |    0.01      |         0.08 |         0.07 | 2.18         |  7.78        |       0.00   | \n",
       "| fractal_dimension_se | 22           | 569          |        0.00  |         0.00 |      0.00    |       0.00   |     0.00     |    0.00      |         0.03 |         0.03 | 3.90         | 25.94        |       0.00   | \n",
       "| radius_worst | 23           | 569          |       16.27  |         4.83 |     14.97    |      15.73   |     3.65     |    7.93      |        36.04 |        28.11 | 1.10         |  0.91        |       0.20   | \n",
       "| texture_worst | 24           | 569          |       25.68  |         6.15 |     25.41    |      25.39   |     6.42     |   12.02      |        49.54 |        37.52 | 0.50         |  0.20        |       0.26   | \n",
       "| perimeter_worst | 25           | 569          |      107.26  |        33.60 |     97.66    |     103.42   |    25.01     |   50.41      |       251.20 |       200.79 | 1.12         |  1.04        |       1.41   | \n",
       "| area_worst | 26           | 569          |      880.58  |       569.36 |    686.50    |     788.02   |   319.65     |  185.20      |      4254.00 |      4068.80 | 1.85         |  4.32        |      23.87   | \n",
       "| smoothness_worst | 27           | 569          |        0.13  |         0.02 |      0.13    |       0.13   |     0.02     |    0.07      |         0.22 |         0.15 | 0.41         |  0.49        |       0.00   | \n",
       "| compactness_worst | 28           | 569          |        0.25  |         0.16 |      0.21    |       0.23   |     0.13     |    0.03      |         1.06 |         1.03 | 1.47         |  2.98        |       0.01   | \n",
       "| concavity_worst | 29           | 569          |        0.27  |         0.21 |      0.23    |       0.25   |     0.20     |    0.00      |         1.25 |         1.25 | 1.14         |  1.57        |       0.01   | \n",
       "| concave points_worst | 30           | 569          |        0.11  |         0.07 |      0.10    |       0.11   |     0.07     |    0.00      |         0.29 |         0.29 | 0.49         | -0.55        |       0.00   | \n",
       "| symmetry_worst | 31           | 569          |        0.29  |         0.06 |      0.28    |       0.28   |     0.05     |    0.16      |         0.66 |         0.51 | 1.43         |  4.37        |       0.00   | \n",
       "| fractal_dimension_worst | 32           | 569          |        0.08  |         0.02 |      0.08    |       0.08   |     0.01     |    0.06      |         0.21 |         0.15 | 1.65         |  5.16        |       0.00   | \n",
       "| X33* | 33           |   0          |         NaN  |           NA |        NA    |        NaN   |       NA     |     Inf      |         -Inf |         -Inf |   NA         |    NA        |         NA   | \n",
       "\n",
       "\n"
      ],
      "text/plain": [
       "                        vars n   mean        sd           median    trimmed   \n",
       "id                       1   569 30371831.43 125020585.61 906024.00 7344332.77\n",
       "diagnosis*               2   569         NaN           NA        NA        NaN\n",
       "radius_mean              3   569       14.13         3.52     13.37      13.82\n",
       "texture_mean             4   569       19.29         4.30     18.84      19.04\n",
       "perimeter_mean           5   569       91.97        24.30     86.24      89.74\n",
       "area_mean                6   569      654.89       351.91    551.10     606.13\n",
       "smoothness_mean          7   569        0.10         0.01      0.10       0.10\n",
       "compactness_mean         8   569        0.10         0.05      0.09       0.10\n",
       "concavity_mean           9   569        0.09         0.08      0.06       0.08\n",
       "concave points_mean     10   569        0.05         0.04      0.03       0.04\n",
       "symmetry_mean           11   569        0.18         0.03      0.18       0.18\n",
       "fractal_dimension_mean  12   569        0.06         0.01      0.06       0.06\n",
       "radius_se               13   569        0.41         0.28      0.32       0.36\n",
       "texture_se              14   569        1.22         0.55      1.11       1.16\n",
       "perimeter_se            15   569        2.87         2.02      2.29       2.51\n",
       "area_se                 16   569       40.34        45.49     24.53      31.69\n",
       "smoothness_se           17   569        0.01         0.00      0.01       0.01\n",
       "compactness_se          18   569        0.03         0.02      0.02       0.02\n",
       "concavity_se            19   569        0.03         0.03      0.03       0.03\n",
       "concave points_se       20   569        0.01         0.01      0.01       0.01\n",
       "symmetry_se             21   569        0.02         0.01      0.02       0.02\n",
       "fractal_dimension_se    22   569        0.00         0.00      0.00       0.00\n",
       "radius_worst            23   569       16.27         4.83     14.97      15.73\n",
       "texture_worst           24   569       25.68         6.15     25.41      25.39\n",
       "perimeter_worst         25   569      107.26        33.60     97.66     103.42\n",
       "area_worst              26   569      880.58       569.36    686.50     788.02\n",
       "smoothness_worst        27   569        0.13         0.02      0.13       0.13\n",
       "compactness_worst       28   569        0.25         0.16      0.21       0.23\n",
       "concavity_worst         29   569        0.27         0.21      0.23       0.25\n",
       "concave points_worst    30   569        0.11         0.07      0.10       0.11\n",
       "symmetry_worst          31   569        0.29         0.06      0.28       0.28\n",
       "fractal_dimension_worst 32   569        0.08         0.02      0.08       0.08\n",
       "X33*                    33     0         NaN           NA        NA        NaN\n",
       "                        mad      min     max          range        skew\n",
       "id                      65567.99 8670.00 911320502.00 911311832.00 6.44\n",
       "diagnosis*                    NA     Inf         -Inf         -Inf   NA\n",
       "radius_mean                 2.82    6.98        28.11        21.13 0.94\n",
       "texture_mean                4.17    9.71        39.28        29.57 0.65\n",
       "perimeter_mean             18.84   43.79       188.50       144.71 0.99\n",
       "area_mean                 227.28  143.50      2501.00      2357.50 1.64\n",
       "smoothness_mean             0.01    0.05         0.16         0.11 0.45\n",
       "compactness_mean            0.05    0.02         0.35         0.33 1.18\n",
       "concavity_mean              0.06    0.00         0.43         0.43 1.39\n",
       "concave points_mean         0.03    0.00         0.20         0.20 1.17\n",
       "symmetry_mean               0.03    0.11         0.30         0.20 0.72\n",
       "fractal_dimension_mean      0.01    0.05         0.10         0.05 1.30\n",
       "radius_se                   0.16    0.11         2.87         2.76 3.07\n",
       "texture_se                  0.47    0.36         4.88         4.52 1.64\n",
       "perimeter_se                1.14    0.76        21.98        21.22 3.43\n",
       "area_se                    13.63    6.80       542.20       535.40 5.42\n",
       "smoothness_se               0.00    0.00         0.03         0.03 2.30\n",
       "compactness_se              0.01    0.00         0.14         0.13 1.89\n",
       "concavity_se                0.02    0.00         0.40         0.40 5.08\n",
       "concave points_se           0.01    0.00         0.05         0.05 1.44\n",
       "symmetry_se                 0.01    0.01         0.08         0.07 2.18\n",
       "fractal_dimension_se        0.00    0.00         0.03         0.03 3.90\n",
       "radius_worst                3.65    7.93        36.04        28.11 1.10\n",
       "texture_worst               6.42   12.02        49.54        37.52 0.50\n",
       "perimeter_worst            25.01   50.41       251.20       200.79 1.12\n",
       "area_worst                319.65  185.20      4254.00      4068.80 1.85\n",
       "smoothness_worst            0.02    0.07         0.22         0.15 0.41\n",
       "compactness_worst           0.13    0.03         1.06         1.03 1.47\n",
       "concavity_worst             0.20    0.00         1.25         1.25 1.14\n",
       "concave points_worst        0.07    0.00         0.29         0.29 0.49\n",
       "symmetry_worst              0.05    0.16         0.66         0.51 1.43\n",
       "fractal_dimension_worst     0.01    0.06         0.21         0.15 1.65\n",
       "X33*                          NA     Inf         -Inf         -Inf   NA\n",
       "                        kurtosis se        \n",
       "id                      41.66    5241135.60\n",
       "diagnosis*                 NA            NA\n",
       "radius_mean              0.81          0.15\n",
       "texture_mean             0.73          0.18\n",
       "perimeter_mean           0.94          1.02\n",
       "area_mean                3.59         14.75\n",
       "smoothness_mean          0.82          0.00\n",
       "compactness_mean         1.61          0.00\n",
       "concavity_mean           1.95          0.00\n",
       "concave points_mean      1.03          0.00\n",
       "symmetry_mean            1.25          0.00\n",
       "fractal_dimension_mean   2.95          0.00\n",
       "radius_se               17.45          0.01\n",
       "texture_se               5.26          0.02\n",
       "perimeter_se            21.12          0.08\n",
       "area_se                 48.59          1.91\n",
       "smoothness_se           10.32          0.00\n",
       "compactness_se           5.02          0.00\n",
       "concavity_se            48.24          0.00\n",
       "concave points_se        5.04          0.00\n",
       "symmetry_se              7.78          0.00\n",
       "fractal_dimension_se    25.94          0.00\n",
       "radius_worst             0.91          0.20\n",
       "texture_worst            0.20          0.26\n",
       "perimeter_worst          1.04          1.41\n",
       "area_worst               4.32         23.87\n",
       "smoothness_worst         0.49          0.00\n",
       "compactness_worst        2.98          0.01\n",
       "concavity_worst          1.57          0.01\n",
       "concave points_worst    -0.55          0.00\n",
       "symmetry_worst           4.37          0.00\n",
       "fractal_dimension_worst  5.16          0.00\n",
       "X33*                       NA            NA"
      ]
     },
     "metadata": {},
     "output_type": "display_data"
    }
   ],
   "source": [
    "library(tidyverse)\n",
    "\n",
    "df = read_csv(\"data.csv\")\n",
    "summary(df)\n",
    "\n",
    "library(psych)\n",
    "round(describe(df),digit=2)"
   ]
  },
  {
   "cell_type": "code",
   "execution_count": 3,
   "metadata": {},
   "outputs": [
    {
     "data": {
      "text/plain": [
       "       id             diagnosis          radius_mean      texture_mean  \n",
       " Min.   :     8670   Length:569         Min.   : 6.981   Min.   : 9.71  \n",
       " 1st Qu.:   869218   Class :character   1st Qu.:11.700   1st Qu.:16.17  \n",
       " Median :   906024   Mode  :character   Median :13.370   Median :18.84  \n",
       " Mean   : 30371831                      Mean   :14.127   Mean   :19.29  \n",
       " 3rd Qu.:  8813129                      3rd Qu.:15.780   3rd Qu.:21.80  \n",
       " Max.   :911320502                      Max.   :28.110   Max.   :39.28  \n",
       " perimeter_mean     area_mean      smoothness_mean   compactness_mean \n",
       " Min.   : 43.79   Min.   : 143.5   Min.   :0.05263   Min.   :0.01938  \n",
       " 1st Qu.: 75.17   1st Qu.: 420.3   1st Qu.:0.08637   1st Qu.:0.06492  \n",
       " Median : 86.24   Median : 551.1   Median :0.09587   Median :0.09263  \n",
       " Mean   : 91.97   Mean   : 654.9   Mean   :0.09636   Mean   :0.10434  \n",
       " 3rd Qu.:104.10   3rd Qu.: 782.7   3rd Qu.:0.10530   3rd Qu.:0.13040  \n",
       " Max.   :188.50   Max.   :2501.0   Max.   :0.16340   Max.   :0.34540  \n",
       " concavity_mean    concave points_mean symmetry_mean    fractal_dimension_mean\n",
       " Min.   :0.00000   Min.   :0.00000     Min.   :0.1060   Min.   :0.04996       \n",
       " 1st Qu.:0.02956   1st Qu.:0.02031     1st Qu.:0.1619   1st Qu.:0.05770       \n",
       " Median :0.06154   Median :0.03350     Median :0.1792   Median :0.06154       \n",
       " Mean   :0.08880   Mean   :0.04892     Mean   :0.1812   Mean   :0.06280       \n",
       " 3rd Qu.:0.13070   3rd Qu.:0.07400     3rd Qu.:0.1957   3rd Qu.:0.06612       \n",
       " Max.   :0.42680   Max.   :0.20120     Max.   :0.3040   Max.   :0.09744       \n",
       "   radius_se        texture_se      perimeter_se       area_se       \n",
       " Min.   :0.1115   Min.   :0.3602   Min.   : 0.757   Min.   :  6.802  \n",
       " 1st Qu.:0.2324   1st Qu.:0.8339   1st Qu.: 1.606   1st Qu.: 17.850  \n",
       " Median :0.3242   Median :1.1080   Median : 2.287   Median : 24.530  \n",
       " Mean   :0.4052   Mean   :1.2169   Mean   : 2.866   Mean   : 40.337  \n",
       " 3rd Qu.:0.4789   3rd Qu.:1.4740   3rd Qu.: 3.357   3rd Qu.: 45.190  \n",
       " Max.   :2.8730   Max.   :4.8850   Max.   :21.980   Max.   :542.200  \n",
       " smoothness_se      compactness_se      concavity_se     concave points_se \n",
       " Min.   :0.001713   Min.   :0.002252   Min.   :0.00000   Min.   :0.000000  \n",
       " 1st Qu.:0.005169   1st Qu.:0.013080   1st Qu.:0.01509   1st Qu.:0.007638  \n",
       " Median :0.006380   Median :0.020450   Median :0.02589   Median :0.010930  \n",
       " Mean   :0.007041   Mean   :0.025478   Mean   :0.03189   Mean   :0.011796  \n",
       " 3rd Qu.:0.008146   3rd Qu.:0.032450   3rd Qu.:0.04205   3rd Qu.:0.014710  \n",
       " Max.   :0.031130   Max.   :0.135400   Max.   :0.39600   Max.   :0.052790  \n",
       "  symmetry_se       fractal_dimension_se  radius_worst   texture_worst  \n",
       " Min.   :0.007882   Min.   :0.0008948    Min.   : 7.93   Min.   :12.02  \n",
       " 1st Qu.:0.015160   1st Qu.:0.0022480    1st Qu.:13.01   1st Qu.:21.08  \n",
       " Median :0.018730   Median :0.0031870    Median :14.97   Median :25.41  \n",
       " Mean   :0.020542   Mean   :0.0037949    Mean   :16.27   Mean   :25.68  \n",
       " 3rd Qu.:0.023480   3rd Qu.:0.0045580    3rd Qu.:18.79   3rd Qu.:29.72  \n",
       " Max.   :0.078950   Max.   :0.0298400    Max.   :36.04   Max.   :49.54  \n",
       " perimeter_worst    area_worst     smoothness_worst  compactness_worst\n",
       " Min.   : 50.41   Min.   : 185.2   Min.   :0.07117   Min.   :0.02729  \n",
       " 1st Qu.: 84.11   1st Qu.: 515.3   1st Qu.:0.11660   1st Qu.:0.14720  \n",
       " Median : 97.66   Median : 686.5   Median :0.13130   Median :0.21190  \n",
       " Mean   :107.26   Mean   : 880.6   Mean   :0.13237   Mean   :0.25427  \n",
       " 3rd Qu.:125.40   3rd Qu.:1084.0   3rd Qu.:0.14600   3rd Qu.:0.33910  \n",
       " Max.   :251.20   Max.   :4254.0   Max.   :0.22260   Max.   :1.05800  \n",
       " concavity_worst  concave points_worst symmetry_worst   fractal_dimension_worst\n",
       " Min.   :0.0000   Min.   :0.00000      Min.   :0.1565   Min.   :0.05504        \n",
       " 1st Qu.:0.1145   1st Qu.:0.06493      1st Qu.:0.2504   1st Qu.:0.07146        \n",
       " Median :0.2267   Median :0.09993      Median :0.2822   Median :0.08004        \n",
       " Mean   :0.2722   Mean   :0.11461      Mean   :0.2901   Mean   :0.08395        \n",
       " 3rd Qu.:0.3829   3rd Qu.:0.16140      3rd Qu.:0.3179   3rd Qu.:0.09208        \n",
       " Max.   :1.2520   Max.   :0.29100      Max.   :0.6638   Max.   :0.20750        \n",
       "     X33           \n",
       " Length:569        \n",
       " Class :character  \n",
       " Mode  :character  \n",
       "                   \n",
       "                   \n",
       "                   "
      ]
     },
     "metadata": {},
     "output_type": "display_data"
    }
   ],
   "source": [
    "summary(df)"
   ]
  },
  {
   "cell_type": "code",
   "execution_count": 4,
   "metadata": {},
   "outputs": [
    {
     "name": "stderr",
     "output_type": "stream",
     "text": [
      "Warning message in describe(df):\n",
      "\"NAs introduced by coercion\"Warning message in FUN(newX[, i], ...):\n",
      "\"no non-missing arguments to min; returning Inf\"Warning message in FUN(newX[, i], ...):\n",
      "\"no non-missing arguments to min; returning Inf\"Warning message in FUN(newX[, i], ...):\n",
      "\"no non-missing arguments to max; returning -Inf\"Warning message in FUN(newX[, i], ...):\n",
      "\"no non-missing arguments to max; returning -Inf\""
     ]
    },
    {
     "data": {
      "text/html": [
       "<table>\n",
       "<thead><tr><th></th><th scope=col>vars</th><th scope=col>n</th><th scope=col>mean</th><th scope=col>sd</th><th scope=col>median</th><th scope=col>trimmed</th><th scope=col>mad</th><th scope=col>min</th><th scope=col>max</th><th scope=col>range</th><th scope=col>skew</th><th scope=col>kurtosis</th><th scope=col>se</th></tr></thead>\n",
       "<tbody>\n",
       "\t<tr><th scope=row>id</th><td> 1          </td><td>569         </td><td>30371831.43 </td><td>125020585.61</td><td>906024.00   </td><td>7344332.77  </td><td>65567.99    </td><td>8670.00     </td><td>911320502.00</td><td>911311832.00</td><td>6.44        </td><td>41.66       </td><td>5241135.60  </td></tr>\n",
       "\t<tr><th scope=row>diagnosis*</th><td> 2          </td><td>569         </td><td>        NaN </td><td>          NA</td><td>       NA   </td><td>       NaN  </td><td>      NA    </td><td>    Inf     </td><td>        -Inf</td><td>        -Inf</td><td>  NA        </td><td>   NA       </td><td>        NA  </td></tr>\n",
       "\t<tr><th scope=row>radius_mean</th><td> 3          </td><td>569         </td><td>      14.13 </td><td>        3.52</td><td>    13.37   </td><td>     13.82  </td><td>    2.82    </td><td>   6.98     </td><td>       28.11</td><td>       21.13</td><td>0.94        </td><td> 0.81       </td><td>      0.15  </td></tr>\n",
       "\t<tr><th scope=row>texture_mean</th><td> 4          </td><td>569         </td><td>      19.29 </td><td>        4.30</td><td>    18.84   </td><td>     19.04  </td><td>    4.17    </td><td>   9.71     </td><td>       39.28</td><td>       29.57</td><td>0.65        </td><td> 0.73       </td><td>      0.18  </td></tr>\n",
       "\t<tr><th scope=row>perimeter_mean</th><td> 5          </td><td>569         </td><td>      91.97 </td><td>       24.30</td><td>    86.24   </td><td>     89.74  </td><td>   18.84    </td><td>  43.79     </td><td>      188.50</td><td>      144.71</td><td>0.99        </td><td> 0.94       </td><td>      1.02  </td></tr>\n",
       "\t<tr><th scope=row>area_mean</th><td> 6          </td><td>569         </td><td>     654.89 </td><td>      351.91</td><td>   551.10   </td><td>    606.13  </td><td>  227.28    </td><td> 143.50     </td><td>     2501.00</td><td>     2357.50</td><td>1.64        </td><td> 3.59       </td><td>     14.75  </td></tr>\n",
       "\t<tr><th scope=row>smoothness_mean</th><td> 7          </td><td>569         </td><td>       0.10 </td><td>        0.01</td><td>     0.10   </td><td>      0.10  </td><td>    0.01    </td><td>   0.05     </td><td>        0.16</td><td>        0.11</td><td>0.45        </td><td> 0.82       </td><td>      0.00  </td></tr>\n",
       "\t<tr><th scope=row>compactness_mean</th><td> 8          </td><td>569         </td><td>       0.10 </td><td>        0.05</td><td>     0.09   </td><td>      0.10  </td><td>    0.05    </td><td>   0.02     </td><td>        0.35</td><td>        0.33</td><td>1.18        </td><td> 1.61       </td><td>      0.00  </td></tr>\n",
       "\t<tr><th scope=row>concavity_mean</th><td> 9          </td><td>569         </td><td>       0.09 </td><td>        0.08</td><td>     0.06   </td><td>      0.08  </td><td>    0.06    </td><td>   0.00     </td><td>        0.43</td><td>        0.43</td><td>1.39        </td><td> 1.95       </td><td>      0.00  </td></tr>\n",
       "\t<tr><th scope=row>concave points_mean</th><td>10          </td><td>569         </td><td>       0.05 </td><td>        0.04</td><td>     0.03   </td><td>      0.04  </td><td>    0.03    </td><td>   0.00     </td><td>        0.20</td><td>        0.20</td><td>1.17        </td><td> 1.03       </td><td>      0.00  </td></tr>\n",
       "\t<tr><th scope=row>symmetry_mean</th><td>11          </td><td>569         </td><td>       0.18 </td><td>        0.03</td><td>     0.18   </td><td>      0.18  </td><td>    0.03    </td><td>   0.11     </td><td>        0.30</td><td>        0.20</td><td>0.72        </td><td> 1.25       </td><td>      0.00  </td></tr>\n",
       "\t<tr><th scope=row>fractal_dimension_mean</th><td>12          </td><td>569         </td><td>       0.06 </td><td>        0.01</td><td>     0.06   </td><td>      0.06  </td><td>    0.01    </td><td>   0.05     </td><td>        0.10</td><td>        0.05</td><td>1.30        </td><td> 2.95       </td><td>      0.00  </td></tr>\n",
       "\t<tr><th scope=row>radius_se</th><td>13          </td><td>569         </td><td>       0.41 </td><td>        0.28</td><td>     0.32   </td><td>      0.36  </td><td>    0.16    </td><td>   0.11     </td><td>        2.87</td><td>        2.76</td><td>3.07        </td><td>17.45       </td><td>      0.01  </td></tr>\n",
       "\t<tr><th scope=row>texture_se</th><td>14          </td><td>569         </td><td>       1.22 </td><td>        0.55</td><td>     1.11   </td><td>      1.16  </td><td>    0.47    </td><td>   0.36     </td><td>        4.88</td><td>        4.52</td><td>1.64        </td><td> 5.26       </td><td>      0.02  </td></tr>\n",
       "\t<tr><th scope=row>perimeter_se</th><td>15          </td><td>569         </td><td>       2.87 </td><td>        2.02</td><td>     2.29   </td><td>      2.51  </td><td>    1.14    </td><td>   0.76     </td><td>       21.98</td><td>       21.22</td><td>3.43        </td><td>21.12       </td><td>      0.08  </td></tr>\n",
       "\t<tr><th scope=row>area_se</th><td>16          </td><td>569         </td><td>      40.34 </td><td>       45.49</td><td>    24.53   </td><td>     31.69  </td><td>   13.63    </td><td>   6.80     </td><td>      542.20</td><td>      535.40</td><td>5.42        </td><td>48.59       </td><td>      1.91  </td></tr>\n",
       "\t<tr><th scope=row>smoothness_se</th><td>17          </td><td>569         </td><td>       0.01 </td><td>        0.00</td><td>     0.01   </td><td>      0.01  </td><td>    0.00    </td><td>   0.00     </td><td>        0.03</td><td>        0.03</td><td>2.30        </td><td>10.32       </td><td>      0.00  </td></tr>\n",
       "\t<tr><th scope=row>compactness_se</th><td>18          </td><td>569         </td><td>       0.03 </td><td>        0.02</td><td>     0.02   </td><td>      0.02  </td><td>    0.01    </td><td>   0.00     </td><td>        0.14</td><td>        0.13</td><td>1.89        </td><td> 5.02       </td><td>      0.00  </td></tr>\n",
       "\t<tr><th scope=row>concavity_se</th><td>19          </td><td>569         </td><td>       0.03 </td><td>        0.03</td><td>     0.03   </td><td>      0.03  </td><td>    0.02    </td><td>   0.00     </td><td>        0.40</td><td>        0.40</td><td>5.08        </td><td>48.24       </td><td>      0.00  </td></tr>\n",
       "\t<tr><th scope=row>concave points_se</th><td>20          </td><td>569         </td><td>       0.01 </td><td>        0.01</td><td>     0.01   </td><td>      0.01  </td><td>    0.01    </td><td>   0.00     </td><td>        0.05</td><td>        0.05</td><td>1.44        </td><td> 5.04       </td><td>      0.00  </td></tr>\n",
       "\t<tr><th scope=row>symmetry_se</th><td>21          </td><td>569         </td><td>       0.02 </td><td>        0.01</td><td>     0.02   </td><td>      0.02  </td><td>    0.01    </td><td>   0.01     </td><td>        0.08</td><td>        0.07</td><td>2.18        </td><td> 7.78       </td><td>      0.00  </td></tr>\n",
       "\t<tr><th scope=row>fractal_dimension_se</th><td>22          </td><td>569         </td><td>       0.00 </td><td>        0.00</td><td>     0.00   </td><td>      0.00  </td><td>    0.00    </td><td>   0.00     </td><td>        0.03</td><td>        0.03</td><td>3.90        </td><td>25.94       </td><td>      0.00  </td></tr>\n",
       "\t<tr><th scope=row>radius_worst</th><td>23          </td><td>569         </td><td>      16.27 </td><td>        4.83</td><td>    14.97   </td><td>     15.73  </td><td>    3.65    </td><td>   7.93     </td><td>       36.04</td><td>       28.11</td><td>1.10        </td><td> 0.91       </td><td>      0.20  </td></tr>\n",
       "\t<tr><th scope=row>texture_worst</th><td>24          </td><td>569         </td><td>      25.68 </td><td>        6.15</td><td>    25.41   </td><td>     25.39  </td><td>    6.42    </td><td>  12.02     </td><td>       49.54</td><td>       37.52</td><td>0.50        </td><td> 0.20       </td><td>      0.26  </td></tr>\n",
       "\t<tr><th scope=row>perimeter_worst</th><td>25          </td><td>569         </td><td>     107.26 </td><td>       33.60</td><td>    97.66   </td><td>    103.42  </td><td>   25.01    </td><td>  50.41     </td><td>      251.20</td><td>      200.79</td><td>1.12        </td><td> 1.04       </td><td>      1.41  </td></tr>\n",
       "\t<tr><th scope=row>area_worst</th><td>26          </td><td>569         </td><td>     880.58 </td><td>      569.36</td><td>   686.50   </td><td>    788.02  </td><td>  319.65    </td><td> 185.20     </td><td>     4254.00</td><td>     4068.80</td><td>1.85        </td><td> 4.32       </td><td>     23.87  </td></tr>\n",
       "\t<tr><th scope=row>smoothness_worst</th><td>27          </td><td>569         </td><td>       0.13 </td><td>        0.02</td><td>     0.13   </td><td>      0.13  </td><td>    0.02    </td><td>   0.07     </td><td>        0.22</td><td>        0.15</td><td>0.41        </td><td> 0.49       </td><td>      0.00  </td></tr>\n",
       "\t<tr><th scope=row>compactness_worst</th><td>28          </td><td>569         </td><td>       0.25 </td><td>        0.16</td><td>     0.21   </td><td>      0.23  </td><td>    0.13    </td><td>   0.03     </td><td>        1.06</td><td>        1.03</td><td>1.47        </td><td> 2.98       </td><td>      0.01  </td></tr>\n",
       "\t<tr><th scope=row>concavity_worst</th><td>29          </td><td>569         </td><td>       0.27 </td><td>        0.21</td><td>     0.23   </td><td>      0.25  </td><td>    0.20    </td><td>   0.00     </td><td>        1.25</td><td>        1.25</td><td>1.14        </td><td> 1.57       </td><td>      0.01  </td></tr>\n",
       "\t<tr><th scope=row>concave points_worst</th><td>30          </td><td>569         </td><td>       0.11 </td><td>        0.07</td><td>     0.10   </td><td>      0.11  </td><td>    0.07    </td><td>   0.00     </td><td>        0.29</td><td>        0.29</td><td>0.49        </td><td>-0.55       </td><td>      0.00  </td></tr>\n",
       "\t<tr><th scope=row>symmetry_worst</th><td>31          </td><td>569         </td><td>       0.29 </td><td>        0.06</td><td>     0.28   </td><td>      0.28  </td><td>    0.05    </td><td>   0.16     </td><td>        0.66</td><td>        0.51</td><td>1.43        </td><td> 4.37       </td><td>      0.00  </td></tr>\n",
       "\t<tr><th scope=row>fractal_dimension_worst</th><td>32          </td><td>569         </td><td>       0.08 </td><td>        0.02</td><td>     0.08   </td><td>      0.08  </td><td>    0.01    </td><td>   0.06     </td><td>        0.21</td><td>        0.15</td><td>1.65        </td><td> 5.16       </td><td>      0.00  </td></tr>\n",
       "\t<tr><th scope=row>X33*</th><td>33          </td><td>  0         </td><td>        NaN </td><td>          NA</td><td>       NA   </td><td>       NaN  </td><td>      NA    </td><td>    Inf     </td><td>        -Inf</td><td>        -Inf</td><td>  NA        </td><td>   NA       </td><td>        NA  </td></tr>\n",
       "</tbody>\n",
       "</table>\n"
      ],
      "text/latex": [
       "\\begin{tabular}{r|lllllllllllll}\n",
       "  & vars & n & mean & sd & median & trimmed & mad & min & max & range & skew & kurtosis & se\\\\\n",
       "\\hline\n",
       "\tid &  1           & 569          & 30371831.43  & 125020585.61 & 906024.00    & 7344332.77   & 65567.99     & 8670.00      & 911320502.00 & 911311832.00 & 6.44         & 41.66        & 5241135.60  \\\\\n",
       "\tdiagnosis* &  2           & 569          &         NaN  &           NA &        NA    &        NaN   &       NA     &     Inf      &         -Inf &         -Inf &   NA         &    NA        &         NA  \\\\\n",
       "\tradius\\_mean &  3           & 569          &       14.13  &         3.52 &     13.37    &      13.82   &     2.82     &    6.98      &        28.11 &        21.13 & 0.94         &  0.81        &       0.15  \\\\\n",
       "\ttexture\\_mean &  4           & 569          &       19.29  &         4.30 &     18.84    &      19.04   &     4.17     &    9.71      &        39.28 &        29.57 & 0.65         &  0.73        &       0.18  \\\\\n",
       "\tperimeter\\_mean &  5           & 569          &       91.97  &        24.30 &     86.24    &      89.74   &    18.84     &   43.79      &       188.50 &       144.71 & 0.99         &  0.94        &       1.02  \\\\\n",
       "\tarea\\_mean &  6           & 569          &      654.89  &       351.91 &    551.10    &     606.13   &   227.28     &  143.50      &      2501.00 &      2357.50 & 1.64         &  3.59        &      14.75  \\\\\n",
       "\tsmoothness\\_mean &  7           & 569          &        0.10  &         0.01 &      0.10    &       0.10   &     0.01     &    0.05      &         0.16 &         0.11 & 0.45         &  0.82        &       0.00  \\\\\n",
       "\tcompactness\\_mean &  8           & 569          &        0.10  &         0.05 &      0.09    &       0.10   &     0.05     &    0.02      &         0.35 &         0.33 & 1.18         &  1.61        &       0.00  \\\\\n",
       "\tconcavity\\_mean &  9           & 569          &        0.09  &         0.08 &      0.06    &       0.08   &     0.06     &    0.00      &         0.43 &         0.43 & 1.39         &  1.95        &       0.00  \\\\\n",
       "\tconcave points\\_mean & 10           & 569          &        0.05  &         0.04 &      0.03    &       0.04   &     0.03     &    0.00      &         0.20 &         0.20 & 1.17         &  1.03        &       0.00  \\\\\n",
       "\tsymmetry\\_mean & 11           & 569          &        0.18  &         0.03 &      0.18    &       0.18   &     0.03     &    0.11      &         0.30 &         0.20 & 0.72         &  1.25        &       0.00  \\\\\n",
       "\tfractal\\_dimension\\_mean & 12           & 569          &        0.06  &         0.01 &      0.06    &       0.06   &     0.01     &    0.05      &         0.10 &         0.05 & 1.30         &  2.95        &       0.00  \\\\\n",
       "\tradius\\_se & 13           & 569          &        0.41  &         0.28 &      0.32    &       0.36   &     0.16     &    0.11      &         2.87 &         2.76 & 3.07         & 17.45        &       0.01  \\\\\n",
       "\ttexture\\_se & 14           & 569          &        1.22  &         0.55 &      1.11    &       1.16   &     0.47     &    0.36      &         4.88 &         4.52 & 1.64         &  5.26        &       0.02  \\\\\n",
       "\tperimeter\\_se & 15           & 569          &        2.87  &         2.02 &      2.29    &       2.51   &     1.14     &    0.76      &        21.98 &        21.22 & 3.43         & 21.12        &       0.08  \\\\\n",
       "\tarea\\_se & 16           & 569          &       40.34  &        45.49 &     24.53    &      31.69   &    13.63     &    6.80      &       542.20 &       535.40 & 5.42         & 48.59        &       1.91  \\\\\n",
       "\tsmoothness\\_se & 17           & 569          &        0.01  &         0.00 &      0.01    &       0.01   &     0.00     &    0.00      &         0.03 &         0.03 & 2.30         & 10.32        &       0.00  \\\\\n",
       "\tcompactness\\_se & 18           & 569          &        0.03  &         0.02 &      0.02    &       0.02   &     0.01     &    0.00      &         0.14 &         0.13 & 1.89         &  5.02        &       0.00  \\\\\n",
       "\tconcavity\\_se & 19           & 569          &        0.03  &         0.03 &      0.03    &       0.03   &     0.02     &    0.00      &         0.40 &         0.40 & 5.08         & 48.24        &       0.00  \\\\\n",
       "\tconcave points\\_se & 20           & 569          &        0.01  &         0.01 &      0.01    &       0.01   &     0.01     &    0.00      &         0.05 &         0.05 & 1.44         &  5.04        &       0.00  \\\\\n",
       "\tsymmetry\\_se & 21           & 569          &        0.02  &         0.01 &      0.02    &       0.02   &     0.01     &    0.01      &         0.08 &         0.07 & 2.18         &  7.78        &       0.00  \\\\\n",
       "\tfractal\\_dimension\\_se & 22           & 569          &        0.00  &         0.00 &      0.00    &       0.00   &     0.00     &    0.00      &         0.03 &         0.03 & 3.90         & 25.94        &       0.00  \\\\\n",
       "\tradius\\_worst & 23           & 569          &       16.27  &         4.83 &     14.97    &      15.73   &     3.65     &    7.93      &        36.04 &        28.11 & 1.10         &  0.91        &       0.20  \\\\\n",
       "\ttexture\\_worst & 24           & 569          &       25.68  &         6.15 &     25.41    &      25.39   &     6.42     &   12.02      &        49.54 &        37.52 & 0.50         &  0.20        &       0.26  \\\\\n",
       "\tperimeter\\_worst & 25           & 569          &      107.26  &        33.60 &     97.66    &     103.42   &    25.01     &   50.41      &       251.20 &       200.79 & 1.12         &  1.04        &       1.41  \\\\\n",
       "\tarea\\_worst & 26           & 569          &      880.58  &       569.36 &    686.50    &     788.02   &   319.65     &  185.20      &      4254.00 &      4068.80 & 1.85         &  4.32        &      23.87  \\\\\n",
       "\tsmoothness\\_worst & 27           & 569          &        0.13  &         0.02 &      0.13    &       0.13   &     0.02     &    0.07      &         0.22 &         0.15 & 0.41         &  0.49        &       0.00  \\\\\n",
       "\tcompactness\\_worst & 28           & 569          &        0.25  &         0.16 &      0.21    &       0.23   &     0.13     &    0.03      &         1.06 &         1.03 & 1.47         &  2.98        &       0.01  \\\\\n",
       "\tconcavity\\_worst & 29           & 569          &        0.27  &         0.21 &      0.23    &       0.25   &     0.20     &    0.00      &         1.25 &         1.25 & 1.14         &  1.57        &       0.01  \\\\\n",
       "\tconcave points\\_worst & 30           & 569          &        0.11  &         0.07 &      0.10    &       0.11   &     0.07     &    0.00      &         0.29 &         0.29 & 0.49         & -0.55        &       0.00  \\\\\n",
       "\tsymmetry\\_worst & 31           & 569          &        0.29  &         0.06 &      0.28    &       0.28   &     0.05     &    0.16      &         0.66 &         0.51 & 1.43         &  4.37        &       0.00  \\\\\n",
       "\tfractal\\_dimension\\_worst & 32           & 569          &        0.08  &         0.02 &      0.08    &       0.08   &     0.01     &    0.06      &         0.21 &         0.15 & 1.65         &  5.16        &       0.00  \\\\\n",
       "\tX33* & 33           &   0          &         NaN  &           NA &        NA    &        NaN   &       NA     &     Inf      &         -Inf &         -Inf &   NA         &    NA        &         NA  \\\\\n",
       "\\end{tabular}\n"
      ],
      "text/markdown": [
       "\n",
       "| <!--/--> | vars | n | mean | sd | median | trimmed | mad | min | max | range | skew | kurtosis | se | \n",
       "|---|---|---|---|---|---|---|---|---|---|---|---|---|---|---|---|---|---|---|---|---|---|---|---|---|---|---|---|---|---|---|---|---|\n",
       "| id |  1           | 569          | 30371831.43  | 125020585.61 | 906024.00    | 7344332.77   | 65567.99     | 8670.00      | 911320502.00 | 911311832.00 | 6.44         | 41.66        | 5241135.60   | \n",
       "| diagnosis* |  2           | 569          |         NaN  |           NA |        NA    |        NaN   |       NA     |     Inf      |         -Inf |         -Inf |   NA         |    NA        |         NA   | \n",
       "| radius_mean |  3           | 569          |       14.13  |         3.52 |     13.37    |      13.82   |     2.82     |    6.98      |        28.11 |        21.13 | 0.94         |  0.81        |       0.15   | \n",
       "| texture_mean |  4           | 569          |       19.29  |         4.30 |     18.84    |      19.04   |     4.17     |    9.71      |        39.28 |        29.57 | 0.65         |  0.73        |       0.18   | \n",
       "| perimeter_mean |  5           | 569          |       91.97  |        24.30 |     86.24    |      89.74   |    18.84     |   43.79      |       188.50 |       144.71 | 0.99         |  0.94        |       1.02   | \n",
       "| area_mean |  6           | 569          |      654.89  |       351.91 |    551.10    |     606.13   |   227.28     |  143.50      |      2501.00 |      2357.50 | 1.64         |  3.59        |      14.75   | \n",
       "| smoothness_mean |  7           | 569          |        0.10  |         0.01 |      0.10    |       0.10   |     0.01     |    0.05      |         0.16 |         0.11 | 0.45         |  0.82        |       0.00   | \n",
       "| compactness_mean |  8           | 569          |        0.10  |         0.05 |      0.09    |       0.10   |     0.05     |    0.02      |         0.35 |         0.33 | 1.18         |  1.61        |       0.00   | \n",
       "| concavity_mean |  9           | 569          |        0.09  |         0.08 |      0.06    |       0.08   |     0.06     |    0.00      |         0.43 |         0.43 | 1.39         |  1.95        |       0.00   | \n",
       "| concave points_mean | 10           | 569          |        0.05  |         0.04 |      0.03    |       0.04   |     0.03     |    0.00      |         0.20 |         0.20 | 1.17         |  1.03        |       0.00   | \n",
       "| symmetry_mean | 11           | 569          |        0.18  |         0.03 |      0.18    |       0.18   |     0.03     |    0.11      |         0.30 |         0.20 | 0.72         |  1.25        |       0.00   | \n",
       "| fractal_dimension_mean | 12           | 569          |        0.06  |         0.01 |      0.06    |       0.06   |     0.01     |    0.05      |         0.10 |         0.05 | 1.30         |  2.95        |       0.00   | \n",
       "| radius_se | 13           | 569          |        0.41  |         0.28 |      0.32    |       0.36   |     0.16     |    0.11      |         2.87 |         2.76 | 3.07         | 17.45        |       0.01   | \n",
       "| texture_se | 14           | 569          |        1.22  |         0.55 |      1.11    |       1.16   |     0.47     |    0.36      |         4.88 |         4.52 | 1.64         |  5.26        |       0.02   | \n",
       "| perimeter_se | 15           | 569          |        2.87  |         2.02 |      2.29    |       2.51   |     1.14     |    0.76      |        21.98 |        21.22 | 3.43         | 21.12        |       0.08   | \n",
       "| area_se | 16           | 569          |       40.34  |        45.49 |     24.53    |      31.69   |    13.63     |    6.80      |       542.20 |       535.40 | 5.42         | 48.59        |       1.91   | \n",
       "| smoothness_se | 17           | 569          |        0.01  |         0.00 |      0.01    |       0.01   |     0.00     |    0.00      |         0.03 |         0.03 | 2.30         | 10.32        |       0.00   | \n",
       "| compactness_se | 18           | 569          |        0.03  |         0.02 |      0.02    |       0.02   |     0.01     |    0.00      |         0.14 |         0.13 | 1.89         |  5.02        |       0.00   | \n",
       "| concavity_se | 19           | 569          |        0.03  |         0.03 |      0.03    |       0.03   |     0.02     |    0.00      |         0.40 |         0.40 | 5.08         | 48.24        |       0.00   | \n",
       "| concave points_se | 20           | 569          |        0.01  |         0.01 |      0.01    |       0.01   |     0.01     |    0.00      |         0.05 |         0.05 | 1.44         |  5.04        |       0.00   | \n",
       "| symmetry_se | 21           | 569          |        0.02  |         0.01 |      0.02    |       0.02   |     0.01     |    0.01      |         0.08 |         0.07 | 2.18         |  7.78        |       0.00   | \n",
       "| fractal_dimension_se | 22           | 569          |        0.00  |         0.00 |      0.00    |       0.00   |     0.00     |    0.00      |         0.03 |         0.03 | 3.90         | 25.94        |       0.00   | \n",
       "| radius_worst | 23           | 569          |       16.27  |         4.83 |     14.97    |      15.73   |     3.65     |    7.93      |        36.04 |        28.11 | 1.10         |  0.91        |       0.20   | \n",
       "| texture_worst | 24           | 569          |       25.68  |         6.15 |     25.41    |      25.39   |     6.42     |   12.02      |        49.54 |        37.52 | 0.50         |  0.20        |       0.26   | \n",
       "| perimeter_worst | 25           | 569          |      107.26  |        33.60 |     97.66    |     103.42   |    25.01     |   50.41      |       251.20 |       200.79 | 1.12         |  1.04        |       1.41   | \n",
       "| area_worst | 26           | 569          |      880.58  |       569.36 |    686.50    |     788.02   |   319.65     |  185.20      |      4254.00 |      4068.80 | 1.85         |  4.32        |      23.87   | \n",
       "| smoothness_worst | 27           | 569          |        0.13  |         0.02 |      0.13    |       0.13   |     0.02     |    0.07      |         0.22 |         0.15 | 0.41         |  0.49        |       0.00   | \n",
       "| compactness_worst | 28           | 569          |        0.25  |         0.16 |      0.21    |       0.23   |     0.13     |    0.03      |         1.06 |         1.03 | 1.47         |  2.98        |       0.01   | \n",
       "| concavity_worst | 29           | 569          |        0.27  |         0.21 |      0.23    |       0.25   |     0.20     |    0.00      |         1.25 |         1.25 | 1.14         |  1.57        |       0.01   | \n",
       "| concave points_worst | 30           | 569          |        0.11  |         0.07 |      0.10    |       0.11   |     0.07     |    0.00      |         0.29 |         0.29 | 0.49         | -0.55        |       0.00   | \n",
       "| symmetry_worst | 31           | 569          |        0.29  |         0.06 |      0.28    |       0.28   |     0.05     |    0.16      |         0.66 |         0.51 | 1.43         |  4.37        |       0.00   | \n",
       "| fractal_dimension_worst | 32           | 569          |        0.08  |         0.02 |      0.08    |       0.08   |     0.01     |    0.06      |         0.21 |         0.15 | 1.65         |  5.16        |       0.00   | \n",
       "| X33* | 33           |   0          |         NaN  |           NA |        NA    |        NaN   |       NA     |     Inf      |         -Inf |         -Inf |   NA         |    NA        |         NA   | \n",
       "\n",
       "\n"
      ],
      "text/plain": [
       "                        vars n   mean        sd           median    trimmed   \n",
       "id                       1   569 30371831.43 125020585.61 906024.00 7344332.77\n",
       "diagnosis*               2   569         NaN           NA        NA        NaN\n",
       "radius_mean              3   569       14.13         3.52     13.37      13.82\n",
       "texture_mean             4   569       19.29         4.30     18.84      19.04\n",
       "perimeter_mean           5   569       91.97        24.30     86.24      89.74\n",
       "area_mean                6   569      654.89       351.91    551.10     606.13\n",
       "smoothness_mean          7   569        0.10         0.01      0.10       0.10\n",
       "compactness_mean         8   569        0.10         0.05      0.09       0.10\n",
       "concavity_mean           9   569        0.09         0.08      0.06       0.08\n",
       "concave points_mean     10   569        0.05         0.04      0.03       0.04\n",
       "symmetry_mean           11   569        0.18         0.03      0.18       0.18\n",
       "fractal_dimension_mean  12   569        0.06         0.01      0.06       0.06\n",
       "radius_se               13   569        0.41         0.28      0.32       0.36\n",
       "texture_se              14   569        1.22         0.55      1.11       1.16\n",
       "perimeter_se            15   569        2.87         2.02      2.29       2.51\n",
       "area_se                 16   569       40.34        45.49     24.53      31.69\n",
       "smoothness_se           17   569        0.01         0.00      0.01       0.01\n",
       "compactness_se          18   569        0.03         0.02      0.02       0.02\n",
       "concavity_se            19   569        0.03         0.03      0.03       0.03\n",
       "concave points_se       20   569        0.01         0.01      0.01       0.01\n",
       "symmetry_se             21   569        0.02         0.01      0.02       0.02\n",
       "fractal_dimension_se    22   569        0.00         0.00      0.00       0.00\n",
       "radius_worst            23   569       16.27         4.83     14.97      15.73\n",
       "texture_worst           24   569       25.68         6.15     25.41      25.39\n",
       "perimeter_worst         25   569      107.26        33.60     97.66     103.42\n",
       "area_worst              26   569      880.58       569.36    686.50     788.02\n",
       "smoothness_worst        27   569        0.13         0.02      0.13       0.13\n",
       "compactness_worst       28   569        0.25         0.16      0.21       0.23\n",
       "concavity_worst         29   569        0.27         0.21      0.23       0.25\n",
       "concave points_worst    30   569        0.11         0.07      0.10       0.11\n",
       "symmetry_worst          31   569        0.29         0.06      0.28       0.28\n",
       "fractal_dimension_worst 32   569        0.08         0.02      0.08       0.08\n",
       "X33*                    33     0         NaN           NA        NA        NaN\n",
       "                        mad      min     max          range        skew\n",
       "id                      65567.99 8670.00 911320502.00 911311832.00 6.44\n",
       "diagnosis*                    NA     Inf         -Inf         -Inf   NA\n",
       "radius_mean                 2.82    6.98        28.11        21.13 0.94\n",
       "texture_mean                4.17    9.71        39.28        29.57 0.65\n",
       "perimeter_mean             18.84   43.79       188.50       144.71 0.99\n",
       "area_mean                 227.28  143.50      2501.00      2357.50 1.64\n",
       "smoothness_mean             0.01    0.05         0.16         0.11 0.45\n",
       "compactness_mean            0.05    0.02         0.35         0.33 1.18\n",
       "concavity_mean              0.06    0.00         0.43         0.43 1.39\n",
       "concave points_mean         0.03    0.00         0.20         0.20 1.17\n",
       "symmetry_mean               0.03    0.11         0.30         0.20 0.72\n",
       "fractal_dimension_mean      0.01    0.05         0.10         0.05 1.30\n",
       "radius_se                   0.16    0.11         2.87         2.76 3.07\n",
       "texture_se                  0.47    0.36         4.88         4.52 1.64\n",
       "perimeter_se                1.14    0.76        21.98        21.22 3.43\n",
       "area_se                    13.63    6.80       542.20       535.40 5.42\n",
       "smoothness_se               0.00    0.00         0.03         0.03 2.30\n",
       "compactness_se              0.01    0.00         0.14         0.13 1.89\n",
       "concavity_se                0.02    0.00         0.40         0.40 5.08\n",
       "concave points_se           0.01    0.00         0.05         0.05 1.44\n",
       "symmetry_se                 0.01    0.01         0.08         0.07 2.18\n",
       "fractal_dimension_se        0.00    0.00         0.03         0.03 3.90\n",
       "radius_worst                3.65    7.93        36.04        28.11 1.10\n",
       "texture_worst               6.42   12.02        49.54        37.52 0.50\n",
       "perimeter_worst            25.01   50.41       251.20       200.79 1.12\n",
       "area_worst                319.65  185.20      4254.00      4068.80 1.85\n",
       "smoothness_worst            0.02    0.07         0.22         0.15 0.41\n",
       "compactness_worst           0.13    0.03         1.06         1.03 1.47\n",
       "concavity_worst             0.20    0.00         1.25         1.25 1.14\n",
       "concave points_worst        0.07    0.00         0.29         0.29 0.49\n",
       "symmetry_worst              0.05    0.16         0.66         0.51 1.43\n",
       "fractal_dimension_worst     0.01    0.06         0.21         0.15 1.65\n",
       "X33*                          NA     Inf         -Inf         -Inf   NA\n",
       "                        kurtosis se        \n",
       "id                      41.66    5241135.60\n",
       "diagnosis*                 NA            NA\n",
       "radius_mean              0.81          0.15\n",
       "texture_mean             0.73          0.18\n",
       "perimeter_mean           0.94          1.02\n",
       "area_mean                3.59         14.75\n",
       "smoothness_mean          0.82          0.00\n",
       "compactness_mean         1.61          0.00\n",
       "concavity_mean           1.95          0.00\n",
       "concave points_mean      1.03          0.00\n",
       "symmetry_mean            1.25          0.00\n",
       "fractal_dimension_mean   2.95          0.00\n",
       "radius_se               17.45          0.01\n",
       "texture_se               5.26          0.02\n",
       "perimeter_se            21.12          0.08\n",
       "area_se                 48.59          1.91\n",
       "smoothness_se           10.32          0.00\n",
       "compactness_se           5.02          0.00\n",
       "concavity_se            48.24          0.00\n",
       "concave points_se        5.04          0.00\n",
       "symmetry_se              7.78          0.00\n",
       "fractal_dimension_se    25.94          0.00\n",
       "radius_worst             0.91          0.20\n",
       "texture_worst            0.20          0.26\n",
       "perimeter_worst          1.04          1.41\n",
       "area_worst               4.32         23.87\n",
       "smoothness_worst         0.49          0.00\n",
       "compactness_worst        2.98          0.01\n",
       "concavity_worst          1.57          0.01\n",
       "concave points_worst    -0.55          0.00\n",
       "symmetry_worst           4.37          0.00\n",
       "fractal_dimension_worst  5.16          0.00\n",
       "X33*                       NA            NA"
      ]
     },
     "metadata": {},
     "output_type": "display_data"
    }
   ],
   "source": [
    "library(psych)\n",
    "round(describe(df),digit=2)"
   ]
  },
  {
   "cell_type": "markdown",
   "metadata": {},
   "source": [
    "### Zamiana diagnosis na kategorię i liczbę"
   ]
  },
  {
   "cell_type": "code",
   "execution_count": 5,
   "metadata": {},
   "outputs": [],
   "source": [
    "#https://sebastiansauer.github.io/sum-isna/\n",
    "df$diagnosis <- as.numeric( ifelse( df$diagnosis == \"M\", 1, 0) )"
   ]
  },
  {
   "cell_type": "code",
   "execution_count": 6,
   "metadata": {},
   "outputs": [
    {
     "data": {
      "text/html": [
       "<ol class=list-inline>\n",
       "\t<li>'radius_mean'</li>\n",
       "\t<li>'texture_mean'</li>\n",
       "\t<li>'perimeter_mean'</li>\n",
       "\t<li>'area_mean'</li>\n",
       "\t<li>'smoothness_mean'</li>\n",
       "\t<li>'compactness_mean'</li>\n",
       "\t<li>'concavity_mean'</li>\n",
       "\t<li>'concave points_mean'</li>\n",
       "\t<li>'symmetry_mean'</li>\n",
       "\t<li>'fractal_dimension_mean'</li>\n",
       "\t<li>'diagnosis'</li>\n",
       "</ol>\n"
      ],
      "text/latex": [
       "\\begin{enumerate*}\n",
       "\\item 'radius\\_mean'\n",
       "\\item 'texture\\_mean'\n",
       "\\item 'perimeter\\_mean'\n",
       "\\item 'area\\_mean'\n",
       "\\item 'smoothness\\_mean'\n",
       "\\item 'compactness\\_mean'\n",
       "\\item 'concavity\\_mean'\n",
       "\\item 'concave points\\_mean'\n",
       "\\item 'symmetry\\_mean'\n",
       "\\item 'fractal\\_dimension\\_mean'\n",
       "\\item 'diagnosis'\n",
       "\\end{enumerate*}\n"
      ],
      "text/markdown": [
       "1. 'radius_mean'\n",
       "2. 'texture_mean'\n",
       "3. 'perimeter_mean'\n",
       "4. 'area_mean'\n",
       "5. 'smoothness_mean'\n",
       "6. 'compactness_mean'\n",
       "7. 'concavity_mean'\n",
       "8. 'concave points_mean'\n",
       "9. 'symmetry_mean'\n",
       "10. 'fractal_dimension_mean'\n",
       "11. 'diagnosis'\n",
       "\n",
       "\n"
      ],
      "text/plain": [
       " [1] \"radius_mean\"            \"texture_mean\"           \"perimeter_mean\"        \n",
       " [4] \"area_mean\"              \"smoothness_mean\"        \"compactness_mean\"      \n",
       " [7] \"concavity_mean\"         \"concave points_mean\"    \"symmetry_mean\"         \n",
       "[10] \"fractal_dimension_mean\" \"diagnosis\"             "
      ]
     },
     "metadata": {},
     "output_type": "display_data"
    }
   ],
   "source": [
    "#Correlation map\n",
    "columns <- colnames(df)\n",
    "columns <- columns[!columns  %in% c('X33','id')]\n",
    "columns_input <- columns[!columns  %in% c('diagnosis')]\n",
    "columns_numeric <- c(columns_input[endsWith(columns_input,'_mean')],'diagnosis')\n",
    "columns_numeric"
   ]
  },
  {
   "cell_type": "markdown",
   "metadata": {},
   "source": [
    "## Correlation Map"
   ]
  },
  {
   "cell_type": "markdown",
   "metadata": {},
   "source": [
    "\n",
    "* Wielkość kołek oznacza siłę korelacji, im większy tym większa korelacja\n",
    "* **hclust** for the hierarchical clustering order. Sortuje według powiązania danych\n",
    "* **tl.cex:** Numeric, for the size of text label (variable names).\n",
    "* **addrect**  Integer, the number of rectangles draws on the graph according to the hierarchical cluster, only valid when order is hclust. If NULL (default), then add no rectangles.\n"
   ]
  },
  {
   "cell_type": "code",
   "execution_count": 7,
   "metadata": {},
   "outputs": [
    {
     "name": "stderr",
     "output_type": "stream",
     "text": [
      "corrplot 0.84 loaded\n"
     ]
    },
    {
     "data": {
      "image/png": "[encoded data removed]",
      "text/plain": [
       "Plot with title \"\""
      ]
     },
     "metadata": {},
     "output_type": "display_data"
    }
   ],
   "source": [
    "corr <- cor( df[,columns_numeric], use=\"complete.obs\") \n",
    "library(corrplot)\n",
    "corrplot(corr, order = \"hclust\", tl.cex = 1, addrect = 5)"
   ]
  },
  {
   "cell_type": "code",
   "execution_count": 8,
   "metadata": {},
   "outputs": [
    {
     "data": {
      "image/png": "[encoded data removed]",
      "text/plain": [
       "Plot with title \"Correlation plot\""
      ]
     },
     "metadata": {},
     "output_type": "display_data"
    }
   ],
   "source": [
    "cor.plot( df[,columns_numeric])"
   ]
  },
  {
   "cell_type": "markdown",
   "metadata": {},
   "source": [
    "* bivariate scatter plots below the diagonal\n",
    "* histograms on the diagonal\n",
    "* Pearson correlation above the diagonal\n",
    "https://pl.wikipedia.org/wiki/Wsp%C3%B3%C5%82czynnik_korelacji_Pearsona"
   ]
  },
  {
   "cell_type": "code",
   "execution_count": 9,
   "metadata": {},
   "outputs": [
    {
     "data": {
      "image/png": "[encoded data removed]",
      "text/plain": [
       "plot without title"
      ]
     },
     "metadata": {},
     "output_type": "display_data"
    }
   ],
   "source": [
    "pairs.panels(df[,columns_numeric])"
   ]
  },
  {
   "cell_type": "markdown",
   "metadata": {},
   "source": [
    "## Skalowanie danych"
   ]
  },
  {
   "cell_type": "markdown",
   "metadata": {},
   "source": [
    "is generic function whose default method centers and/or scales the columns of a numeric matrix."
   ]
  },
  {
   "cell_type": "code",
   "execution_count": 10,
   "metadata": {},
   "outputs": [
    {
     "data": {
      "text/html": [
       "<table>\n",
       "<thead><tr><th></th><th scope=col>radius_mean</th><th scope=col>texture_mean</th><th scope=col>perimeter_mean</th><th scope=col>area_mean</th><th scope=col>smoothness_mean</th><th scope=col>compactness_mean</th><th scope=col>concavity_mean</th><th scope=col>concave points_mean</th><th scope=col>symmetry_mean</th><th scope=col>fractal_dimension_mean</th><th scope=col>...</th><th scope=col>texture_worst</th><th scope=col>perimeter_worst</th><th scope=col>area_worst</th><th scope=col>smoothness_worst</th><th scope=col>compactness_worst</th><th scope=col>concavity_worst</th><th scope=col>concave points_worst</th><th scope=col>symmetry_worst</th><th scope=col>fractal_dimension_worst</th><th scope=col>diagnosis</th></tr></thead>\n",
       "<tbody>\n",
       "\t<tr><th scope=row>564</th><td> 1.9275296 </td><td>1.3485941  </td><td> 2.1001278 </td><td> 1.9667039 </td><td> 0.9627130 </td><td> 2.25814785</td><td> 2.86755184</td><td> 2.5379803 </td><td> 1.2306774 </td><td> 0.8487369 </td><td>...        </td><td>0.6073251  </td><td> 2.1378974 </td><td> 1.6482047 </td><td> 0.3648935 </td><td> 1.0444809 </td><td> 1.8584199 </td><td> 2.1236696 </td><td> 0.04565289</td><td> 0.8185573 </td><td>1          </td></tr>\n",
       "\t<tr><th scope=row>565</th><td> 2.1091388 </td><td>0.7208383  </td><td> 2.0589739 </td><td> 2.3417954 </td><td> 1.0409262 </td><td> 0.21886787</td><td> 1.94557271</td><td> 2.3189242 </td><td>-0.3123140 </td><td>-0.9302086 </td><td>...        </td><td>0.1175962  </td><td> 1.7510219 </td><td> 2.0135291 </td><td> 0.3780327 </td><td>-0.2730774 </td><td> 0.6639281 </td><td> 1.6277189 </td><td>-1.35896255</td><td>-0.7084673 </td><td>1          </td></tr>\n",
       "\t<tr><th scope=row>566</th><td> 1.7033556 </td><td>2.0833009  </td><td> 1.6145108 </td><td> 1.7223261 </td><td> 0.1023682 </td><td>-0.01781736</td><td> 0.69243373</td><td> 1.2625583 </td><td>-0.2174729 </td><td>-1.0576808 </td><td>...        </td><td>2.0455987  </td><td> 1.4206897 </td><td> 1.4936444 </td><td>-0.6906227 </td><td>-0.3944733 </td><td> 0.2363652 </td><td> 0.7331821 </td><td>-0.53138705</td><td>-0.9731220 </td><td>1          </td></tr>\n",
       "\t<tr><th scope=row>567</th><td> 0.7016669 </td><td>2.0437755  </td><td> 0.6720844 </td><td> 0.5774446 </td><td>-0.8397450 </td><td>-0.03864567</td><td> 0.04654658</td><td> 0.1056844 </td><td>-0.8084058 </td><td>-0.8947996 </td><td>...        </td><td>1.3736451  </td><td> 0.5784916 </td><td> 0.4275294 </td><td>-0.8088756 </td><td> 0.3504270 </td><td> 0.3264793 </td><td> 0.4137047 </td><td>-1.10357792</td><td>-0.3181292 </td><td>1          </td></tr>\n",
       "\t<tr><th scope=row>568</th><td> 1.8367249 </td><td>2.3344032  </td><td> 1.9807813 </td><td> 1.7336925 </td><td> 1.5244257 </td><td> 3.26926717</td><td> 3.29404559</td><td> 2.6565283 </td><td> 2.1353154 </td><td> 1.0427779 </td><td>...        </td><td>2.2359585  </td><td> 2.3015755 </td><td> 1.6517174 </td><td> 1.4291692 </td><td> 3.9014151 </td><td> 3.1947936 </td><td> 2.2879723 </td><td> 1.91739590</td><td> 2.2176840 </td><td>1          </td></tr>\n",
       "\t<tr><th scope=row>569</th><td>-1.8068114 </td><td>1.2207179  </td><td>-1.8127934 </td><td>-1.3466044 </td><td>-3.1093489 </td><td>-1.14974083</td><td>-1.11389274</td><td>-1.2607103 </td><td>-0.8193490 </td><td>-0.5605392 </td><td>...        </td><td>0.7635178  </td><td>-1.4314754 </td><td>-1.0748672 </td><td>-1.8573842 </td><td>-1.2064909 </td><td>-1.3046827 </td><td>-1.7435287 </td><td>-0.04809589</td><td>-0.7505463 </td><td>0          </td></tr>\n",
       "</tbody>\n",
       "</table>\n"
      ],
      "text/latex": [
       "\\begin{tabular}{r|lllllllllllllllllllllllllllllll}\n",
       "  & radius\\_mean & texture\\_mean & perimeter\\_mean & area\\_mean & smoothness\\_mean & compactness\\_mean & concavity\\_mean & concave points\\_mean & symmetry\\_mean & fractal\\_dimension\\_mean & ... & texture\\_worst & perimeter\\_worst & area\\_worst & smoothness\\_worst & compactness\\_worst & concavity\\_worst & concave points\\_worst & symmetry\\_worst & fractal\\_dimension\\_worst & diagnosis\\\\\n",
       "\\hline\n",
       "\t564 &  1.9275296  & 1.3485941   &  2.1001278  &  1.9667039  &  0.9627130  &  2.25814785 &  2.86755184 &  2.5379803  &  1.2306774  &  0.8487369  & ...         & 0.6073251   &  2.1378974  &  1.6482047  &  0.3648935  &  1.0444809  &  1.8584199  &  2.1236696  &  0.04565289 &  0.8185573  & 1          \\\\\n",
       "\t565 &  2.1091388  & 0.7208383   &  2.0589739  &  2.3417954  &  1.0409262  &  0.21886787 &  1.94557271 &  2.3189242  & -0.3123140  & -0.9302086  & ...         & 0.1175962   &  1.7510219  &  2.0135291  &  0.3780327  & -0.2730774  &  0.6639281  &  1.6277189  & -1.35896255 & -0.7084673  & 1          \\\\\n",
       "\t566 &  1.7033556  & 2.0833009   &  1.6145108  &  1.7223261  &  0.1023682  & -0.01781736 &  0.69243373 &  1.2625583  & -0.2174729  & -1.0576808  & ...         & 2.0455987   &  1.4206897  &  1.4936444  & -0.6906227  & -0.3944733  &  0.2363652  &  0.7331821  & -0.53138705 & -0.9731220  & 1          \\\\\n",
       "\t567 &  0.7016669  & 2.0437755   &  0.6720844  &  0.5774446  & -0.8397450  & -0.03864567 &  0.04654658 &  0.1056844  & -0.8084058  & -0.8947996  & ...         & 1.3736451   &  0.5784916  &  0.4275294  & -0.8088756  &  0.3504270  &  0.3264793  &  0.4137047  & -1.10357792 & -0.3181292  & 1          \\\\\n",
       "\t568 &  1.8367249  & 2.3344032   &  1.9807813  &  1.7336925  &  1.5244257  &  3.26926717 &  3.29404559 &  2.6565283  &  2.1353154  &  1.0427779  & ...         & 2.2359585   &  2.3015755  &  1.6517174  &  1.4291692  &  3.9014151  &  3.1947936  &  2.2879723  &  1.91739590 &  2.2176840  & 1          \\\\\n",
       "\t569 & -1.8068114  & 1.2207179   & -1.8127934  & -1.3466044  & -3.1093489  & -1.14974083 & -1.11389274 & -1.2607103  & -0.8193490  & -0.5605392  & ...         & 0.7635178   & -1.4314754  & -1.0748672  & -1.8573842  & -1.2064909  & -1.3046827  & -1.7435287  & -0.04809589 & -0.7505463  & 0          \\\\\n",
       "\\end{tabular}\n"
      ],
      "text/markdown": [
       "\n",
       "| <!--/--> | radius_mean | texture_mean | perimeter_mean | area_mean | smoothness_mean | compactness_mean | concavity_mean | concave points_mean | symmetry_mean | fractal_dimension_mean | ... | texture_worst | perimeter_worst | area_worst | smoothness_worst | compactness_worst | concavity_worst | concave points_worst | symmetry_worst | fractal_dimension_worst | diagnosis | \n",
       "|---|---|---|---|---|---|\n",
       "| 564 |  1.9275296  | 1.3485941   |  2.1001278  |  1.9667039  |  0.9627130  |  2.25814785 |  2.86755184 |  2.5379803  |  1.2306774  |  0.8487369  | ...         | 0.6073251   |  2.1378974  |  1.6482047  |  0.3648935  |  1.0444809  |  1.8584199  |  2.1236696  |  0.04565289 |  0.8185573  | 1           | \n",
       "| 565 |  2.1091388  | 0.7208383   |  2.0589739  |  2.3417954  |  1.0409262  |  0.21886787 |  1.94557271 |  2.3189242  | -0.3123140  | -0.9302086  | ...         | 0.1175962   |  1.7510219  |  2.0135291  |  0.3780327  | -0.2730774  |  0.6639281  |  1.6277189  | -1.35896255 | -0.7084673  | 1           | \n",
       "| 566 |  1.7033556  | 2.0833009   |  1.6145108  |  1.7223261  |  0.1023682  | -0.01781736 |  0.69243373 |  1.2625583  | -0.2174729  | -1.0576808  | ...         | 2.0455987   |  1.4206897  |  1.4936444  | -0.6906227  | -0.3944733  |  0.2363652  |  0.7331821  | -0.53138705 | -0.9731220  | 1           | \n",
       "| 567 |  0.7016669  | 2.0437755   |  0.6720844  |  0.5774446  | -0.8397450  | -0.03864567 |  0.04654658 |  0.1056844  | -0.8084058  | -0.8947996  | ...         | 1.3736451   |  0.5784916  |  0.4275294  | -0.8088756  |  0.3504270  |  0.3264793  |  0.4137047  | -1.10357792 | -0.3181292  | 1           | \n",
       "| 568 |  1.8367249  | 2.3344032   |  1.9807813  |  1.7336925  |  1.5244257  |  3.26926717 |  3.29404559 |  2.6565283  |  2.1353154  |  1.0427779  | ...         | 2.2359585   |  2.3015755  |  1.6517174  |  1.4291692  |  3.9014151  |  3.1947936  |  2.2879723  |  1.91739590 |  2.2176840  | 1           | \n",
       "| 569 | -1.8068114  | 1.2207179   | -1.8127934  | -1.3466044  | -3.1093489  | -1.14974083 | -1.11389274 | -1.2607103  | -0.8193490  | -0.5605392  | ...         | 0.7635178   | -1.4314754  | -1.0748672  | -1.8573842  | -1.2064909  | -1.3046827  | -1.7435287  | -0.04809589 | -0.7505463  | 0           | \n",
       "\n",
       "\n"
      ],
      "text/plain": [
       "    radius_mean texture_mean perimeter_mean area_mean  smoothness_mean\n",
       "564  1.9275296  1.3485941     2.1001278      1.9667039  0.9627130     \n",
       "565  2.1091388  0.7208383     2.0589739      2.3417954  1.0409262     \n",
       "566  1.7033556  2.0833009     1.6145108      1.7223261  0.1023682     \n",
       "567  0.7016669  2.0437755     0.6720844      0.5774446 -0.8397450     \n",
       "568  1.8367249  2.3344032     1.9807813      1.7336925  1.5244257     \n",
       "569 -1.8068114  1.2207179    -1.8127934     -1.3466044 -3.1093489     \n",
       "    compactness_mean concavity_mean concave points_mean symmetry_mean\n",
       "564  2.25814785       2.86755184     2.5379803           1.2306774   \n",
       "565  0.21886787       1.94557271     2.3189242          -0.3123140   \n",
       "566 -0.01781736       0.69243373     1.2625583          -0.2174729   \n",
       "567 -0.03864567       0.04654658     0.1056844          -0.8084058   \n",
       "568  3.26926717       3.29404559     2.6565283           2.1353154   \n",
       "569 -1.14974083      -1.11389274    -1.2607103          -0.8193490   \n",
       "    fractal_dimension_mean ... texture_worst perimeter_worst area_worst\n",
       "564  0.8487369             ... 0.6073251      2.1378974       1.6482047\n",
       "565 -0.9302086             ... 0.1175962      1.7510219       2.0135291\n",
       "566 -1.0576808             ... 2.0455987      1.4206897       1.4936444\n",
       "567 -0.8947996             ... 1.3736451      0.5784916       0.4275294\n",
       "568  1.0427779             ... 2.2359585      2.3015755       1.6517174\n",
       "569 -0.5605392             ... 0.7635178     -1.4314754      -1.0748672\n",
       "    smoothness_worst compactness_worst concavity_worst concave points_worst\n",
       "564  0.3648935        1.0444809         1.8584199       2.1236696          \n",
       "565  0.3780327       -0.2730774         0.6639281       1.6277189          \n",
       "566 -0.6906227       -0.3944733         0.2363652       0.7331821          \n",
       "567 -0.8088756        0.3504270         0.3264793       0.4137047          \n",
       "568  1.4291692        3.9014151         3.1947936       2.2879723          \n",
       "569 -1.8573842       -1.2064909        -1.3046827      -1.7435287          \n",
       "    symmetry_worst fractal_dimension_worst diagnosis\n",
       "564  0.04565289     0.8185573              1        \n",
       "565 -1.35896255    -0.7084673              1        \n",
       "566 -0.53138705    -0.9731220              1        \n",
       "567 -1.10357792    -0.3181292              1        \n",
       "568  1.91739590     2.2176840              1        \n",
       "569 -0.04809589    -0.7505463              0        "
      ]
     },
     "metadata": {},
     "output_type": "display_data"
    }
   ],
   "source": [
    "dfs <- as.data.frame(scale(df[,columns_input]))\n",
    "dfs$diagnosis <- as.factor(df$diagnosis)\n",
    "tail(dfs)"
   ]
  },
  {
   "cell_type": "code",
   "execution_count": 12,
   "metadata": {},
   "outputs": [
    {
     "data": {
      "text/html": [
       "<table>\n",
       "<thead><tr><th></th><th scope=col>radius_mean</th><th scope=col>texture_mean</th><th scope=col>perimeter_mean</th><th scope=col>area_mean</th><th scope=col>smoothness_mean</th><th scope=col>compactness_mean</th><th scope=col>concavity_mean</th><th scope=col>concave.points_mean</th><th scope=col>symmetry_mean</th><th scope=col>fractal_dimension_mean</th><th scope=col>...</th><th scope=col>texture_worst</th><th scope=col>perimeter_worst</th><th scope=col>area_worst</th><th scope=col>smoothness_worst</th><th scope=col>compactness_worst</th><th scope=col>concavity_worst</th><th scope=col>concave.points_worst</th><th scope=col>symmetry_worst</th><th scope=col>fractal_dimension_worst</th><th scope=col>diagnosis</th></tr></thead>\n",
       "<tbody>\n",
       "\t<tr><th scope=row>564</th><td> 1.9275296 </td><td>1.3485941  </td><td> 2.1001278 </td><td> 1.9667039 </td><td> 0.9627130 </td><td> 2.25814785</td><td> 2.86755184</td><td> 2.5379803 </td><td> 1.2306774 </td><td> 0.8487369 </td><td>...        </td><td>0.6073251  </td><td> 2.1378974 </td><td> 1.6482047 </td><td> 0.3648935 </td><td> 1.0444809 </td><td> 1.8584199 </td><td> 2.1236696 </td><td> 0.04565289</td><td> 0.8185573 </td><td>1          </td></tr>\n",
       "\t<tr><th scope=row>565</th><td> 2.1091388 </td><td>0.7208383  </td><td> 2.0589739 </td><td> 2.3417954 </td><td> 1.0409262 </td><td> 0.21886787</td><td> 1.94557271</td><td> 2.3189242 </td><td>-0.3123140 </td><td>-0.9302086 </td><td>...        </td><td>0.1175962  </td><td> 1.7510219 </td><td> 2.0135291 </td><td> 0.3780327 </td><td>-0.2730774 </td><td> 0.6639281 </td><td> 1.6277189 </td><td>-1.35896255</td><td>-0.7084673 </td><td>1          </td></tr>\n",
       "\t<tr><th scope=row>566</th><td> 1.7033556 </td><td>2.0833009  </td><td> 1.6145108 </td><td> 1.7223261 </td><td> 0.1023682 </td><td>-0.01781736</td><td> 0.69243373</td><td> 1.2625583 </td><td>-0.2174729 </td><td>-1.0576808 </td><td>...        </td><td>2.0455987  </td><td> 1.4206897 </td><td> 1.4936444 </td><td>-0.6906227 </td><td>-0.3944733 </td><td> 0.2363652 </td><td> 0.7331821 </td><td>-0.53138705</td><td>-0.9731220 </td><td>1          </td></tr>\n",
       "\t<tr><th scope=row>567</th><td> 0.7016669 </td><td>2.0437755  </td><td> 0.6720844 </td><td> 0.5774446 </td><td>-0.8397450 </td><td>-0.03864567</td><td> 0.04654658</td><td> 0.1056844 </td><td>-0.8084058 </td><td>-0.8947996 </td><td>...        </td><td>1.3736451  </td><td> 0.5784916 </td><td> 0.4275294 </td><td>-0.8088756 </td><td> 0.3504270 </td><td> 0.3264793 </td><td> 0.4137047 </td><td>-1.10357792</td><td>-0.3181292 </td><td>1          </td></tr>\n",
       "\t<tr><th scope=row>568</th><td> 1.8367249 </td><td>2.3344032  </td><td> 1.9807813 </td><td> 1.7336925 </td><td> 1.5244257 </td><td> 3.26926717</td><td> 3.29404559</td><td> 2.6565283 </td><td> 2.1353154 </td><td> 1.0427779 </td><td>...        </td><td>2.2359585  </td><td> 2.3015755 </td><td> 1.6517174 </td><td> 1.4291692 </td><td> 3.9014151 </td><td> 3.1947936 </td><td> 2.2879723 </td><td> 1.91739590</td><td> 2.2176840 </td><td>1          </td></tr>\n",
       "\t<tr><th scope=row>569</th><td>-1.8068114 </td><td>1.2207179  </td><td>-1.8127934 </td><td>-1.3466044 </td><td>-3.1093489 </td><td>-1.14974083</td><td>-1.11389274</td><td>-1.2607103 </td><td>-0.8193490 </td><td>-0.5605392 </td><td>...        </td><td>0.7635178  </td><td>-1.4314754 </td><td>-1.0748672 </td><td>-1.8573842 </td><td>-1.2064909 </td><td>-1.3046827 </td><td>-1.7435287 </td><td>-0.04809589</td><td>-0.7505463 </td><td>0          </td></tr>\n",
       "</tbody>\n",
       "</table>\n"
      ],
      "text/latex": [
       "\\begin{tabular}{r|lllllllllllllllllllllllllllllll}\n",
       "  & radius\\_mean & texture\\_mean & perimeter\\_mean & area\\_mean & smoothness\\_mean & compactness\\_mean & concavity\\_mean & concave.points\\_mean & symmetry\\_mean & fractal\\_dimension\\_mean & ... & texture\\_worst & perimeter\\_worst & area\\_worst & smoothness\\_worst & compactness\\_worst & concavity\\_worst & concave.points\\_worst & symmetry\\_worst & fractal\\_dimension\\_worst & diagnosis\\\\\n",
       "\\hline\n",
       "\t564 &  1.9275296  & 1.3485941   &  2.1001278  &  1.9667039  &  0.9627130  &  2.25814785 &  2.86755184 &  2.5379803  &  1.2306774  &  0.8487369  & ...         & 0.6073251   &  2.1378974  &  1.6482047  &  0.3648935  &  1.0444809  &  1.8584199  &  2.1236696  &  0.04565289 &  0.8185573  & 1          \\\\\n",
       "\t565 &  2.1091388  & 0.7208383   &  2.0589739  &  2.3417954  &  1.0409262  &  0.21886787 &  1.94557271 &  2.3189242  & -0.3123140  & -0.9302086  & ...         & 0.1175962   &  1.7510219  &  2.0135291  &  0.3780327  & -0.2730774  &  0.6639281  &  1.6277189  & -1.35896255 & -0.7084673  & 1          \\\\\n",
       "\t566 &  1.7033556  & 2.0833009   &  1.6145108  &  1.7223261  &  0.1023682  & -0.01781736 &  0.69243373 &  1.2625583  & -0.2174729  & -1.0576808  & ...         & 2.0455987   &  1.4206897  &  1.4936444  & -0.6906227  & -0.3944733  &  0.2363652  &  0.7331821  & -0.53138705 & -0.9731220  & 1          \\\\\n",
       "\t567 &  0.7016669  & 2.0437755   &  0.6720844  &  0.5774446  & -0.8397450  & -0.03864567 &  0.04654658 &  0.1056844  & -0.8084058  & -0.8947996  & ...         & 1.3736451   &  0.5784916  &  0.4275294  & -0.8088756  &  0.3504270  &  0.3264793  &  0.4137047  & -1.10357792 & -0.3181292  & 1          \\\\\n",
       "\t568 &  1.8367249  & 2.3344032   &  1.9807813  &  1.7336925  &  1.5244257  &  3.26926717 &  3.29404559 &  2.6565283  &  2.1353154  &  1.0427779  & ...         & 2.2359585   &  2.3015755  &  1.6517174  &  1.4291692  &  3.9014151  &  3.1947936  &  2.2879723  &  1.91739590 &  2.2176840  & 1          \\\\\n",
       "\t569 & -1.8068114  & 1.2207179   & -1.8127934  & -1.3466044  & -3.1093489  & -1.14974083 & -1.11389274 & -1.2607103  & -0.8193490  & -0.5605392  & ...         & 0.7635178   & -1.4314754  & -1.0748672  & -1.8573842  & -1.2064909  & -1.3046827  & -1.7435287  & -0.04809589 & -0.7505463  & 0          \\\\\n",
       "\\end{tabular}\n"
      ],
      "text/markdown": [
       "\n",
       "| <!--/--> | radius_mean | texture_mean | perimeter_mean | area_mean | smoothness_mean | compactness_mean | concavity_mean | concave.points_mean | symmetry_mean | fractal_dimension_mean | ... | texture_worst | perimeter_worst | area_worst | smoothness_worst | compactness_worst | concavity_worst | concave.points_worst | symmetry_worst | fractal_dimension_worst | diagnosis | \n",
       "|---|---|---|---|---|---|\n",
       "| 564 |  1.9275296  | 1.3485941   |  2.1001278  |  1.9667039  |  0.9627130  |  2.25814785 |  2.86755184 |  2.5379803  |  1.2306774  |  0.8487369  | ...         | 0.6073251   |  2.1378974  |  1.6482047  |  0.3648935  |  1.0444809  |  1.8584199  |  2.1236696  |  0.04565289 |  0.8185573  | 1           | \n",
       "| 565 |  2.1091388  | 0.7208383   |  2.0589739  |  2.3417954  |  1.0409262  |  0.21886787 |  1.94557271 |  2.3189242  | -0.3123140  | -0.9302086  | ...         | 0.1175962   |  1.7510219  |  2.0135291  |  0.3780327  | -0.2730774  |  0.6639281  |  1.6277189  | -1.35896255 | -0.7084673  | 1           | \n",
       "| 566 |  1.7033556  | 2.0833009   |  1.6145108  |  1.7223261  |  0.1023682  | -0.01781736 |  0.69243373 |  1.2625583  | -0.2174729  | -1.0576808  | ...         | 2.0455987   |  1.4206897  |  1.4936444  | -0.6906227  | -0.3944733  |  0.2363652  |  0.7331821  | -0.53138705 | -0.9731220  | 1           | \n",
       "| 567 |  0.7016669  | 2.0437755   |  0.6720844  |  0.5774446  | -0.8397450  | -0.03864567 |  0.04654658 |  0.1056844  | -0.8084058  | -0.8947996  | ...         | 1.3736451   |  0.5784916  |  0.4275294  | -0.8088756  |  0.3504270  |  0.3264793  |  0.4137047  | -1.10357792 | -0.3181292  | 1           | \n",
       "| 568 |  1.8367249  | 2.3344032   |  1.9807813  |  1.7336925  |  1.5244257  |  3.26926717 |  3.29404559 |  2.6565283  |  2.1353154  |  1.0427779  | ...         | 2.2359585   |  2.3015755  |  1.6517174  |  1.4291692  |  3.9014151  |  3.1947936  |  2.2879723  |  1.91739590 |  2.2176840  | 1           | \n",
       "| 569 | -1.8068114  | 1.2207179   | -1.8127934  | -1.3466044  | -3.1093489  | -1.14974083 | -1.11389274 | -1.2607103  | -0.8193490  | -0.5605392  | ...         | 0.7635178   | -1.4314754  | -1.0748672  | -1.8573842  | -1.2064909  | -1.3046827  | -1.7435287  | -0.04809589 | -0.7505463  | 0           | \n",
       "\n",
       "\n"
      ],
      "text/plain": [
       "    radius_mean texture_mean perimeter_mean area_mean  smoothness_mean\n",
       "564  1.9275296  1.3485941     2.1001278      1.9667039  0.9627130     \n",
       "565  2.1091388  0.7208383     2.0589739      2.3417954  1.0409262     \n",
       "566  1.7033556  2.0833009     1.6145108      1.7223261  0.1023682     \n",
       "567  0.7016669  2.0437755     0.6720844      0.5774446 -0.8397450     \n",
       "568  1.8367249  2.3344032     1.9807813      1.7336925  1.5244257     \n",
       "569 -1.8068114  1.2207179    -1.8127934     -1.3466044 -3.1093489     \n",
       "    compactness_mean concavity_mean concave.points_mean symmetry_mean\n",
       "564  2.25814785       2.86755184     2.5379803           1.2306774   \n",
       "565  0.21886787       1.94557271     2.3189242          -0.3123140   \n",
       "566 -0.01781736       0.69243373     1.2625583          -0.2174729   \n",
       "567 -0.03864567       0.04654658     0.1056844          -0.8084058   \n",
       "568  3.26926717       3.29404559     2.6565283           2.1353154   \n",
       "569 -1.14974083      -1.11389274    -1.2607103          -0.8193490   \n",
       "    fractal_dimension_mean ... texture_worst perimeter_worst area_worst\n",
       "564  0.8487369             ... 0.6073251      2.1378974       1.6482047\n",
       "565 -0.9302086             ... 0.1175962      1.7510219       2.0135291\n",
       "566 -1.0576808             ... 2.0455987      1.4206897       1.4936444\n",
       "567 -0.8947996             ... 1.3736451      0.5784916       0.4275294\n",
       "568  1.0427779             ... 2.2359585      2.3015755       1.6517174\n",
       "569 -0.5605392             ... 0.7635178     -1.4314754      -1.0748672\n",
       "    smoothness_worst compactness_worst concavity_worst concave.points_worst\n",
       "564  0.3648935        1.0444809         1.8584199       2.1236696          \n",
       "565  0.3780327       -0.2730774         0.6639281       1.6277189          \n",
       "566 -0.6906227       -0.3944733         0.2363652       0.7331821          \n",
       "567 -0.8088756        0.3504270         0.3264793       0.4137047          \n",
       "568  1.4291692        3.9014151         3.1947936       2.2879723          \n",
       "569 -1.8573842       -1.2064909        -1.3046827      -1.7435287          \n",
       "    symmetry_worst fractal_dimension_worst diagnosis\n",
       "564  0.04565289     0.8185573              1        \n",
       "565 -1.35896255    -0.7084673              1        \n",
       "566 -0.53138705    -0.9731220              1        \n",
       "567 -1.10357792    -0.3181292              1        \n",
       "568  1.91739590     2.2176840              1        \n",
       "569 -0.04809589    -0.7505463              0        "
      ]
     },
     "metadata": {},
     "output_type": "display_data"
    }
   ],
   "source": [
    "names(dfs) <- make.names( colnames(dfs))\n",
    "tail(dfs)"
   ]
  },
  {
   "cell_type": "markdown",
   "metadata": {},
   "source": [
    "## Sample Size"
   ]
  },
  {
   "cell_type": "code",
   "execution_count": 13,
   "metadata": {},
   "outputs": [
    {
     "data": {
      "text/html": [
       "<table>\n",
       "<thead><tr><th></th><th scope=col>radius_mean</th><th scope=col>texture_mean</th><th scope=col>perimeter_mean</th><th scope=col>area_mean</th><th scope=col>smoothness_mean</th><th scope=col>compactness_mean</th><th scope=col>concavity_mean</th><th scope=col>concave.points_mean</th><th scope=col>symmetry_mean</th><th scope=col>fractal_dimension_mean</th><th scope=col>...</th><th scope=col>texture_worst</th><th scope=col>perimeter_worst</th><th scope=col>area_worst</th><th scope=col>smoothness_worst</th><th scope=col>compactness_worst</th><th scope=col>concavity_worst</th><th scope=col>concave.points_worst</th><th scope=col>symmetry_worst</th><th scope=col>fractal_dimension_worst</th><th scope=col>diagnosis</th></tr></thead>\n",
       "<tbody>\n",
       "\t<tr><th scope=row>478</th><td>-0.06449733 </td><td>-0.62069898 </td><td>-0.12342219 </td><td>-0.15767796 </td><td>-1.9965888  </td><td>-0.9685346  </td><td>-0.834915649</td><td>-0.9156325  </td><td> 0.005038873</td><td>-1.0534317  </td><td>...         </td><td>-0.6308267  </td><td>-0.18037959 </td><td>-0.28397496 </td><td>-1.6874505  </td><td>-0.3410845  </td><td>-0.6412891  </td><td>-0.7969627  </td><td>-0.3584367  </td><td>-0.3856771  </td><td>0           </td></tr>\n",
       "\t<tr><th scope=row>531</th><td>-0.67459103 </td><td>-0.40214697 </td><td>-0.66171636 </td><td>-0.65922077 </td><td> 0.7778455  </td><td>-0.1365387  </td><td>-0.451322154</td><td>-0.1164643  </td><td>-0.779223889</td><td> 0.5626326  </td><td>...         </td><td> 0.3746632  </td><td>-0.55773199 </td><td>-0.57658575 </td><td> 0.1108689  </td><td>-0.4376928  </td><td>-0.6499171  </td><td>-0.2069943  </td><td>-0.6833247  </td><td>-0.3530105  </td><td>0           </td></tr>\n",
       "\t<tr><th scope=row>449</th><td> 0.11427431 </td><td> 0.01170683 </td><td> 0.09387087 </td><td> 0.01367065 </td><td>-0.8873839  </td><td>-0.4987618  </td><td>-0.007894096</td><td>-0.5068996  </td><td>-1.235190611</td><td>-0.7559965  </td><td>...         </td><td> 0.4413705  </td><td> 0.02496202 </td><td>-0.08796437 </td><td>-1.0278623  </td><td> 0.0675937  </td><td> 0.5067076  </td><td>-0.2839732  </td><td>-0.6946392  </td><td>-0.5157898  </td><td>0           </td></tr>\n",
       "\t<tr><th scope=row>293</th><td>-0.33407362 </td><td>-0.76020026 </td><td>-0.36334994 </td><td>-0.40120328 </td><td> 0.2943459  </td><td>-0.4716850  </td><td>-0.341813613</td><td>-0.3922173  </td><td>-0.297723030</td><td> 0.2694465  </td><td>...         </td><td>-0.9350768  </td><td>-0.54910169 </td><td>-0.51844999 </td><td> 0.6977534  </td><td>-0.3016786  </td><td>-0.2305028  </td><td>-0.1370136  </td><td> 0.7746305  </td><td> 0.6585464  </td><td>0           </td></tr>\n",
       "\t<tr><th scope=row>80</th><td>-0.35961242 </td><td>-0.29984603 </td><td>-0.36129224 </td><td>-0.42223114 </td><td> 0.2118666  </td><td>-0.1681598  </td><td>-0.626059152</td><td>-0.6641046  </td><td>-0.341495836</td><td>-0.4004907  </td><td>...         </td><td>-0.1394708  </td><td>-0.45773955 </td><td>-0.45399131 </td><td>-0.1519152  </td><td>-0.2552812  </td><td>-0.4749614  </td><td>-0.5377296  </td><td>-0.1968009  </td><td>-0.2638695  </td><td>0           </td></tr>\n",
       "\t<tr><th scope=row>544</th><td>-0.26029484 </td><td> 2.03912545 </td><td>-0.29174200 </td><td>-0.33101571 </td><td>-0.6861628  </td><td>-0.6735301  </td><td>-0.739205434</td><td>-0.4167000  </td><td>-0.669791876</td><td>-0.7064240  </td><td>...         </td><td> 1.8698820  </td><td>-0.43988376 </td><td>-0.44081856 </td><td>-1.1023178  </td><td>-0.7383223  </td><td>-0.7956336  </td><td>-0.5328613  </td><td>-0.6914065  </td><td>-1.0805342  </td><td>0           </td></tr>\n",
       "</tbody>\n",
       "</table>\n"
      ],
      "text/latex": [
       "\\begin{tabular}{r|lllllllllllllllllllllllllllllll}\n",
       "  & radius\\_mean & texture\\_mean & perimeter\\_mean & area\\_mean & smoothness\\_mean & compactness\\_mean & concavity\\_mean & concave.points\\_mean & symmetry\\_mean & fractal\\_dimension\\_mean & ... & texture\\_worst & perimeter\\_worst & area\\_worst & smoothness\\_worst & compactness\\_worst & concavity\\_worst & concave.points\\_worst & symmetry\\_worst & fractal\\_dimension\\_worst & diagnosis\\\\\n",
       "\\hline\n",
       "\t478 & -0.06449733  & -0.62069898  & -0.12342219  & -0.15767796  & -1.9965888   & -0.9685346   & -0.834915649 & -0.9156325   &  0.005038873 & -1.0534317   & ...          & -0.6308267   & -0.18037959  & -0.28397496  & -1.6874505   & -0.3410845   & -0.6412891   & -0.7969627   & -0.3584367   & -0.3856771   & 0           \\\\\n",
       "\t531 & -0.67459103  & -0.40214697  & -0.66171636  & -0.65922077  &  0.7778455   & -0.1365387   & -0.451322154 & -0.1164643   & -0.779223889 &  0.5626326   & ...          &  0.3746632   & -0.55773199  & -0.57658575  &  0.1108689   & -0.4376928   & -0.6499171   & -0.2069943   & -0.6833247   & -0.3530105   & 0           \\\\\n",
       "\t449 &  0.11427431  &  0.01170683  &  0.09387087  &  0.01367065  & -0.8873839   & -0.4987618   & -0.007894096 & -0.5068996   & -1.235190611 & -0.7559965   & ...          &  0.4413705   &  0.02496202  & -0.08796437  & -1.0278623   &  0.0675937   &  0.5067076   & -0.2839732   & -0.6946392   & -0.5157898   & 0           \\\\\n",
       "\t293 & -0.33407362  & -0.76020026  & -0.36334994  & -0.40120328  &  0.2943459   & -0.4716850   & -0.341813613 & -0.3922173   & -0.297723030 &  0.2694465   & ...          & -0.9350768   & -0.54910169  & -0.51844999  &  0.6977534   & -0.3016786   & -0.2305028   & -0.1370136   &  0.7746305   &  0.6585464   & 0           \\\\\n",
       "\t80 & -0.35961242  & -0.29984603  & -0.36129224  & -0.42223114  &  0.2118666   & -0.1681598   & -0.626059152 & -0.6641046   & -0.341495836 & -0.4004907   & ...          & -0.1394708   & -0.45773955  & -0.45399131  & -0.1519152   & -0.2552812   & -0.4749614   & -0.5377296   & -0.1968009   & -0.2638695   & 0           \\\\\n",
       "\t544 & -0.26029484  &  2.03912545  & -0.29174200  & -0.33101571  & -0.6861628   & -0.6735301   & -0.739205434 & -0.4167000   & -0.669791876 & -0.7064240   & ...          &  1.8698820   & -0.43988376  & -0.44081856  & -1.1023178   & -0.7383223   & -0.7956336   & -0.5328613   & -0.6914065   & -1.0805342   & 0           \\\\\n",
       "\\end{tabular}\n"
      ],
      "text/markdown": [
       "\n",
       "| <!--/--> | radius_mean | texture_mean | perimeter_mean | area_mean | smoothness_mean | compactness_mean | concavity_mean | concave.points_mean | symmetry_mean | fractal_dimension_mean | ... | texture_worst | perimeter_worst | area_worst | smoothness_worst | compactness_worst | concavity_worst | concave.points_worst | symmetry_worst | fractal_dimension_worst | diagnosis | \n",
       "|---|---|---|---|---|---|\n",
       "| 478 | -0.06449733  | -0.62069898  | -0.12342219  | -0.15767796  | -1.9965888   | -0.9685346   | -0.834915649 | -0.9156325   |  0.005038873 | -1.0534317   | ...          | -0.6308267   | -0.18037959  | -0.28397496  | -1.6874505   | -0.3410845   | -0.6412891   | -0.7969627   | -0.3584367   | -0.3856771   | 0            | \n",
       "| 531 | -0.67459103  | -0.40214697  | -0.66171636  | -0.65922077  |  0.7778455   | -0.1365387   | -0.451322154 | -0.1164643   | -0.779223889 |  0.5626326   | ...          |  0.3746632   | -0.55773199  | -0.57658575  |  0.1108689   | -0.4376928   | -0.6499171   | -0.2069943   | -0.6833247   | -0.3530105   | 0            | \n",
       "| 449 |  0.11427431  |  0.01170683  |  0.09387087  |  0.01367065  | -0.8873839   | -0.4987618   | -0.007894096 | -0.5068996   | -1.235190611 | -0.7559965   | ...          |  0.4413705   |  0.02496202  | -0.08796437  | -1.0278623   |  0.0675937   |  0.5067076   | -0.2839732   | -0.6946392   | -0.5157898   | 0            | \n",
       "| 293 | -0.33407362  | -0.76020026  | -0.36334994  | -0.40120328  |  0.2943459   | -0.4716850   | -0.341813613 | -0.3922173   | -0.297723030 |  0.2694465   | ...          | -0.9350768   | -0.54910169  | -0.51844999  |  0.6977534   | -0.3016786   | -0.2305028   | -0.1370136   |  0.7746305   |  0.6585464   | 0            | \n",
       "| 80 | -0.35961242  | -0.29984603  | -0.36129224  | -0.42223114  |  0.2118666   | -0.1681598   | -0.626059152 | -0.6641046   | -0.341495836 | -0.4004907   | ...          | -0.1394708   | -0.45773955  | -0.45399131  | -0.1519152   | -0.2552812   | -0.4749614   | -0.5377296   | -0.1968009   | -0.2638695   | 0            | \n",
       "| 544 | -0.26029484  |  2.03912545  | -0.29174200  | -0.33101571  | -0.6861628   | -0.6735301   | -0.739205434 | -0.4167000   | -0.669791876 | -0.7064240   | ...          |  1.8698820   | -0.43988376  | -0.44081856  | -1.1023178   | -0.7383223   | -0.7956336   | -0.5328613   | -0.6914065   | -1.0805342   | 0            | \n",
       "\n",
       "\n"
      ],
      "text/plain": [
       "    radius_mean texture_mean perimeter_mean area_mean   smoothness_mean\n",
       "478 -0.06449733 -0.62069898  -0.12342219    -0.15767796 -1.9965888     \n",
       "531 -0.67459103 -0.40214697  -0.66171636    -0.65922077  0.7778455     \n",
       "449  0.11427431  0.01170683   0.09387087     0.01367065 -0.8873839     \n",
       "293 -0.33407362 -0.76020026  -0.36334994    -0.40120328  0.2943459     \n",
       "80  -0.35961242 -0.29984603  -0.36129224    -0.42223114  0.2118666     \n",
       "544 -0.26029484  2.03912545  -0.29174200    -0.33101571 -0.6861628     \n",
       "    compactness_mean concavity_mean concave.points_mean symmetry_mean\n",
       "478 -0.9685346       -0.834915649   -0.9156325           0.005038873 \n",
       "531 -0.1365387       -0.451322154   -0.1164643          -0.779223889 \n",
       "449 -0.4987618       -0.007894096   -0.5068996          -1.235190611 \n",
       "293 -0.4716850       -0.341813613   -0.3922173          -0.297723030 \n",
       "80  -0.1681598       -0.626059152   -0.6641046          -0.341495836 \n",
       "544 -0.6735301       -0.739205434   -0.4167000          -0.669791876 \n",
       "    fractal_dimension_mean ... texture_worst perimeter_worst area_worst \n",
       "478 -1.0534317             ... -0.6308267    -0.18037959     -0.28397496\n",
       "531  0.5626326             ...  0.3746632    -0.55773199     -0.57658575\n",
       "449 -0.7559965             ...  0.4413705     0.02496202     -0.08796437\n",
       "293  0.2694465             ... -0.9350768    -0.54910169     -0.51844999\n",
       "80  -0.4004907             ... -0.1394708    -0.45773955     -0.45399131\n",
       "544 -0.7064240             ...  1.8698820    -0.43988376     -0.44081856\n",
       "    smoothness_worst compactness_worst concavity_worst concave.points_worst\n",
       "478 -1.6874505       -0.3410845        -0.6412891      -0.7969627          \n",
       "531  0.1108689       -0.4376928        -0.6499171      -0.2069943          \n",
       "449 -1.0278623        0.0675937         0.5067076      -0.2839732          \n",
       "293  0.6977534       -0.3016786        -0.2305028      -0.1370136          \n",
       "80  -0.1519152       -0.2552812        -0.4749614      -0.5377296          \n",
       "544 -1.1023178       -0.7383223        -0.7956336      -0.5328613          \n",
       "    symmetry_worst fractal_dimension_worst diagnosis\n",
       "478 -0.3584367     -0.3856771              0        \n",
       "531 -0.6833247     -0.3530105              0        \n",
       "449 -0.6946392     -0.5157898              0        \n",
       "293  0.7746305      0.6585464              0        \n",
       "80  -0.1968009     -0.2638695              0        \n",
       "544 -0.6914065     -1.0805342              0        "
      ]
     },
     "metadata": {},
     "output_type": "display_data"
    }
   ],
   "source": [
    "smp_size <- floor(0.75 * nrow(dfs))\n",
    "train_ind <- sample(seq_len(nrow(dfs)), size = smp_size)\n",
    "\n",
    "train <- dfs[train_ind, ]\n",
    "test <- dfs[-train_ind, ]\n",
    "head(train)"
   ]
  },
  {
   "cell_type": "markdown",
   "metadata": {},
   "source": [
    "## Logistic Regression"
   ]
  },
  {
   "cell_type": "markdown",
   "metadata": {},
   "source": [
    "Microsoft: DAT203.2x\n",
    "Module 1: Classification   Lesson 1: Introduction to Classification   Maximum Likelihood Perspective\n",
    "\n",
    "Video about Logistic Regression\n",
    "https://www.youtube.com/watch?time_continue=25&v=k_aR5EJDHHQ"
   ]
  },
  {
   "cell_type": "markdown",
   "metadata": {},
   "source": [
    "https://developers.google.com/machine-learning/crash-course/logistic-regression/calculating-a-probability\n",
    "\n",
    "https://developers.google.com/machine-learning/crash-course/logistic-regression/model-training"
   ]
  },
  {
   "cell_type": "markdown",
   "metadata": {},
   "source": [
    "![logistic](./lin_vs_log.jpg)\n",
    "\n",
    "![logistic2](./logistic.png)"
   ]
  },
  {
   "cell_type": "markdown",
   "metadata": {},
   "source": [
    "## L1 vs L2 Regularization\n",
    "\n",
    "* L1 - Lasso, niektóre parametry mogą zostać zredukowane do zera\n",
    "* L2 - Ridge, Grzbietowa, nie eliminuje paremetrów przez zredukowanie do zera. "
   ]
  },
  {
   "cell_type": "markdown",
   "metadata": {},
   "source": [
    "Dat203.2x\n",
    "Course   Module 1: Classification   Lesson 1: Introduction to Classification   Maximum Likelihood Perspective\n",
    "\n",
    "https://www.youtube.com/watch?time_continue=241&v=cJS3G7UgoI4\n",
    "\n",
    "https://www.youtube.com/watch?v=sO4ZirJh9ds\n",
    "\n",
    "http://www.chioka.in/differences-between-l1-and-l2-as-loss-function-and-regularization/\n",
    "\n",
    "![L1](https://image.slidesharecdn.com/kritipuniyanimeetupnycapr2011-110415122715-phpapp02/95/intro-to-classification-logistic-regression-svm-30-728.jpg?cb=1302870978)\n",
    "![L2](https://image.slidesharecdn.com/kritipuniyanimeetupnycapr2011-110415122715-phpapp02/95/intro-to-classification-logistic-regression-svm-28-728.jpg?cb=1302870978)"
   ]
  },
  {
   "cell_type": "markdown",
   "metadata": {},
   "source": [
    "https://mlr.mlr-org.com/articles/tutorial/integrated_learners.html"
   ]
  },
  {
   "cell_type": "code",
   "execution_count": 14,
   "metadata": {},
   "outputs": [],
   "source": [
    "#install.packages('LiblineaR')"
   ]
  },
  {
   "cell_type": "code",
   "execution_count": 15,
   "metadata": {},
   "outputs": [
    {
     "name": "stderr",
     "output_type": "stream",
     "text": [
      "Loading required package: ParamHelpers\n"
     ]
    }
   ],
   "source": [
    "library(mlr)\n",
    "\n",
    "task_train = makeClassifTask(data = train, target = \"diagnosis\")\n",
    "task_test = makeClassifTask(data = test, target = \"diagnosis\")\n",
    "full_test = makeClassifTask(data = dfs, target = \"diagnosis\")\n",
    "\n",
    "\n",
    "#LiblineaRL1LogReg\n",
    "#LiblineaRL2LogReg\n",
    "logistic <- makeLearner(\"classif.LiblineaRL2LogReg\",predict.type = \"prob\")"
   ]
  },
  {
   "cell_type": "markdown",
   "metadata": {},
   "source": [
    "### Measures"
   ]
  },
  {
   "cell_type": "markdown",
   "metadata": {},
   "source": [
    "https://www.rdocumentation.org/packages/mlr/versions/2.13/topics/measures"
   ]
  },
  {
   "cell_type": "code",
   "execution_count": 16,
   "metadata": {},
   "outputs": [
    {
     "data": {
      "text/html": [
       "<ol class=list-inline>\n",
       "\t<li>'tnr'</li>\n",
       "\t<li>'tpr'</li>\n",
       "\t<li>'featperc'</li>\n",
       "\t<li>'f1'</li>\n",
       "\t<li>'mmce'</li>\n",
       "\t<li>'mcc'</li>\n",
       "\t<li>'brier.scaled'</li>\n",
       "\t<li>'lsr'</li>\n",
       "\t<li>'bac'</li>\n",
       "\t<li>'fn'</li>\n",
       "\t<li>'fp'</li>\n",
       "\t<li>'fnr'</li>\n",
       "\t<li>'qsr'</li>\n",
       "\t<li>'fpr'</li>\n",
       "\t<li>'npv'</li>\n",
       "\t<li>'brier'</li>\n",
       "\t<li>'auc'</li>\n",
       "\t<li>'timeboth'</li>\n",
       "\t<li>'multiclass.aunp'</li>\n",
       "\t<li>'timetrain'</li>\n",
       "\t<li>'multiclass.aunu'</li>\n",
       "\t<li>'ber'</li>\n",
       "\t<li>'timepredict'</li>\n",
       "\t<li>'multiclass.brier'</li>\n",
       "\t<li>'ssr'</li>\n",
       "\t<li>'ppv'</li>\n",
       "\t<li>'acc'</li>\n",
       "\t<li>'logloss'</li>\n",
       "\t<li>'wkappa'</li>\n",
       "\t<li>'tn'</li>\n",
       "\t<li>'tp'</li>\n",
       "\t<li>'multiclass.au1p'</li>\n",
       "\t<li>'multiclass.au1u'</li>\n",
       "\t<li>'fdr'</li>\n",
       "\t<li>'kappa'</li>\n",
       "\t<li>'gpr'</li>\n",
       "\t<li>'gmean'</li>\n",
       "</ol>\n"
      ],
      "text/latex": [
       "\\begin{enumerate*}\n",
       "\\item 'tnr'\n",
       "\\item 'tpr'\n",
       "\\item 'featperc'\n",
       "\\item 'f1'\n",
       "\\item 'mmce'\n",
       "\\item 'mcc'\n",
       "\\item 'brier.scaled'\n",
       "\\item 'lsr'\n",
       "\\item 'bac'\n",
       "\\item 'fn'\n",
       "\\item 'fp'\n",
       "\\item 'fnr'\n",
       "\\item 'qsr'\n",
       "\\item 'fpr'\n",
       "\\item 'npv'\n",
       "\\item 'brier'\n",
       "\\item 'auc'\n",
       "\\item 'timeboth'\n",
       "\\item 'multiclass.aunp'\n",
       "\\item 'timetrain'\n",
       "\\item 'multiclass.aunu'\n",
       "\\item 'ber'\n",
       "\\item 'timepredict'\n",
       "\\item 'multiclass.brier'\n",
       "\\item 'ssr'\n",
       "\\item 'ppv'\n",
       "\\item 'acc'\n",
       "\\item 'logloss'\n",
       "\\item 'wkappa'\n",
       "\\item 'tn'\n",
       "\\item 'tp'\n",
       "\\item 'multiclass.au1p'\n",
       "\\item 'multiclass.au1u'\n",
       "\\item 'fdr'\n",
       "\\item 'kappa'\n",
       "\\item 'gpr'\n",
       "\\item 'gmean'\n",
       "\\end{enumerate*}\n"
      ],
      "text/markdown": [
       "1. 'tnr'\n",
       "2. 'tpr'\n",
       "3. 'featperc'\n",
       "4. 'f1'\n",
       "5. 'mmce'\n",
       "6. 'mcc'\n",
       "7. 'brier.scaled'\n",
       "8. 'lsr'\n",
       "9. 'bac'\n",
       "10. 'fn'\n",
       "11. 'fp'\n",
       "12. 'fnr'\n",
       "13. 'qsr'\n",
       "14. 'fpr'\n",
       "15. 'npv'\n",
       "16. 'brier'\n",
       "17. 'auc'\n",
       "18. 'timeboth'\n",
       "19. 'multiclass.aunp'\n",
       "20. 'timetrain'\n",
       "21. 'multiclass.aunu'\n",
       "22. 'ber'\n",
       "23. 'timepredict'\n",
       "24. 'multiclass.brier'\n",
       "25. 'ssr'\n",
       "26. 'ppv'\n",
       "27. 'acc'\n",
       "28. 'logloss'\n",
       "29. 'wkappa'\n",
       "30. 'tn'\n",
       "31. 'tp'\n",
       "32. 'multiclass.au1p'\n",
       "33. 'multiclass.au1u'\n",
       "34. 'fdr'\n",
       "35. 'kappa'\n",
       "36. 'gpr'\n",
       "37. 'gmean'\n",
       "\n",
       "\n"
      ],
      "text/plain": [
       " [1] \"tnr\"              \"tpr\"              \"featperc\"         \"f1\"              \n",
       " [5] \"mmce\"             \"mcc\"              \"brier.scaled\"     \"lsr\"             \n",
       " [9] \"bac\"              \"fn\"               \"fp\"               \"fnr\"             \n",
       "[13] \"qsr\"              \"fpr\"              \"npv\"              \"brier\"           \n",
       "[17] \"auc\"              \"timeboth\"         \"multiclass.aunp\"  \"timetrain\"       \n",
       "[21] \"multiclass.aunu\"  \"ber\"              \"timepredict\"      \"multiclass.brier\"\n",
       "[25] \"ssr\"              \"ppv\"              \"acc\"              \"logloss\"         \n",
       "[29] \"wkappa\"           \"tn\"               \"tp\"               \"multiclass.au1p\" \n",
       "[33] \"multiclass.au1u\"  \"fdr\"              \"kappa\"            \"gpr\"             \n",
       "[37] \"gmean\"           "
      ]
     },
     "metadata": {},
     "output_type": "display_data"
    }
   ],
   "source": [
    "listMeasures('classif')"
   ]
  },
  {
   "cell_type": "code",
   "execution_count": 17,
   "metadata": {},
   "outputs": [
    {
     "data": {
      "text/plain": [
       "                 Type  len   Def      Constr Req Tunable Trafo\n",
       "type         discrete    -     0         0,7   -    TRUE     -\n",
       "cost          numeric    -     1    0 to Inf   -    TRUE     -\n",
       "epsilon       numeric    -     -    0 to Inf   -    TRUE     -\n",
       "bias          logical    -  TRUE           -   -    TRUE     -\n",
       "wi      numericvector <NA>     - -Inf to Inf   -    TRUE     -\n",
       "cross         integer    -     0    0 to Inf   -   FALSE     -\n",
       "verbose       logical    - FALSE           -   -   FALSE     -"
      ]
     },
     "metadata": {},
     "output_type": "display_data"
    }
   ],
   "source": [
    "getParamSet(logistic)"
   ]
  },
  {
   "cell_type": "code",
   "execution_count": 18,
   "metadata": {},
   "outputs": [
    {
     "data": {
      "text/plain": [
       "Model for learner.id=classif.LiblineaRL2LogReg; learner.class=classif.LiblineaRL2LogReg\n",
       "Trained on: task.id = train; obs = 426; features = 30\n",
       "Hyperparameters: type=0"
      ]
     },
     "metadata": {},
     "output_type": "display_data"
    }
   ],
   "source": [
    "mod = train(logistic, task_train)\n",
    "mod"
   ]
  },
  {
   "cell_type": "markdown",
   "metadata": {},
   "source": [
    "## Confusion Matrix"
   ]
  },
  {
   "cell_type": "markdown",
   "metadata": {},
   "source": [
    "https://stanford.edu/~shervine/teaching/cs-229/cheatsheet-machine-learning-tips-and-tricks\n",
    "\n",
    "![cm](./confusion_matrix.jpg)\n",
    "![cm2](https://www.dataschool.io/content/images/2014/11/roc09.PNG)\n",
    "\n",
    "![img](http://algolytics.com/wp-content/uploads/2018/05/roc4_en.png)"
   ]
  },
  {
   "cell_type": "code",
   "execution_count": 19,
   "metadata": {},
   "outputs": [
    {
     "data": {
      "text/plain": [
       "        predicted\n",
       "true      0  1 -err.-\n",
       "  0      86  1      1\n",
       "  1       4 52      4\n",
       "  -err.-  4  1      5"
      ]
     },
     "metadata": {},
     "output_type": "display_data"
    }
   ],
   "source": [
    "calculateConfusionMatrix(predict(mod,task_test))"
   ]
  },
  {
   "cell_type": "code",
   "execution_count": 20,
   "metadata": {},
   "outputs": [
    {
     "name": "stdout",
     "output_type": "stream",
     "text": [
      "Precision:  0.9885057, Recall  0.9555556, Accurracy: 0.965035, Specificity: 0.9811321, F1 Score: 0.9717514"
     ]
    },
    {
     "data": {
      "text/html": [
       "0.971751412429379"
      ],
      "text/latex": [
       "0.971751412429379"
      ],
      "text/markdown": [
       "0.971751412429379"
      ],
      "text/plain": [
       "[1] 0.9717514"
      ]
     },
     "metadata": {},
     "output_type": "display_data"
    },
    {
     "data": {
      "image/png": "[encoded data removed]",
      "text/plain": [
       "plot without title"
      ]
     },
     "metadata": {},
     "output_type": "display_data"
    }
   ],
   "source": [
    "confusion_matrix <- function(model, test) {\n",
    "   pred  <- predict(model,test)\n",
    "   y_pred <- getPredictionResponse(pred)\n",
    "   y_truth <- getPredictionTruth(pred)\n",
    "   xtab <- table(y_pred, y_truth)\n",
    "   \n",
    "   fourfoldplot(xtab, color = c(\"#CC6666\", \"#99CC99\"))\n",
    "   TP <- xtab[[1]]\n",
    "   FP <- xtab[[2]]\n",
    "   FN <- xtab[[3]]\n",
    "   TN <- xtab[[4]]\n",
    "    \n",
    "   cat('Precision: ' , TP/(TP+FP))\n",
    "   cat(', Recall ', TP/(TP+FN))\n",
    "   cat(', Accurracy:', (TP+TN)/(TP+TN+FP+FN))\n",
    "   cat(', Specificity:', (TN)/(TN+FP))\n",
    "   cat(', F1 Score:', 2*TP/(2*TP+FP+FN))\n",
    "    \n",
    "  measureACC(y_truth,y_pred)\n",
    "  measureF1(y_truth,y_pred,0)\n",
    "\n",
    "}\n",
    "\n",
    "confusion_matrix(mod,task_test)"
   ]
  },
  {
   "cell_type": "markdown",
   "metadata": {},
   "source": [
    "## ROC"
   ]
  },
  {
   "cell_type": "markdown",
   "metadata": {},
   "source": [
    "http://getthediagnosis.org/roc.html\n",
    "\n",
    "http://pbiecek.github.io/Przewodnik/Predykcja/ROC.html\n",
    "\n",
    "![sensitivity](https://i2.wp.com/www.stomponstep1.com/wp-content/uploads/2014/06/Sensitivity-Specificity.png?resize=474%2C345)"
   ]
  },
  {
   "cell_type": "code",
   "execution_count": 21,
   "metadata": {},
   "outputs": [
    {
     "name": "stdout",
     "output_type": "stream",
     "text": [
      "      auc \n",
      "0.9969212 \n"
     ]
    },
    {
     "data": {},
     "metadata": {},
     "output_type": "display_data"
    },
    {
     "data": {
      "image/png": "[encoded data removed]",
      "text/plain": [
       "plot without title"
      ]
     },
     "metadata": {},
     "output_type": "display_data"
    }
   ],
   "source": [
    "plot_roc <- function(model, test) {\n",
    "  pred  <- predict(model,test)\n",
    "  roc <- generateThreshVsPerfData(pred, list(fpr, tpr));\n",
    "  \n",
    "  print(performance(pred, auc))\n",
    "  plotROCCurves(roc)  \n",
    "}\n",
    "\n",
    "plot_roc(mod,task_test)"
   ]
  },
  {
   "cell_type": "markdown",
   "metadata": {},
   "source": [
    "# PCA"
   ]
  },
  {
   "cell_type": "markdown",
   "metadata": {},
   "source": [
    "http://www.sthda.com/english/articles/31-principal-component-methods-in-r-practical-guide/112-pca-principal-component-analysis-essentials/\n",
    "\n"
   ]
  },
  {
   "cell_type": "markdown",
   "metadata": {},
   "source": [
    "https://github.com/pbiecek/Atlas/blob/master/cheatsheets/PCA.pdf"
   ]
  },
  {
   "cell_type": "code",
   "execution_count": 22,
   "metadata": {},
   "outputs": [
    {
     "name": "stderr",
     "output_type": "stream",
     "text": [
      "Welcome! Related Books: `Practical Guide To Cluster Analysis in R` at https://goo.gl/13EFCZ\n"
     ]
    }
   ],
   "source": [
    "# install.packages(\"factoextra\")\n",
    "library(\"FactoMineR\")\n",
    "library(\"factoextra\")"
   ]
  },
  {
   "cell_type": "code",
   "execution_count": 23,
   "metadata": {},
   "outputs": [
    {
     "name": "stderr",
     "output_type": "stream",
     "text": [
      "Warning message:\n",
      "\"In prcomp.default(df[, columns_input], cor = TRUE, scale = TRUE) :\n",
      " extra argument 'cor' will be disregarded\""
     ]
    },
    {
     "data": {},
     "metadata": {},
     "output_type": "display_data"
    },
    {
     "data": {
      "image/png": "[encoded data removed]",
      "text/plain": [
       "plot without title"
      ]
     },
     "metadata": {},
     "output_type": "display_data"
    }
   ],
   "source": [
    "library(factoextra)\n",
    "\n",
    "res.pca <- prcomp(df[,columns_input], cor=TRUE, scale = TRUE)\n",
    "fviz_eig(res.pca,addlabels = TRUE ,ncp = 15)"
   ]
  },
  {
   "cell_type": "code",
   "execution_count": 24,
   "metadata": {},
   "outputs": [],
   "source": [
    "all_var  <- get_pca_var(res.pca)"
   ]
  },
  {
   "cell_type": "code",
   "execution_count": 25,
   "metadata": {},
   "outputs": [
    {
     "data": {
      "image/png": "[encoded data removed]",
      "text/plain": [
       "Plot with title \"\""
      ]
     },
     "metadata": {},
     "output_type": "display_data"
    }
   ],
   "source": [
    "library(\"corrplot\")\n",
    "corrplot(all_var$cos2, is.corr=FALSE)"
   ]
  },
  {
   "cell_type": "markdown",
   "metadata": {},
   "source": [
    "kmeans\n",
    "* centers: either the number of clusters, say k, or a set of initial (distinct) cluster centres. If a number, a random set of (distinct) rows in x is chosen as the initial centres.\n",
    "* nstart: if centers is a number, how many random sets should be chosen?"
   ]
  },
  {
   "cell_type": "markdown",
   "metadata": {},
   "source": [
    "The plot above is also known as variable correlation plots. It shows the relationships between all variables. It can be interpreted as follow:\n",
    "\n",
    "* Positively correlated variables are grouped together.\n",
    "* Negatively correlated variables are positioned on opposite sides of the plot origin (opposed quadrants).\n",
    "* The distance between variables and the origin measures the quality of the variables on the factor map. Variables that are away from the origin are well represented on the factor map."
   ]
  },
  {
   "cell_type": "code",
   "execution_count": 26,
   "metadata": {},
   "outputs": [
    {
     "data": {},
     "metadata": {},
     "output_type": "display_data"
    },
    {
     "data": {
      "image/png": "[encoded data removed]",
      "text/plain": [
       "plot without title"
      ]
     },
     "metadata": {},
     "output_type": "display_data"
    }
   ],
   "source": [
    "res.all <- kmeans(all_var$coord, centers = 5, nstart = 25)\n",
    "fviz_pca_var(res.pca, palette = \"jco\", repel = TRUE, col.var = as.factor(res.all$cluster))"
   ]
  },
  {
   "cell_type": "code",
   "execution_count": 27,
   "metadata": {},
   "outputs": [],
   "source": [
    "## preProcess"
   ]
  },
  {
   "cell_type": "code",
   "execution_count": 28,
   "metadata": {},
   "outputs": [
    {
     "data": {
      "text/plain": [
       "Learner classif.LiblineaRL2LogReg from package LiblineaR\n",
       "Type: classif\n",
       "Name: L2-Regularized Logistic Regression; Short name: liblinl2logreg\n",
       "Class: classif.LiblineaRL2LogReg\n",
       "Properties: twoclass,multiclass,numerics,class.weights,prob\n",
       "Predict-Type: prob\n",
       "Hyperparameters: type=0\n"
      ]
     },
     "metadata": {},
     "output_type": "display_data"
    }
   ],
   "source": [
    "logistic"
   ]
  },
  {
   "cell_type": "code",
   "execution_count": 29,
   "metadata": {},
   "outputs": [],
   "source": [
    "#source(\"https://bioconductor.org/biocLite.R\"), required for \n",
    "# biocLite(\"Biobase\")"
   ]
  },
  {
   "cell_type": "code",
   "execution_count": 30,
   "metadata": {},
   "outputs": [],
   "source": [
    "# library(\"Biobase\")"
   ]
  },
  {
   "cell_type": "code",
   "execution_count": 31,
   "metadata": {},
   "outputs": [
    {
     "name": "stdout",
     "output_type": "stream",
     "text": [
      "Precision:  0.9885057, Recall  0.9555556, Accurracy: 0.965035, Specificity: 0.9811321, F1 Score: 0.9717514"
     ]
    },
    {
     "data": {
      "text/html": [
       "0.971751412429379"
      ],
      "text/latex": [
       "0.971751412429379"
      ],
      "text/markdown": [
       "0.971751412429379"
      ],
      "text/plain": [
       "[1] 0.9717514"
      ]
     },
     "metadata": {},
     "output_type": "display_data"
    },
    {
     "name": "stdout",
     "output_type": "stream",
     "text": [
      "      auc \n",
      "0.9969212 \n"
     ]
    },
    {
     "data": {},
     "metadata": {},
     "output_type": "display_data"
    },
    {
     "data": {
      "image/png": "[encoded data removed]",
      "text/plain": [
       "plot without title"
      ]
     },
     "metadata": {},
     "output_type": "display_data"
    },
    {
     "data": {
      "image/png": "[encoded data removed]",
      "text/plain": [
       "plot without title"
      ]
     },
     "metadata": {},
     "output_type": "display_data"
    }
   ],
   "source": [
    "log.pca <- makePreprocWrapperCaret(logistic, ppc.knnImpute = TRUE, ppc.pca =TRUE, ppc.pcaComp = 7)\n",
    "mod <- train(log.pca, task_train)\n",
    "confusion_matrix(mod, task_test)\n",
    "plot_roc(mod,task_test)"
   ]
  },
  {
   "cell_type": "markdown",
   "metadata": {},
   "source": [
    "# XGBoost\n",
    "\n",
    "Tree Ensemble Model. The final prediction for a given example is the sum of predictions from each tree.\n",
    "\n",
    "* https://towardsdatascience.com/catboost-vs-light-gbm-vs-xgboost-5f93620723db\n",
    "* https://www.hackerearth.com/practice/machine-learning/machine-learning-algorithms/beginners-tutorial-on-xgboost-parameter-tuning-r/tutorial/\n",
    "* https://xgboost.readthedocs.io/en/latest/parameter.html\n",
    "* https://www.hackerearth.com/practice/machine-learning/machine-learning-algorithms/beginners-tutorial-on-xgboost-parameter-tuning-r/tutorial/\n",
    "\n",
    "![xgboost](http://inspirehep.net/record/1632415/files/tree_model.png)\n",
    "![img](https://www.hackerearth.com/blog/wp-content/uploads/2016/12/bigd.png)\n",
    "![img2](./xgboost_par.png) "
   ]
  },
  {
   "cell_type": "code",
   "execution_count": 32,
   "metadata": {},
   "outputs": [
    {
     "data": {
      "text/plain": [
       "                                Type  len             Def               Constr\n",
       "booster                     discrete    -          gbtree gbtree,gblinear,dart\n",
       "watchlist                    untyped    -          <NULL>                    -\n",
       "eta                          numeric    -             0.3               0 to 1\n",
       "gamma                        numeric    -               0             0 to Inf\n",
       "max_depth                    integer    -               6             1 to Inf\n",
       "min_child_weight             numeric    -               1             0 to Inf\n",
       "subsample                    numeric    -               1               0 to 1\n",
       "colsample_bytree             numeric    -               1               0 to 1\n",
       "colsample_bylevel            numeric    -               1               0 to 1\n",
       "num_parallel_tree            integer    -               1             1 to Inf\n",
       "lambda                       numeric    -               1             0 to Inf\n",
       "lambda_bias                  numeric    -               0             0 to Inf\n",
       "alpha                        numeric    -               0             0 to Inf\n",
       "objective                    untyped    - binary:logistic                    -\n",
       "eval_metric                  untyped    -           error                    -\n",
       "base_score                   numeric    -             0.5          -Inf to Inf\n",
       "max_delta_step               numeric    -               0             0 to Inf\n",
       "missing                      numeric    -          <NULL>          -Inf to Inf\n",
       "monotone_constraints   integervector <NA>               0              -1 to 1\n",
       "tweedie_variance_power       numeric    -             1.5               1 to 2\n",
       "nthread                      integer    -               -             1 to Inf\n",
       "nrounds                      integer    -               1             1 to Inf\n",
       "feval                        untyped    -          <NULL>                    -\n",
       "verbose                      integer    -               1               0 to 2\n",
       "print_every_n                integer    -               1             1 to Inf\n",
       "early_stopping_rounds        integer    -          <NULL>             1 to Inf\n",
       "maximize                     logical    -          <NULL>                    -\n",
       "sample_type                 discrete    -         uniform     uniform,weighted\n",
       "normalize_type              discrete    -            tree          tree,forest\n",
       "rate_drop                    numeric    -               0               0 to 1\n",
       "skip_drop                    numeric    -               0               0 to 1\n",
       "callbacks                    untyped    -                                    -\n",
       "                       Req Tunable Trafo\n",
       "booster                  -    TRUE     -\n",
       "watchlist                -   FALSE     -\n",
       "eta                      -    TRUE     -\n",
       "gamma                    -    TRUE     -\n",
       "max_depth                -    TRUE     -\n",
       "min_child_weight         -    TRUE     -\n",
       "subsample                -    TRUE     -\n",
       "colsample_bytree         -    TRUE     -\n",
       "colsample_bylevel        -    TRUE     -\n",
       "num_parallel_tree        -    TRUE     -\n",
       "lambda                   -    TRUE     -\n",
       "lambda_bias              -    TRUE     -\n",
       "alpha                    -    TRUE     -\n",
       "objective                -   FALSE     -\n",
       "eval_metric              -   FALSE     -\n",
       "base_score               -   FALSE     -\n",
       "max_delta_step           -    TRUE     -\n",
       "missing                  -   FALSE     -\n",
       "monotone_constraints     -    TRUE     -\n",
       "tweedie_variance_power   Y    TRUE     -\n",
       "nthread                  -   FALSE     -\n",
       "nrounds                  -    TRUE     -\n",
       "feval                    -   FALSE     -\n",
       "verbose                  -   FALSE     -\n",
       "print_every_n            Y   FALSE     -\n",
       "early_stopping_rounds    -   FALSE     -\n",
       "maximize                 -   FALSE     -\n",
       "sample_type              Y    TRUE     -\n",
       "normalize_type           Y    TRUE     -\n",
       "rate_drop                Y    TRUE     -\n",
       "skip_drop                Y    TRUE     -\n",
       "callbacks                -   FALSE     -"
      ]
     },
     "metadata": {},
     "output_type": "display_data"
    }
   ],
   "source": [
    "task_train = makeClassifTask(data = train, target = \"diagnosis\")\n",
    "task_test = makeClassifTask(data = test, target = \"diagnosis\")\n",
    "full_test = makeClassifTask(data = dfs, target = \"diagnosis\")\n",
    "\n",
    "xgboost <- makeLearner(\"classif.xgboost\",predict.type = \"prob\" )\n",
    "\n",
    "getParamSet(xgboost)"
   ]
  },
  {
   "cell_type": "code",
   "execution_count": 33,
   "metadata": {},
   "outputs": [
    {
     "name": "stdout",
     "output_type": "stream",
     "text": [
      "Precision:  0.954023, Recall  0.9431818, Accurracy: 0.9370629, Specificity: 0.9272727, F1 Score: 0.9485714"
     ]
    },
    {
     "data": {
      "text/html": [
       "0.948571428571429"
      ],
      "text/latex": [
       "0.948571428571429"
      ],
      "text/markdown": [
       "0.948571428571429"
      ],
      "text/plain": [
       "[1] 0.9485714"
      ]
     },
     "metadata": {},
     "output_type": "display_data"
    },
    {
     "name": "stdout",
     "output_type": "stream",
     "text": [
      "      auc \n",
      "0.9664409 \n"
     ]
    },
    {
     "data": {},
     "metadata": {},
     "output_type": "display_data"
    },
    {
     "data": {
      "image/png": "[encoded data removed]",
      "text/plain": [
       "plot without title"
      ]
     },
     "metadata": {},
     "output_type": "display_data"
    },
    {
     "data": {
      "image/png": "[encoded data removed]",
      "text/plain": [
       "plot without title"
      ]
     },
     "metadata": {},
     "output_type": "display_data"
    }
   ],
   "source": [
    "mod = train(xgboost, task_train)\n",
    "confusion_matrix(mod,task_test)\n",
    "plot_roc(mod,task_test)"
   ]
  },
  {
   "cell_type": "code",
   "execution_count": 34,
   "metadata": {},
   "outputs": [
    {
     "name": "stderr",
     "output_type": "stream",
     "text": [
      "Rattle: A free graphical interface for data science with R.\n",
      "Version 5.1.0 Copyright (c) 2006-2017 Togaware Pty Ltd.\n",
      "Type 'rattle()' to shake, rattle, and roll your data.\n"
     ]
    }
   ],
   "source": [
    "library(rpart)\n",
    "library(rattle)"
   ]
  },
  {
   "cell_type": "code",
   "execution_count": 35,
   "metadata": {},
   "outputs": [
    {
     "data": {
      "text/plain": [
       "Learner classif.xgboost from package xgboost\n",
       "Type: classif\n",
       "Name: eXtreme Gradient Boosting; Short name: xgboost\n",
       "Class: classif.xgboost\n",
       "Properties: twoclass,multiclass,numerics,prob,weights,missings,featimp\n",
       "Predict-Type: prob\n",
       "Hyperparameters: nrounds=1,verbose=0\n"
      ]
     },
     "metadata": {},
     "output_type": "display_data"
    }
   ],
   "source": [
    "xgboost"
   ]
  }
 ],
 "metadata": {
  "kernelspec": {
   "display_name": "R 3.3",
   "language": "R",
   "name": "ir33"
  },
  "language_info": {
   "codemirror_mode": "r",
   "file_extension": ".r",
   "mimetype": "text/x-r-source",
   "name": "R",
   "pygments_lexer": "r",
   "version": "3.5.1"
  }
 },
 "nbformat": 4,
 "nbformat_minor": 2
}
