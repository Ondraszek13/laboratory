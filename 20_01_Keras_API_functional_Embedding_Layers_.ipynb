{
  "nbformat": 4,
  "nbformat_minor": 0,
  "metadata": {
    "colab": {
      "name": "20.01 Keras API functional - Embedding Layers .ipynb",
      "provenance": [],
      "collapsed_sections": [],
      "toc_visible": true,
      "authorship_tag": "ABX9TyP1ggHQR0wO/RoAaCdlSNu/",
      "include_colab_link": true
    },
    "kernelspec": {
      "name": "python3",
      "display_name": "Python 3"
    },
    "accelerator": "GPU"
  },
  "cells": [
    {
      "cell_type": "markdown",
      "metadata": {
        "id": "view-in-github",
        "colab_type": "text"
      },
      "source": [
        "<a href=\"https://colab.research.google.com/github/alexiej/laboratory/blob/master/20_01_Keras_API_functional_Embedding_Layers_.ipynb\" target=\"_parent\"><img src=\"https://colab.research.google.com/assets/colab-badge.svg\" alt=\"Open In Colab\"/></a>"
      ]
    },
    {
      "cell_type": "code",
      "metadata": {
        "id": "VzCp6UIgdsn3",
        "colab_type": "code",
        "outputId": "a3cbe3eb-d017-4f6c-8dde-91e5e76c2f1a",
        "colab": {
          "base_uri": "https://localhost:8080/",
          "height": 340
        }
      },
      "source": [
        "%tensorflow_version 2.x\n",
        "\n",
        "import numpy as np\n",
        "import pandas as pd\n",
        "import matplotlib.pyplot as plt\n",
        "\n",
        "import tensorflow as tf\n",
        "\n",
        "print(\"Tensorflow version: \", tf.__version__)\n",
        "\n",
        "!nvidia-smi"
      ],
      "execution_count": 1,
      "outputs": [
        {
          "output_type": "stream",
          "text": [
            "TensorFlow 2.x selected.\n",
            "Tensorflow version:  2.1.0\n",
            "Fri Feb 21 13:58:01 2020       \n",
            "+-----------------------------------------------------------------------------+\n",
            "| NVIDIA-SMI 440.48.02    Driver Version: 418.67       CUDA Version: 10.1     |\n",
            "|-------------------------------+----------------------+----------------------+\n",
            "| GPU  Name        Persistence-M| Bus-Id        Disp.A | Volatile Uncorr. ECC |\n",
            "| Fan  Temp  Perf  Pwr:Usage/Cap|         Memory-Usage | GPU-Util  Compute M. |\n",
            "|===============================+======================+======================|\n",
            "|   0  Tesla P100-PCIE...  Off  | 00000000:00:04.0 Off |                    0 |\n",
            "| N/A   34C    P0    26W / 250W |      0MiB / 16280MiB |      0%      Default |\n",
            "+-------------------------------+----------------------+----------------------+\n",
            "                                                                               \n",
            "+-----------------------------------------------------------------------------+\n",
            "| Processes:                                                       GPU Memory |\n",
            "|  GPU       PID   Type   Process name                             Usage      |\n",
            "|=============================================================================|\n",
            "|  No running processes found                                                 |\n",
            "+-----------------------------------------------------------------------------+\n"
          ],
          "name": "stdout"
        }
      ]
    },
    {
      "cell_type": "markdown",
      "metadata": {
        "id": "_70MaGe1eCto",
        "colab_type": "text"
      },
      "source": [
        "## 01 Define Embedding Layer\n",
        "\n",
        "* usefull for t high cardinality categorical variable type of data, like day in the week, month in the year, team number, \n",
        "* Define input dimension as number of dimensions\n",
        "\n",
        "More info: https://medium.com/@satnalikamayank12/on-learning-embeddings-for-categorical-data-using-keras-165ff2773fc9\n"
      ]
    },
    {
      "cell_type": "code",
      "metadata": {
        "id": "BAwFsRyP1IIQ",
        "colab_type": "code",
        "outputId": "e0b8b48a-9e26-4ed8-c17f-eb946e0cd94a",
        "colab": {
          "base_uri": "https://localhost:8080/",
          "height": 544
        }
      },
      "source": [
        "!wget https://s3.amazonaws.com/tripdata/201307-citibike-tripdata.zip\n",
        "!unzip -o 201307-citibike-tripdata.zip\n",
        "\n",
        "import pandas as pd\n",
        "data = pd.read_csv('2013-07 - Citi Bike trip data.csv')\n",
        "data['weekday'] = pd.to_datetime(data['starttime']).dt.dayofweek\n",
        "\n",
        "X = data['weekday']\n",
        "Y = data['tripduration']\n",
        "\n",
        "data.head()"
      ],
      "execution_count": 6,
      "outputs": [
        {
          "output_type": "stream",
          "text": [
            "--2020-02-21 13:59:29--  https://s3.amazonaws.com/tripdata/201307-citibike-tripdata.zip\n",
            "Resolving s3.amazonaws.com (s3.amazonaws.com)... 52.216.104.93\n",
            "Connecting to s3.amazonaws.com (s3.amazonaws.com)|52.216.104.93|:443... connected.\n",
            "HTTP request sent, awaiting response... 200 OK\n",
            "Length: 27074629 (26M) [application/zip]\n",
            "Saving to: ‘201307-citibike-tripdata.zip.2’\n",
            "\n",
            "201307-citibike-tri 100%[===================>]  25.82M  59.3MB/s    in 0.4s    \n",
            "\n",
            "2020-02-21 13:59:30 (59.3 MB/s) - ‘201307-citibike-tripdata.zip.2’ saved [27074629/27074629]\n",
            "\n",
            "Archive:  201307-citibike-tripdata.zip\n",
            "  inflating: 2013-07 - Citi Bike trip data.csv  \n"
          ],
          "name": "stdout"
        },
        {
          "output_type": "execute_result",
          "data": {
            "text/html": [
              "<div>\n",
              "<style scoped>\n",
              "    .dataframe tbody tr th:only-of-type {\n",
              "        vertical-align: middle;\n",
              "    }\n",
              "\n",
              "    .dataframe tbody tr th {\n",
              "        vertical-align: top;\n",
              "    }\n",
              "\n",
              "    .dataframe thead th {\n",
              "        text-align: right;\n",
              "    }\n",
              "</style>\n",
              "<table border=\"1\" class=\"dataframe\">\n",
              "  <thead>\n",
              "    <tr style=\"text-align: right;\">\n",
              "      <th></th>\n",
              "      <th>tripduration</th>\n",
              "      <th>starttime</th>\n",
              "      <th>stoptime</th>\n",
              "      <th>start station id</th>\n",
              "      <th>start station name</th>\n",
              "      <th>start station latitude</th>\n",
              "      <th>start station longitude</th>\n",
              "      <th>end station id</th>\n",
              "      <th>end station name</th>\n",
              "      <th>end station latitude</th>\n",
              "      <th>end station longitude</th>\n",
              "      <th>bikeid</th>\n",
              "      <th>usertype</th>\n",
              "      <th>birth year</th>\n",
              "      <th>gender</th>\n",
              "      <th>weekday</th>\n",
              "    </tr>\n",
              "  </thead>\n",
              "  <tbody>\n",
              "    <tr>\n",
              "      <th>0</th>\n",
              "      <td>634</td>\n",
              "      <td>2013-07-01 00:00:00</td>\n",
              "      <td>2013-07-01 00:10:34</td>\n",
              "      <td>164</td>\n",
              "      <td>E 47 St &amp; 2 Ave</td>\n",
              "      <td>40.753231</td>\n",
              "      <td>-73.970325</td>\n",
              "      <td>504</td>\n",
              "      <td>1 Ave &amp; E 15 St</td>\n",
              "      <td>40.732219</td>\n",
              "      <td>-73.981656</td>\n",
              "      <td>16950</td>\n",
              "      <td>Customer</td>\n",
              "      <td>\\N</td>\n",
              "      <td>0</td>\n",
              "      <td>0</td>\n",
              "    </tr>\n",
              "    <tr>\n",
              "      <th>1</th>\n",
              "      <td>1547</td>\n",
              "      <td>2013-07-01 00:00:02</td>\n",
              "      <td>2013-07-01 00:25:49</td>\n",
              "      <td>388</td>\n",
              "      <td>W 26 St &amp; 10 Ave</td>\n",
              "      <td>40.749718</td>\n",
              "      <td>-74.002950</td>\n",
              "      <td>459</td>\n",
              "      <td>W 20 St &amp; 11 Ave</td>\n",
              "      <td>40.746745</td>\n",
              "      <td>-74.007756</td>\n",
              "      <td>19816</td>\n",
              "      <td>Customer</td>\n",
              "      <td>\\N</td>\n",
              "      <td>0</td>\n",
              "      <td>0</td>\n",
              "    </tr>\n",
              "    <tr>\n",
              "      <th>2</th>\n",
              "      <td>178</td>\n",
              "      <td>2013-07-01 00:01:04</td>\n",
              "      <td>2013-07-01 00:04:02</td>\n",
              "      <td>293</td>\n",
              "      <td>Lafayette St &amp; E 8 St</td>\n",
              "      <td>40.730287</td>\n",
              "      <td>-73.990765</td>\n",
              "      <td>237</td>\n",
              "      <td>E 11 St &amp; 2 Ave</td>\n",
              "      <td>40.730473</td>\n",
              "      <td>-73.986724</td>\n",
              "      <td>14548</td>\n",
              "      <td>Subscriber</td>\n",
              "      <td>1980</td>\n",
              "      <td>2</td>\n",
              "      <td>0</td>\n",
              "    </tr>\n",
              "    <tr>\n",
              "      <th>3</th>\n",
              "      <td>1580</td>\n",
              "      <td>2013-07-01 00:01:06</td>\n",
              "      <td>2013-07-01 00:27:26</td>\n",
              "      <td>531</td>\n",
              "      <td>Forsyth St &amp; Broome St</td>\n",
              "      <td>40.718939</td>\n",
              "      <td>-73.992663</td>\n",
              "      <td>499</td>\n",
              "      <td>Broadway &amp; W 60 St</td>\n",
              "      <td>40.769155</td>\n",
              "      <td>-73.981918</td>\n",
              "      <td>16063</td>\n",
              "      <td>Customer</td>\n",
              "      <td>\\N</td>\n",
              "      <td>0</td>\n",
              "      <td>0</td>\n",
              "    </tr>\n",
              "    <tr>\n",
              "      <th>4</th>\n",
              "      <td>757</td>\n",
              "      <td>2013-07-01 00:01:10</td>\n",
              "      <td>2013-07-01 00:13:47</td>\n",
              "      <td>382</td>\n",
              "      <td>University Pl &amp; E 14 St</td>\n",
              "      <td>40.734927</td>\n",
              "      <td>-73.992005</td>\n",
              "      <td>410</td>\n",
              "      <td>Suffolk St &amp; Stanton St</td>\n",
              "      <td>40.720664</td>\n",
              "      <td>-73.985180</td>\n",
              "      <td>19213</td>\n",
              "      <td>Subscriber</td>\n",
              "      <td>1986</td>\n",
              "      <td>1</td>\n",
              "      <td>0</td>\n",
              "    </tr>\n",
              "  </tbody>\n",
              "</table>\n",
              "</div>"
            ],
            "text/plain": [
              "   tripduration            starttime  ... gender  weekday\n",
              "0           634  2013-07-01 00:00:00  ...      0        0\n",
              "1          1547  2013-07-01 00:00:02  ...      0        0\n",
              "2           178  2013-07-01 00:01:04  ...      2        0\n",
              "3          1580  2013-07-01 00:01:06  ...      0        0\n",
              "4           757  2013-07-01 00:01:10  ...      1        0\n",
              "\n",
              "[5 rows x 16 columns]"
            ]
          },
          "metadata": {
            "tags": []
          },
          "execution_count": 6
        }
      ]
    },
    {
      "cell_type": "code",
      "metadata": {
        "id": "UIdLyIcOdxn3",
        "colab_type": "code",
        "colab": {}
      },
      "source": [
        "# Imports\n",
        "from tensorflow.keras.layers import Embedding\n",
        "from numpy import unique\n",
        "\n",
        "# Count the unique number of days\n",
        "n_days = unique(data['weekday']).shape[0]\n",
        "\n",
        "week_lookup = Embedding(input_dim=n_days,\n",
        "                        output_dim=1,\n",
        "                        input_length=1,\n",
        "                        name='Team-Strength')"
      ],
      "execution_count": 0,
      "outputs": []
    },
    {
      "cell_type": "code",
      "metadata": {
        "id": "jelmaTpEejS9",
        "colab_type": "code",
        "colab": {}
      },
      "source": [
        "# Imports\n",
        "from tensorflow.keras.layers import Input, Embedding, Flatten\n",
        "from tensorflow.keras.models import Model\n",
        "\n",
        "# Create an input layer for the team ID\n",
        "teamid_in = Input(shape=(1,))\n",
        "\n",
        "# Lookup the input in the team strength embedding layer\n",
        "strength_lookup = week_lookup(teamid_in)\n",
        "\n",
        "# Flatten the output\n",
        "strength_lookup_flat = Flatten()(strength_lookup)\n",
        "\n",
        "# Combine the operations into a single, re-usable model\n",
        "team_strength_model = Model(teamid_in, strength_lookup_flat, name='Team-Strength-Model')"
      ],
      "execution_count": 0,
      "outputs": []
    },
    {
      "cell_type": "code",
      "metadata": {
        "id": "djLoRiwdDBJB",
        "colab_type": "code",
        "colab": {}
      },
      "source": [
        "team_strength_model.compile(optimizer='Adam',loss='mse')"
      ],
      "execution_count": 0,
      "outputs": []
    },
    {
      "cell_type": "code",
      "metadata": {
        "id": "TsNO776h10dR",
        "colab_type": "code",
        "colab": {
          "base_uri": "https://localhost:8080/",
          "height": 68
        },
        "outputId": "524dc13d-e9fc-4785-e59b-ee1ec8e8b1ee"
      },
      "source": [
        "team_strength_model.fit(X,Y, validation_split=0.3)"
      ],
      "execution_count": 12,
      "outputs": [
        {
          "output_type": "stream",
          "text": [
            "Train on 590391 samples, validate on 253025 samples\n",
            "590391/590391 [==============================] - 59s 100us/sample - loss: 71964529.3875 - val_loss: 5485380.5578\n"
          ],
          "name": "stdout"
        },
        {
          "output_type": "execute_result",
          "data": {
            "text/plain": [
              "<tensorflow.python.keras.callbacks.History at 0x7f1e7a3ad550>"
            ]
          },
          "metadata": {
            "tags": []
          },
          "execution_count": 12
        }
      ]
    },
    {
      "cell_type": "code",
      "metadata": {
        "id": "aucr3kfYC_kC",
        "colab_type": "code",
        "colab": {
          "base_uri": "https://localhost:8080/",
          "height": 255
        },
        "outputId": "41bb01f0-503d-4293-fc9e-c6071ff49542"
      },
      "source": [
        "team_strength_model.summary()"
      ],
      "execution_count": 13,
      "outputs": [
        {
          "output_type": "stream",
          "text": [
            "Model: \"Team-Strength-Model\"\n",
            "_________________________________________________________________\n",
            "Layer (type)                 Output Shape              Param #   \n",
            "=================================================================\n",
            "input_2 (InputLayer)         [(None, 1)]               0         \n",
            "_________________________________________________________________\n",
            "Team-Strength (Embedding)    (None, 1, 1)              7         \n",
            "_________________________________________________________________\n",
            "flatten (Flatten)            (None, 1)                 0         \n",
            "=================================================================\n",
            "Total params: 7\n",
            "Trainable params: 7\n",
            "Non-trainable params: 0\n",
            "_________________________________________________________________\n"
          ],
          "name": "stdout"
        }
      ]
    },
    {
      "cell_type": "code",
      "metadata": {
        "id": "_p_dt0ZSHtKI",
        "colab_type": "code",
        "colab": {}
      },
      "source": [
        "# Import the Subtract layer from keras\n",
        "from keras.layers import Subtract\n",
        "\n",
        "# Create a subtract layer using the inputs from the previous exercise\n",
        "score_diff = Subtract()([team_1_strength, team_2_strength])"
      ],
      "execution_count": 0,
      "outputs": []
    },
    {
      "cell_type": "code",
      "metadata": {
        "id": "VbZ8EofmHoMn",
        "colab_type": "code",
        "colab": {}
      },
      "source": [
        "# Imports\n",
        "from keras.layers import Subtract\n",
        "from keras.models import Model\n",
        "\n",
        "# Subtraction layer from previous exercise\n",
        "score_diff = Subtract()([team_1_strength, team_2_strength])\n",
        "\n",
        "# Create the model\n",
        "model = Model([team_in_1, team_in_2], score_diff)\n",
        "\n",
        "# Compile the model\n",
        "model.compile(optimizer='adam', loss='mean_absolute_error')"
      ],
      "execution_count": 0,
      "outputs": []
    },
    {
      "cell_type": "code",
      "metadata": {
        "id": "CaafIpuwHmEw",
        "colab_type": "code",
        "colab": {
          "base_uri": "https://localhost:8080/",
          "height": 232
        },
        "outputId": "8d28946c-36c0-4dbf-a253-a3d4f946b7e9"
      },
      "source": [
        "# Get the team_1 column from the regular season data\n",
        "input_1 = games_season[\"team_1\"]\n",
        "\n",
        "# Get the team_2 column from the regular season data\n",
        "input_2 = games_season[\"team_2\"]\n",
        "\n",
        "# Fit the model to input 1 and 2, using score diff as a target\n",
        "model.fit([input_1,input_2],\n",
        "          games_season['score_diff'],\n",
        "          epochs=1,\n",
        "          batch_size=2048,\n",
        "          validation_split=0.1,\n",
        "          verbose=True)"
      ],
      "execution_count": 14,
      "outputs": [
        {
          "output_type": "error",
          "ename": "NameError",
          "evalue": "ignored",
          "traceback": [
            "\u001b[0;31m---------------------------------------------------------------------------\u001b[0m",
            "\u001b[0;31mNameError\u001b[0m                                 Traceback (most recent call last)",
            "\u001b[0;32m<ipython-input-14-683648717d71>\u001b[0m in \u001b[0;36m<module>\u001b[0;34m()\u001b[0m\n\u001b[0;32m----> 1\u001b[0;31m \u001b[0minput_1\u001b[0m \u001b[0;34m=\u001b[0m \u001b[0mgames_season\u001b[0m\u001b[0;34m[\u001b[0m\u001b[0;34m\"team_1\"\u001b[0m\u001b[0;34m]\u001b[0m\u001b[0;34m\u001b[0m\u001b[0;34m\u001b[0m\u001b[0m\n\u001b[0m\u001b[1;32m      2\u001b[0m \u001b[0;34m\u001b[0m\u001b[0m\n\u001b[1;32m      3\u001b[0m \u001b[0;31m# Get the team_2 column from the regular season data\u001b[0m\u001b[0;34m\u001b[0m\u001b[0;34m\u001b[0m\u001b[0;34m\u001b[0m\u001b[0m\n\u001b[1;32m      4\u001b[0m \u001b[0minput_2\u001b[0m \u001b[0;34m=\u001b[0m \u001b[0mgames_season\u001b[0m\u001b[0;34m[\u001b[0m\u001b[0;34m\"team_2\"\u001b[0m\u001b[0;34m]\u001b[0m\u001b[0;34m\u001b[0m\u001b[0;34m\u001b[0m\u001b[0m\n\u001b[1;32m      5\u001b[0m \u001b[0;34m\u001b[0m\u001b[0m\n",
            "\u001b[0;31mNameError\u001b[0m: name 'games_season' is not defined"
          ]
        }
      ]
    },
    {
      "cell_type": "code",
      "metadata": {
        "id": "imUfxfc4Hmnp",
        "colab_type": "code",
        "colab": {}
      },
      "source": [
        "# Get team_1 from the tournament data\n",
        "input_1 = games_tourney[\"team_1\"]\n",
        "\n",
        "# Get team_2 from the tournament data\n",
        "input_2 = games_tourney[\"team_2\"]\n",
        "\n",
        "# Evaluate the model using these inputs\n",
        "print(model.evaluate([input_1, input_2], games_tourney[\"score_diff\"], verbose=False))"
      ],
      "execution_count": 0,
      "outputs": []
    }
  ]
}