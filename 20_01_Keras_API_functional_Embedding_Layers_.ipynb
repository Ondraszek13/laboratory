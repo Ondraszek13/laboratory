{
  "nbformat": 4,
  "nbformat_minor": 0,
  "metadata": {
    "colab": {
      "name": "20.01 Keras API functional - Embedding Layers .ipynb",
      "provenance": [],
      "collapsed_sections": [],
      "toc_visible": true,
      "authorship_tag": "ABX9TyOMBpvf8+P+nTN/tReqrv7D",
      "include_colab_link": true
    },
    "kernelspec": {
      "name": "python3",
      "display_name": "Python 3"
    },
    "accelerator": "GPU"
  },
  "cells": [
    {
      "cell_type": "markdown",
      "metadata": {
        "id": "view-in-github",
        "colab_type": "text"
      },
      "source": [
        "<a href=\"https://colab.research.google.com/github/alexiej/laboratory/blob/master/20_01_Keras_API_functional_Embedding_Layers_.ipynb\" target=\"_parent\"><img src=\"https://colab.research.google.com/assets/colab-badge.svg\" alt=\"Open In Colab\"/></a>"
      ]
    },
    {
      "cell_type": "code",
      "metadata": {
        "id": "VzCp6UIgdsn3",
        "colab_type": "code",
        "outputId": "ff154ff2-a74e-47eb-e5ce-05a56535ee17",
        "colab": {
          "base_uri": "https://localhost:8080/",
          "height": 340
        }
      },
      "source": [
        "%tensorflow_version 2.x\n",
        "\n",
        "import numpy as np\n",
        "import pandas as pd\n",
        "import matplotlib.pyplot as plt\n",
        "\n",
        "import tensorflow as tf\n",
        "\n",
        "print(\"Tensorflow version: \", tf.__version__)\n",
        "\n",
        "!nvidia-smi"
      ],
      "execution_count": 1,
      "outputs": [
        {
          "output_type": "stream",
          "text": [
            "TensorFlow 2.x selected.\n",
            "Tensorflow version:  2.1.0\n",
            "Wed Feb 19 14:00:56 2020       \n",
            "+-----------------------------------------------------------------------------+\n",
            "| NVIDIA-SMI 440.48.02    Driver Version: 418.67       CUDA Version: 10.1     |\n",
            "|-------------------------------+----------------------+----------------------+\n",
            "| GPU  Name        Persistence-M| Bus-Id        Disp.A | Volatile Uncorr. ECC |\n",
            "| Fan  Temp  Perf  Pwr:Usage/Cap|         Memory-Usage | GPU-Util  Compute M. |\n",
            "|===============================+======================+======================|\n",
            "|   0  Tesla T4            Off  | 00000000:00:04.0 Off |                    0 |\n",
            "| N/A   54C    P8    10W /  70W |      0MiB / 15079MiB |      0%      Default |\n",
            "+-------------------------------+----------------------+----------------------+\n",
            "                                                                               \n",
            "+-----------------------------------------------------------------------------+\n",
            "| Processes:                                                       GPU Memory |\n",
            "|  GPU       PID   Type   Process name                             Usage      |\n",
            "|=============================================================================|\n",
            "|  No running processes found                                                 |\n",
            "+-----------------------------------------------------------------------------+\n"
          ],
          "name": "stdout"
        }
      ]
    },
    {
      "cell_type": "markdown",
      "metadata": {
        "id": "_70MaGe1eCto",
        "colab_type": "text"
      },
      "source": [
        "## 01 Define Embedding Layer\n",
        "\n",
        "* usefull for t high cardinality categorical variable type of data, like day in the week, month in the year, team number, \n",
        "* Define input dimension as number of dimensions\n",
        "\n",
        "More info: https://medium.com/@satnalikamayank12/on-learning-embeddings-for-categorical-data-using-keras-165ff2773fc9\n"
      ]
    },
    {
      "cell_type": "code",
      "metadata": {
        "id": "BAwFsRyP1IIQ",
        "colab_type": "code",
        "colab": {
          "base_uri": "https://localhost:8080/",
          "height": 666
        },
        "outputId": "9974d1d9-e1e2-4601-d9b3-5fc4d7da4214"
      },
      "source": [
        "!wget https://s3.amazonaws.com/tripdata/201307-citibike-tripdata.zip\n",
        "!unzip -o 201307-citibike-tripdata.zip\n",
        "\n",
        "import pandas as pd\n",
        "data = pd.read_csv('2013-07 - Citi Bike trip data.csv')\n",
        "data['weekday'] = pd.to_datetime(data['starttime']).dt.dayofweek\n",
        "data.head()"
      ],
      "execution_count": 29,
      "outputs": [
        {
          "output_type": "stream",
          "text": [
            "--2020-02-19 14:30:34--  https://s3.amazonaws.com/tripdata/201307-citibike-tripdata.zip\n",
            "Resolving s3.amazonaws.com (s3.amazonaws.com)... 52.216.143.190\n",
            "Connecting to s3.amazonaws.com (s3.amazonaws.com)|52.216.143.190|:443... connected.\n",
            "HTTP request sent, awaiting response... 200 OK\n",
            "Length: 27074629 (26M) [application/zip]\n",
            "Saving to: ‘201307-citibike-tripdata.zip.3’\n",
            "\n",
            "\r          201307-ci   0%[                    ]       0  --.-KB/s               \r         201307-cit  86%[================>   ]  22.35M   112MB/s               \r201307-citibike-tri 100%[===================>]  25.82M   106MB/s    in 0.2s    \n",
            "\n",
            "2020-02-19 14:30:35 (106 MB/s) - ‘201307-citibike-tripdata.zip.3’ saved [27074629/27074629]\n",
            "\n",
            "Archive:  201307-citibike-tripdata.zip\n",
            "  inflating: 2013-07 - Citi Bike trip data.csv  \n"
          ],
          "name": "stdout"
        },
        {
          "output_type": "execute_result",
          "data": {
            "text/html": [
              "<div>\n",
              "<style scoped>\n",
              "    .dataframe tbody tr th:only-of-type {\n",
              "        vertical-align: middle;\n",
              "    }\n",
              "\n",
              "    .dataframe tbody tr th {\n",
              "        vertical-align: top;\n",
              "    }\n",
              "\n",
              "    .dataframe thead th {\n",
              "        text-align: right;\n",
              "    }\n",
              "</style>\n",
              "<table border=\"1\" class=\"dataframe\">\n",
              "  <thead>\n",
              "    <tr style=\"text-align: right;\">\n",
              "      <th></th>\n",
              "      <th>tripduration</th>\n",
              "      <th>starttime</th>\n",
              "      <th>stoptime</th>\n",
              "      <th>start station id</th>\n",
              "      <th>start station name</th>\n",
              "      <th>start station latitude</th>\n",
              "      <th>start station longitude</th>\n",
              "      <th>end station id</th>\n",
              "      <th>end station name</th>\n",
              "      <th>end station latitude</th>\n",
              "      <th>end station longitude</th>\n",
              "      <th>bikeid</th>\n",
              "      <th>usertype</th>\n",
              "      <th>birth year</th>\n",
              "      <th>gender</th>\n",
              "      <th>weekday</th>\n",
              "    </tr>\n",
              "  </thead>\n",
              "  <tbody>\n",
              "    <tr>\n",
              "      <th>0</th>\n",
              "      <td>634</td>\n",
              "      <td>2013-07-01 00:00:00</td>\n",
              "      <td>2013-07-01 00:10:34</td>\n",
              "      <td>164</td>\n",
              "      <td>E 47 St &amp; 2 Ave</td>\n",
              "      <td>40.753231</td>\n",
              "      <td>-73.970325</td>\n",
              "      <td>504</td>\n",
              "      <td>1 Ave &amp; E 15 St</td>\n",
              "      <td>40.732219</td>\n",
              "      <td>-73.981656</td>\n",
              "      <td>16950</td>\n",
              "      <td>Customer</td>\n",
              "      <td>\\N</td>\n",
              "      <td>0</td>\n",
              "      <td>0</td>\n",
              "    </tr>\n",
              "    <tr>\n",
              "      <th>1</th>\n",
              "      <td>1547</td>\n",
              "      <td>2013-07-01 00:00:02</td>\n",
              "      <td>2013-07-01 00:25:49</td>\n",
              "      <td>388</td>\n",
              "      <td>W 26 St &amp; 10 Ave</td>\n",
              "      <td>40.749718</td>\n",
              "      <td>-74.002950</td>\n",
              "      <td>459</td>\n",
              "      <td>W 20 St &amp; 11 Ave</td>\n",
              "      <td>40.746745</td>\n",
              "      <td>-74.007756</td>\n",
              "      <td>19816</td>\n",
              "      <td>Customer</td>\n",
              "      <td>\\N</td>\n",
              "      <td>0</td>\n",
              "      <td>0</td>\n",
              "    </tr>\n",
              "    <tr>\n",
              "      <th>2</th>\n",
              "      <td>178</td>\n",
              "      <td>2013-07-01 00:01:04</td>\n",
              "      <td>2013-07-01 00:04:02</td>\n",
              "      <td>293</td>\n",
              "      <td>Lafayette St &amp; E 8 St</td>\n",
              "      <td>40.730287</td>\n",
              "      <td>-73.990765</td>\n",
              "      <td>237</td>\n",
              "      <td>E 11 St &amp; 2 Ave</td>\n",
              "      <td>40.730473</td>\n",
              "      <td>-73.986724</td>\n",
              "      <td>14548</td>\n",
              "      <td>Subscriber</td>\n",
              "      <td>1980</td>\n",
              "      <td>2</td>\n",
              "      <td>0</td>\n",
              "    </tr>\n",
              "    <tr>\n",
              "      <th>3</th>\n",
              "      <td>1580</td>\n",
              "      <td>2013-07-01 00:01:06</td>\n",
              "      <td>2013-07-01 00:27:26</td>\n",
              "      <td>531</td>\n",
              "      <td>Forsyth St &amp; Broome St</td>\n",
              "      <td>40.718939</td>\n",
              "      <td>-73.992663</td>\n",
              "      <td>499</td>\n",
              "      <td>Broadway &amp; W 60 St</td>\n",
              "      <td>40.769155</td>\n",
              "      <td>-73.981918</td>\n",
              "      <td>16063</td>\n",
              "      <td>Customer</td>\n",
              "      <td>\\N</td>\n",
              "      <td>0</td>\n",
              "      <td>0</td>\n",
              "    </tr>\n",
              "    <tr>\n",
              "      <th>4</th>\n",
              "      <td>757</td>\n",
              "      <td>2013-07-01 00:01:10</td>\n",
              "      <td>2013-07-01 00:13:47</td>\n",
              "      <td>382</td>\n",
              "      <td>University Pl &amp; E 14 St</td>\n",
              "      <td>40.734927</td>\n",
              "      <td>-73.992005</td>\n",
              "      <td>410</td>\n",
              "      <td>Suffolk St &amp; Stanton St</td>\n",
              "      <td>40.720664</td>\n",
              "      <td>-73.985180</td>\n",
              "      <td>19213</td>\n",
              "      <td>Subscriber</td>\n",
              "      <td>1986</td>\n",
              "      <td>1</td>\n",
              "      <td>0</td>\n",
              "    </tr>\n",
              "  </tbody>\n",
              "</table>\n",
              "</div>"
            ],
            "text/plain": [
              "   tripduration            starttime  ... gender  weekday\n",
              "0           634  2013-07-01 00:00:00  ...      0        0\n",
              "1          1547  2013-07-01 00:00:02  ...      0        0\n",
              "2           178  2013-07-01 00:01:04  ...      2        0\n",
              "3          1580  2013-07-01 00:01:06  ...      0        0\n",
              "4           757  2013-07-01 00:01:10  ...      1        0\n",
              "\n",
              "[5 rows x 16 columns]"
            ]
          },
          "metadata": {
            "tags": []
          },
          "execution_count": 29
        }
      ]
    },
    {
      "cell_type": "code",
      "metadata": {
        "id": "UIdLyIcOdxn3",
        "colab_type": "code",
        "colab": {}
      },
      "source": [
        "# Imports\n",
        "from keras.layers import Embedding\n",
        "from numpy import unique\n",
        "\n",
        "# Count the unique number of teams\n",
        "n_stations = unique(data['start station id']).shape[0]\n",
        "\n",
        "team_lookup = Embedding(input_dim=n_teams,\n",
        "                        output_dim=1,\n",
        "                        input_length=1,\n",
        "                        name='Team-Strength')"
      ],
      "execution_count": 0,
      "outputs": []
    },
    {
      "cell_type": "code",
      "metadata": {
        "id": "jelmaTpEejS9",
        "colab_type": "code",
        "colab": {
          "base_uri": "https://localhost:8080/",
          "height": 34
        },
        "outputId": "c9ed6056-2fc4-42a3-c6b9-280c32242189"
      },
      "source": [
        "n_stations"
      ],
      "execution_count": 11,
      "outputs": [
        {
          "output_type": "execute_result",
          "data": {
            "text/plain": [
              "329"
            ]
          },
          "metadata": {
            "tags": []
          },
          "execution_count": 11
        }
      ]
    },
    {
      "cell_type": "code",
      "metadata": {
        "id": "TsNO776h10dR",
        "colab_type": "code",
        "colab": {}
      },
      "source": [
        ""
      ],
      "execution_count": 0,
      "outputs": []
    }
  ]
}