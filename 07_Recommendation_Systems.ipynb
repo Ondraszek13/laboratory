{
  "nbformat": 4,
  "nbformat_minor": 0,
  "metadata": {
    "colab": {
      "name": "07. Recommendation Systems.ipynb",
      "provenance": [],
      "collapsed_sections": [],
      "toc_visible": true,
      "include_colab_link": true
    },
    "kernelspec": {
      "name": "python3",
      "display_name": "Python 3"
    }
  },
  "cells": [
    {
      "cell_type": "markdown",
      "metadata": {
        "id": "view-in-github",
        "colab_type": "text"
      },
      "source": [
        "<a href=\"https://colab.research.google.com/github/alexiej/laboratory/blob/master/07_Recommendation_Systems.ipynb\" target=\"_parent\"><img src=\"https://colab.research.google.com/assets/colab-badge.svg\" alt=\"Open In Colab\"/></a>"
      ]
    },
    {
      "cell_type": "markdown",
      "metadata": {
        "id": "cA16KMHXYUQy",
        "colab_type": "text"
      },
      "source": [
        "# 07. RECOMMENDATION SYSTEM\n",
        "\n",
        "Recommendation systems using different techniques.\n",
        "\n"
      ]
    },
    {
      "cell_type": "code",
      "metadata": {
        "id": "sYCRp5Rym1q8",
        "colab_type": "code",
        "colab": {}
      },
      "source": [
        "import pandas as pd\n",
        "import numpy as np"
      ],
      "execution_count": 0,
      "outputs": []
    },
    {
      "cell_type": "markdown",
      "metadata": {
        "id": "ok2r0tPXb0_k",
        "colab_type": "text"
      },
      "source": [
        "## Measure systems"
      ]
    },
    {
      "cell_type": "code",
      "metadata": {
        "id": "5EftoskgmIsC",
        "colab_type": "code",
        "outputId": "02a6dab3-0813-4223-cca9-69a364c789ba",
        "colab": {
          "base_uri": "https://localhost:8080/",
          "height": 235
        }
      },
      "source": [
        "data = pd.DataFrame([['User1', 'Star Wars', '4'],\n",
        "                     ['User1', 'Star Trek', '4'],\n",
        "                     ['User1', 'StarGate', '3'],\n",
        "                     ['User2', 'Star Trek', '3'],\n",
        "                     ['User2', 'Terminator', '1'],\n",
        "                     ['User2', 'Hobbit', '5']], columns=['User', 'Movie', 'Stars (1-5)'])\n",
        "data"
      ],
      "execution_count": 2,
      "outputs": [
        {
          "output_type": "execute_result",
          "data": {
            "text/html": [
              "<div>\n",
              "<style scoped>\n",
              "    .dataframe tbody tr th:only-of-type {\n",
              "        vertical-align: middle;\n",
              "    }\n",
              "\n",
              "    .dataframe tbody tr th {\n",
              "        vertical-align: top;\n",
              "    }\n",
              "\n",
              "    .dataframe thead th {\n",
              "        text-align: right;\n",
              "    }\n",
              "</style>\n",
              "<table border=\"1\" class=\"dataframe\">\n",
              "  <thead>\n",
              "    <tr style=\"text-align: right;\">\n",
              "      <th></th>\n",
              "      <th>User</th>\n",
              "      <th>Movie</th>\n",
              "      <th>Stars (1-5)</th>\n",
              "    </tr>\n",
              "  </thead>\n",
              "  <tbody>\n",
              "    <tr>\n",
              "      <th>0</th>\n",
              "      <td>User1</td>\n",
              "      <td>Star Wars</td>\n",
              "      <td>4</td>\n",
              "    </tr>\n",
              "    <tr>\n",
              "      <th>1</th>\n",
              "      <td>User1</td>\n",
              "      <td>Star Trek</td>\n",
              "      <td>4</td>\n",
              "    </tr>\n",
              "    <tr>\n",
              "      <th>2</th>\n",
              "      <td>User1</td>\n",
              "      <td>StarGate</td>\n",
              "      <td>3</td>\n",
              "    </tr>\n",
              "    <tr>\n",
              "      <th>3</th>\n",
              "      <td>User2</td>\n",
              "      <td>Star Trek</td>\n",
              "      <td>3</td>\n",
              "    </tr>\n",
              "    <tr>\n",
              "      <th>4</th>\n",
              "      <td>User2</td>\n",
              "      <td>Terminator</td>\n",
              "      <td>1</td>\n",
              "    </tr>\n",
              "    <tr>\n",
              "      <th>5</th>\n",
              "      <td>User2</td>\n",
              "      <td>Hobbit</td>\n",
              "      <td>5</td>\n",
              "    </tr>\n",
              "  </tbody>\n",
              "</table>\n",
              "</div>"
            ],
            "text/plain": [
              "    User       Movie Stars (1-5)\n",
              "0  User1   Star Wars           4\n",
              "1  User1   Star Trek           4\n",
              "2  User1    StarGate           3\n",
              "3  User2   Star Trek           3\n",
              "4  User2  Terminator           1\n",
              "5  User2      Hobbit           5"
            ]
          },
          "metadata": {
            "tags": []
          },
          "execution_count": 2
        }
      ]
    },
    {
      "cell_type": "code",
      "metadata": {
        "id": "ElEMqMPtKV3i",
        "colab_type": "code",
        "colab": {
          "base_uri": "https://localhost:8080/",
          "height": 142
        },
        "outputId": "698e978a-0cec-4319-e0cf-7ffc5290acf8"
      },
      "source": [
        "train_set = data.iloc[[0,1,3]]\n",
        "train_set"
      ],
      "execution_count": 31,
      "outputs": [
        {
          "output_type": "execute_result",
          "data": {
            "text/html": [
              "<div>\n",
              "<style scoped>\n",
              "    .dataframe tbody tr th:only-of-type {\n",
              "        vertical-align: middle;\n",
              "    }\n",
              "\n",
              "    .dataframe tbody tr th {\n",
              "        vertical-align: top;\n",
              "    }\n",
              "\n",
              "    .dataframe thead th {\n",
              "        text-align: right;\n",
              "    }\n",
              "</style>\n",
              "<table border=\"1\" class=\"dataframe\">\n",
              "  <thead>\n",
              "    <tr style=\"text-align: right;\">\n",
              "      <th></th>\n",
              "      <th>User</th>\n",
              "      <th>Movie</th>\n",
              "      <th>Stars (1-5)</th>\n",
              "    </tr>\n",
              "  </thead>\n",
              "  <tbody>\n",
              "    <tr>\n",
              "      <th>0</th>\n",
              "      <td>User1</td>\n",
              "      <td>Star Wars</td>\n",
              "      <td>4</td>\n",
              "    </tr>\n",
              "    <tr>\n",
              "      <th>1</th>\n",
              "      <td>User1</td>\n",
              "      <td>Star Trek</td>\n",
              "      <td>4</td>\n",
              "    </tr>\n",
              "    <tr>\n",
              "      <th>3</th>\n",
              "      <td>User2</td>\n",
              "      <td>Star Trek</td>\n",
              "      <td>3</td>\n",
              "    </tr>\n",
              "  </tbody>\n",
              "</table>\n",
              "</div>"
            ],
            "text/plain": [
              "    User      Movie Stars (1-5)\n",
              "0  User1  Star Wars           4\n",
              "1  User1  Star Trek           4\n",
              "3  User2  Star Trek           3"
            ]
          },
          "metadata": {
            "tags": []
          },
          "execution_count": 31
        }
      ]
    },
    {
      "cell_type": "code",
      "metadata": {
        "id": "rrN1BjqLKaP_",
        "colab_type": "code",
        "colab": {
          "base_uri": "https://localhost:8080/",
          "height": 142
        },
        "outputId": "63bedd5d-1d7a-4295-c7a3-06e136b03e05"
      },
      "source": [
        "test_set = data[~data.index.isin(train_set.index)]\n",
        "test_set"
      ],
      "execution_count": 32,
      "outputs": [
        {
          "output_type": "execute_result",
          "data": {
            "text/html": [
              "<div>\n",
              "<style scoped>\n",
              "    .dataframe tbody tr th:only-of-type {\n",
              "        vertical-align: middle;\n",
              "    }\n",
              "\n",
              "    .dataframe tbody tr th {\n",
              "        vertical-align: top;\n",
              "    }\n",
              "\n",
              "    .dataframe thead th {\n",
              "        text-align: right;\n",
              "    }\n",
              "</style>\n",
              "<table border=\"1\" class=\"dataframe\">\n",
              "  <thead>\n",
              "    <tr style=\"text-align: right;\">\n",
              "      <th></th>\n",
              "      <th>User</th>\n",
              "      <th>Movie</th>\n",
              "      <th>Stars (1-5)</th>\n",
              "    </tr>\n",
              "  </thead>\n",
              "  <tbody>\n",
              "    <tr>\n",
              "      <th>2</th>\n",
              "      <td>User1</td>\n",
              "      <td>StarGate</td>\n",
              "      <td>3</td>\n",
              "    </tr>\n",
              "    <tr>\n",
              "      <th>4</th>\n",
              "      <td>User2</td>\n",
              "      <td>Terminator</td>\n",
              "      <td>1</td>\n",
              "    </tr>\n",
              "    <tr>\n",
              "      <th>5</th>\n",
              "      <td>User2</td>\n",
              "      <td>Hobbit</td>\n",
              "      <td>5</td>\n",
              "    </tr>\n",
              "  </tbody>\n",
              "</table>\n",
              "</div>"
            ],
            "text/plain": [
              "    User       Movie Stars (1-5)\n",
              "2  User1    StarGate           3\n",
              "4  User2  Terminator           1\n",
              "5  User2      Hobbit           5"
            ]
          },
          "metadata": {
            "tags": []
          },
          "execution_count": 32
        }
      ]
    },
    {
      "cell_type": "markdown",
      "metadata": {
        "id": "YA8eNnHhb3XZ",
        "colab_type": "text"
      },
      "source": [
        "### Top-N Hit Rate\n",
        "\n",
        "In this measure system we've got a recommendation system that give us TOP-N recommendations, so next if the element exists in our test set it is consider as a hit. \n",
        "\n",
        "$\\begin{align*}top\\_n\\_hitrate=\\frac{hits}{users}\\end{align*}$"
      ]
    },
    {
      "cell_type": "markdown",
      "metadata": {
        "id": "Y20WE5uICmgU",
        "colab_type": "text"
      },
      "source": [
        "Recommendations (output of the recommendation system, based on the train environment). That's why you find also movies that have been seen (this is our HIT):\n",
        "\n",
        "User | Movie | Position\n",
        "--- | --- | ---\n",
        "User1 | Godzilla | 0\n",
        "User1 | StarGate | 1 (HIT)\n",
        "User1 | Independance Day | 2\n",
        "User2 | Godzilla | 0\n",
        "User2 | Terminator | 1 (HIT)\n",
        "User2 | Independance Day | 2\n",
        "\n",
        "\n",
        "$\\begin{align*}top\\_n\\_hitrate=\\frac{hits}{users}=\\frac{2}{2}=1.0\\end{align*}$\n",
        "\n",
        "Divide by the number of recommendation in the top N (N=3). Our hit rate is 33%"
      ]
    },
    {
      "cell_type": "code",
      "metadata": {
        "id": "Xg-nEOSoB0Za",
        "colab_type": "code",
        "colab": {
          "base_uri": "https://localhost:8080/",
          "height": 235
        },
        "outputId": "db6939dc-5801-414b-b9e7-db5c56be0ce2"
      },
      "source": [
        "recommendation = pd.DataFrame( [['User1', 'Godzilla', 0],\n",
        "                                ['User1', 'StarGate', 1],\n",
        "                                ['User1', 'Independence Day', 2],\n",
        "                                ['User2', 'Godzilla', 0],\n",
        "                                ['User2', 'Terminator', 1],\n",
        "                                ['User2', 'Indepndance Day', 2]], columns=['User', 'Movie', 'Position'])\n",
        "recommendation"
      ],
      "execution_count": 6,
      "outputs": [
        {
          "output_type": "execute_result",
          "data": {
            "text/html": [
              "<div>\n",
              "<style scoped>\n",
              "    .dataframe tbody tr th:only-of-type {\n",
              "        vertical-align: middle;\n",
              "    }\n",
              "\n",
              "    .dataframe tbody tr th {\n",
              "        vertical-align: top;\n",
              "    }\n",
              "\n",
              "    .dataframe thead th {\n",
              "        text-align: right;\n",
              "    }\n",
              "</style>\n",
              "<table border=\"1\" class=\"dataframe\">\n",
              "  <thead>\n",
              "    <tr style=\"text-align: right;\">\n",
              "      <th></th>\n",
              "      <th>User</th>\n",
              "      <th>Movie</th>\n",
              "      <th>Position</th>\n",
              "    </tr>\n",
              "  </thead>\n",
              "  <tbody>\n",
              "    <tr>\n",
              "      <th>0</th>\n",
              "      <td>User1</td>\n",
              "      <td>Godzilla</td>\n",
              "      <td>0</td>\n",
              "    </tr>\n",
              "    <tr>\n",
              "      <th>1</th>\n",
              "      <td>User1</td>\n",
              "      <td>StarGate</td>\n",
              "      <td>1</td>\n",
              "    </tr>\n",
              "    <tr>\n",
              "      <th>2</th>\n",
              "      <td>User1</td>\n",
              "      <td>Independence Day</td>\n",
              "      <td>2</td>\n",
              "    </tr>\n",
              "    <tr>\n",
              "      <th>3</th>\n",
              "      <td>User2</td>\n",
              "      <td>Godzilla</td>\n",
              "      <td>0</td>\n",
              "    </tr>\n",
              "    <tr>\n",
              "      <th>4</th>\n",
              "      <td>User2</td>\n",
              "      <td>Terminator</td>\n",
              "      <td>1</td>\n",
              "    </tr>\n",
              "    <tr>\n",
              "      <th>5</th>\n",
              "      <td>User2</td>\n",
              "      <td>Indepndance Day</td>\n",
              "      <td>2</td>\n",
              "    </tr>\n",
              "  </tbody>\n",
              "</table>\n",
              "</div>"
            ],
            "text/plain": [
              "    User             Movie  Position\n",
              "0  User1          Godzilla         0\n",
              "1  User1          StarGate         1\n",
              "2  User1  Independence Day         2\n",
              "3  User2          Godzilla         0\n",
              "4  User2        Terminator         1\n",
              "5  User2   Indepndance Day         2"
            ]
          },
          "metadata": {
            "tags": []
          },
          "execution_count": 6
        }
      ]
    },
    {
      "cell_type": "code",
      "metadata": {
        "id": "-kxaARf0mBVg",
        "colab_type": "code",
        "colab": {
          "base_uri": "https://localhost:8080/",
          "height": 34
        },
        "outputId": "34074537-d664-4106-919e-41336d7ff69d"
      },
      "source": [
        "def get_top_n_hitrate(data, recommendation):\n",
        "   hits = len(data.merge(recommendation,on=['User', 'Movie']))\n",
        "   users = len(data['User'].unique())\n",
        "\n",
        "   N = len(recommendation)/len(recommendation['User'].unique())\n",
        "   return 0 if users == 0 else (hits/users) / N\n",
        "\n",
        "print(f'Our Hit Rate is equal to: {get_top_n_hitrate(data, recommendation):.2%}')"
      ],
      "execution_count": 30,
      "outputs": [
        {
          "output_type": "stream",
          "text": [
            "Our Hit Rate is equal to: 33.33%\n"
          ],
          "name": "stdout"
        }
      ]
    },
    {
      "cell_type": "markdown",
      "metadata": {
        "id": "braXZDCKIwz6",
        "colab_type": "text"
      },
      "source": [
        "### Top-N Hit Leave One Out Cross Validation\n",
        "\n",
        "In our recommendation system we remove one item, and generate recommendation for that user. If the recommendation contains the leave it item we count it as a hit (`hit+=1`, otherwise we only increase number if total `total+=1`) \n",
        "\n",
        "For the example, we've got two users `train_set`. \n",
        "\n",
        "* We remove from the test set one item ` [('User1', 'StarGate'), ('User2', 'Terminator')]`\n",
        "* We return TrainSet with excluded items from previous point."
      ]
    },
    {
      "cell_type": "code",
      "metadata": {
        "id": "05daWY5-Iv5P",
        "colab_type": "code",
        "colab": {
          "base_uri": "https://localhost:8080/",
          "height": 190
        },
        "outputId": "770f02b9-125e-4b0f-dea8-d88786545058"
      },
      "source": [
        "train_set = pd.DataFrame([['User1', 'Star Wars', '4'],\n",
        "                        ['User1', 'Star Trek', '4'],\n",
        "                        ['User1', 'StarGate', '3'],\n",
        "                        ['User2', 'Star Trek', '3'],\n",
        "                        ['User2', 'Terminator', '1'],\n",
        "                        ['User2', 'Hobbit', '5']], columns=['User', 'Movie', 'Stars (1-5)'])\n",
        "\n",
        "np.random.seed(1) # require to get the same data\n",
        "\n",
        "def get_left_out_prediction_movies(df):\n",
        "  # We remove one item for each item, and by this get the recommendation\n",
        "  left_out_rows = df.sample(frac=1).groupby('User').head(1)\n",
        "  rows_to_topn = df[~df.index.isin(items.index)]\n",
        "  return [ (row['User'], row['Movie']) for index,row in left_out_rows.iterrows()], rows_to_topn\n",
        "\n",
        "left_out_predictions, rows_to_topn = get_left_out_prediction_movies(train_set)\n",
        "print('Left out prediction movies: ', left_out_predictions)\n",
        "rows_to_topn"
      ],
      "execution_count": 168,
      "outputs": [
        {
          "output_type": "stream",
          "text": [
            "Left out prediction movies:  [('User1', 'StarGate'), ('User2', 'Terminator')]\n"
          ],
          "name": "stdout"
        },
        {
          "output_type": "execute_result",
          "data": {
            "text/html": [
              "<div>\n",
              "<style scoped>\n",
              "    .dataframe tbody tr th:only-of-type {\n",
              "        vertical-align: middle;\n",
              "    }\n",
              "\n",
              "    .dataframe tbody tr th {\n",
              "        vertical-align: top;\n",
              "    }\n",
              "\n",
              "    .dataframe thead th {\n",
              "        text-align: right;\n",
              "    }\n",
              "</style>\n",
              "<table border=\"1\" class=\"dataframe\">\n",
              "  <thead>\n",
              "    <tr style=\"text-align: right;\">\n",
              "      <th></th>\n",
              "      <th>User</th>\n",
              "      <th>Movie</th>\n",
              "      <th>Stars (1-5)</th>\n",
              "    </tr>\n",
              "  </thead>\n",
              "  <tbody>\n",
              "    <tr>\n",
              "      <th>0</th>\n",
              "      <td>User1</td>\n",
              "      <td>Star Wars</td>\n",
              "      <td>4</td>\n",
              "    </tr>\n",
              "    <tr>\n",
              "      <th>1</th>\n",
              "      <td>User1</td>\n",
              "      <td>Star Trek</td>\n",
              "      <td>4</td>\n",
              "    </tr>\n",
              "    <tr>\n",
              "      <th>3</th>\n",
              "      <td>User2</td>\n",
              "      <td>Star Trek</td>\n",
              "      <td>3</td>\n",
              "    </tr>\n",
              "    <tr>\n",
              "      <th>5</th>\n",
              "      <td>User2</td>\n",
              "      <td>Hobbit</td>\n",
              "      <td>5</td>\n",
              "    </tr>\n",
              "  </tbody>\n",
              "</table>\n",
              "</div>"
            ],
            "text/plain": [
              "    User      Movie Stars (1-5)\n",
              "0  User1  Star Wars           4\n",
              "1  User1  Star Trek           4\n",
              "3  User2  Star Trek           3\n",
              "5  User2     Hobbit           5"
            ]
          },
          "metadata": {
            "tags": []
          },
          "execution_count": 168
        }
      ]
    },
    {
      "cell_type": "markdown",
      "metadata": {
        "id": "ttQDtXf2jHqc",
        "colab_type": "text"
      },
      "source": [
        "* Get recommendation for train set from previous point (without leave one movies)."
      ]
    },
    {
      "cell_type": "code",
      "metadata": {
        "id": "z_aLVxPKge3V",
        "colab_type": "code",
        "colab": {
          "base_uri": "https://localhost:8080/",
          "height": 51
        },
        "outputId": "1b8b4986-afb9-4b14-a855-0596c5e7ba99"
      },
      "source": [
        "def get_topn_recommendation(df, n = 3):\n",
        "  return {\n",
        "         'User1': ['Jurrasic Park', 'Hobbit', 'Blade Runner'], \n",
        "          'User2': ['Terminator', 'Space Odyssey', 'Alien']}\n",
        "\n",
        "topn_recommendation = get_topn_recommendation(rows_to_topn)\n",
        "topn_recommendation"
      ],
      "execution_count": 165,
      "outputs": [
        {
          "output_type": "execute_result",
          "data": {
            "text/plain": [
              "{'User1': ['Jurrasic Park', 'Hobbit', 'Blade Runner'],\n",
              " 'User2': ['Terminator', 'Space Odyssey', 'Alien']}"
            ]
          },
          "metadata": {
            "tags": []
          },
          "execution_count": 165
        }
      ]
    },
    {
      "cell_type": "markdown",
      "metadata": {
        "id": "XQz_dTYdj2Mh",
        "colab_type": "text"
      },
      "source": [
        "* Based on the recommendation we check if the movie exist in the recommendation list, if yes increase hit. In the example excluded `Terminator` for `User2` exist in the recommendation so we have 1 hit, and total number of users is 2. In the output we get 0.5"
      ]
    },
    {
      "cell_type": "code",
      "metadata": {
        "id": "uKJXPJmahMTC",
        "colab_type": "code",
        "colab": {
          "base_uri": "https://localhost:8080/",
          "height": 34
        },
        "outputId": "480aafaf-8b4d-4364-ed20-c0559c07c9cf"
      },
      "source": [
        "def get_topn_hitrate_leave_one_out(topn_recommendation, left_out_predictions):\n",
        "    hit = 0 \n",
        "    total = 0\n",
        "    for left_out in left_out_predictions:\n",
        "      user = left_out[0]\n",
        "      left_out_movie = left_out[1] \n",
        "      recommendation = topn_recommendation[user]\n",
        "      if left_out_movie in recommendation:\n",
        "        hit+=1\n",
        "      total += 1\n",
        "    return hit/total\n",
        "\n",
        "get_topn_hitrate_leave_one_out(topn_recommendation, left_out_predictions)"
      ],
      "execution_count": 172,
      "outputs": [
        {
          "output_type": "execute_result",
          "data": {
            "text/plain": [
              "0.5"
            ]
          },
          "metadata": {
            "tags": []
          },
          "execution_count": 172
        }
      ]
    },
    {
      "cell_type": "markdown",
      "metadata": {
        "id": "u8gUd-UpkRov",
        "colab_type": "text"
      },
      "source": [
        "#### CONS\n",
        "\n",
        "* For real data it is very low value, like 0.001, because it is hard to find this exactly one excluded movie in the database. \n",
        "* Requires a huge database of user raitings"
      ]
    },
    {
      "cell_type": "markdown",
      "metadata": {
        "id": "zGOwAVPpanE0",
        "colab_type": "text"
      },
      "source": [
        "## COSINE SIMILARITY\n",
        "\n",
        "\n",
        "https://en.wikipedia.org/wiki/Cosine_similarity\n",
        "---\n",
        "\n"
      ]
    },
    {
      "cell_type": "code",
      "metadata": {
        "id": "j1jg0hB-YQhP",
        "colab_type": "code",
        "colab": {}
      },
      "source": [
        ""
      ],
      "execution_count": 0,
      "outputs": []
    }
  ]
}